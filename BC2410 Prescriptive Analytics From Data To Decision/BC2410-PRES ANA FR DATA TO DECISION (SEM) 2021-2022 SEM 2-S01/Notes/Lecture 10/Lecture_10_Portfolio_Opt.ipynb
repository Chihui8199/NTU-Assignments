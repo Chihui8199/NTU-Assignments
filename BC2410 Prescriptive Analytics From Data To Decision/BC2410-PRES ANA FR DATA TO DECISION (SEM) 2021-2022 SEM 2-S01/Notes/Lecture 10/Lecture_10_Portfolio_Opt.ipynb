{
 "cells": [
  {
   "cell_type": "markdown",
   "metadata": {},
   "source": [
    "# Portfolio Optimization\n",
    "\n",
    "**Portfolio**: A portfolio is a collection of financial instruments like stocks, bonds, commodities, cash and cash equivalents , as well as their fund counterparts. [Investopedia]\n",
    "\n",
    "**Returns**: It refers to the gain or loss on our asset/portfolio over a fixed time frame. In this analysis, we make a return as the percentage change in the closing price of the asset over the previous day’s closing price. We will compute the returns using .pct_change() function in python. #https://www.analyticsvidhya.com/blog/2021/04/portfolio-optimization-using-mpt-in-python/\n",
    "\n",
    "**Portfolio optimization**: The process of creating a portfolio of assets, for which your investment has the maximum return and minimum risk.\n",
    "\n",
    "But how do we decide out of an infinite possible combinations for portfolios, the one which is optimum?\n",
    "\n",
    "**Modern Portfolio Theory**, or also known as mean-variance analysis is a mathematical process which allows the user to maximize returns for a given risk level.\n",
    "\n",
    "* It was formulated by H. Markowitz and while it is not the only optimization technique known, it is the most widely used.\n",
    "\n",
    "* MPT assumes that all investors are risk-averse, i.e, if there is a choice between low risk and high risk portfolios with the same returns, an investor will choose one with the low risk.\n",
    "\n",
    "Specifically, given the historical data of $n$ stocks:\n",
    "* $\\tilde{r}_i$: Reward from stock $i$ (random variable)\n",
    "* $\\mu_i = {\\rm E}(\\tilde{r}_i)$: expected reward from stock $i$\n",
    "* ${\\rm Var}(\\tilde{r}_i):$ variance in reward from stock $i$\n",
    "* $\\sigma_{ij} = {\\rm E}((\\tilde{r}_i - \\mu_i)(\\tilde{r}_j - \\mu_j)) = {\\rm  Cov}(\\tilde{r}_i,\\tilde{r}_j)$. Note that $\\sigma_{ii} = {\\rm Var}(\\tilde{r}_i):$\n",
    "* Budget $B$, target $\\beta$ on expected portfolio reward\n",
    "\n",
    "we want to decide the amount to invest in stock $i$---denoted as $x_i$---to minimize total portfolio variance so that:\n",
    "* expected reward of total portfolio is above target β\n",
    "* total amount invested stay within our budget\n",
    "\n",
    "(Note that we do not consider short sales here)\n",
    "\n",
    "We can formulate the portfolio problem as follows:\n",
    "\n",
    "$$\n",
    "\\begin{align}\n",
    "\\min\\ & \\boldsymbol{x}^\\top \\boldsymbol{\\Sigma} \\boldsymbol{x}\\\\\n",
    "\\mbox{s.t.}\\ & \\boldsymbol{\\mu}^\\top \\boldsymbol{x} \\geq \\beta\\\\\n",
    "&\\boldsymbol{1}^\\top \\boldsymbol{x} \\leq B\\\\\n",
    "&\\boldsymbol{x} \\leq \\boldsymbol{1}\\\\\n",
    "&\\boldsymbol{x} \\geq \\boldsymbol{0}\n",
    "\\end{align}\n",
    "$$\n",
    "\n",
    "Now please try to obtain the parameters in the model from real stock data and solve the model by using RSOME."
   ]
  },
  {
   "cell_type": "code",
   "execution_count": 1,
   "metadata": {},
   "outputs": [],
   "source": [
    "import pandas as pd\n",
    "import numpy as np\n",
    "import pickle\n",
    "import folium\n",
    "from folium.plugins import BeautifyIcon\n",
    "import matplotlib.pyplot as plt\n",
    "\n",
    "import rsome as rso\n",
    "from rsome import ro\n",
    "from rsome import grb_solver as grb"
   ]
  },
  {
   "cell_type": "markdown",
   "metadata": {},
   "source": [
    "### Step 1 Pull the stock price data from yahoo finance\n",
    "\n",
    "The first step is to is to pull the required data from a verified site such as Yahoo or Quandl. The example below uses Yahoo and the dates for which we will be pulling the data is from 1st January, 2010 to 31st December, 2019. Note that we only use the closing price `\"Adj Close\"`."
   ]
  },
  {
   "cell_type": "code",
   "execution_count": 2,
   "metadata": {},
   "outputs": [],
   "source": [
    "#https://amangupta16.medium.com/portfolio-optimization-using-python-part-1-2-9fd80097a606\n",
    "# Creating a list of Stock Tickers\n",
    "from pandas_datareader import data as wb\n",
    "stocks = ['HSBC','JPM','AAPL','WMT','AMZN','MSFT']\n",
    "price_data = pd.DataFrame()\n",
    "# Pulling closing price   \n",
    "for stock in stocks:\n",
    "    price_data[stock] = wb.DataReader(stock, data_source = 'yahoo', start = '2010-1-1', end = '2019-12-31')['Adj Close']\n",
    "num_stocks = len(stocks)"
   ]
  },
  {
   "cell_type": "code",
   "execution_count": 3,
   "metadata": {},
   "outputs": [
    {
     "data": {
      "text/html": [
       "<div>\n",
       "<style scoped>\n",
       "    .dataframe tbody tr th:only-of-type {\n",
       "        vertical-align: middle;\n",
       "    }\n",
       "\n",
       "    .dataframe tbody tr th {\n",
       "        vertical-align: top;\n",
       "    }\n",
       "\n",
       "    .dataframe thead th {\n",
       "        text-align: right;\n",
       "    }\n",
       "</style>\n",
       "<table border=\"1\" class=\"dataframe\">\n",
       "  <thead>\n",
       "    <tr style=\"text-align: right;\">\n",
       "      <th></th>\n",
       "      <th>HSBC</th>\n",
       "      <th>JPM</th>\n",
       "      <th>AAPL</th>\n",
       "      <th>WMT</th>\n",
       "      <th>AMZN</th>\n",
       "      <th>MSFT</th>\n",
       "    </tr>\n",
       "    <tr>\n",
       "      <th>Date</th>\n",
       "      <th></th>\n",
       "      <th></th>\n",
       "      <th></th>\n",
       "      <th></th>\n",
       "      <th></th>\n",
       "      <th></th>\n",
       "    </tr>\n",
       "  </thead>\n",
       "  <tbody>\n",
       "    <tr>\n",
       "      <th>2009-12-31</th>\n",
       "      <td>30.848900</td>\n",
       "      <td>30.619137</td>\n",
       "      <td>6.444380</td>\n",
       "      <td>40.166721</td>\n",
       "      <td>134.520004</td>\n",
       "      <td>23.493389</td>\n",
       "    </tr>\n",
       "    <tr>\n",
       "      <th>2010-01-04</th>\n",
       "      <td>31.513542</td>\n",
       "      <td>31.524031</td>\n",
       "      <td>6.544689</td>\n",
       "      <td>40.752876</td>\n",
       "      <td>133.899994</td>\n",
       "      <td>23.855656</td>\n",
       "    </tr>\n",
       "    <tr>\n",
       "      <th>2010-01-05</th>\n",
       "      <td>32.016068</td>\n",
       "      <td>32.134651</td>\n",
       "      <td>6.556003</td>\n",
       "      <td>40.347069</td>\n",
       "      <td>134.690002</td>\n",
       "      <td>23.863365</td>\n",
       "    </tr>\n",
       "    <tr>\n",
       "      <th>2010-01-06</th>\n",
       "      <td>32.053886</td>\n",
       "      <td>32.311207</td>\n",
       "      <td>6.451721</td>\n",
       "      <td>40.256889</td>\n",
       "      <td>132.250000</td>\n",
       "      <td>23.716919</td>\n",
       "    </tr>\n",
       "    <tr>\n",
       "      <th>2010-01-07</th>\n",
       "      <td>31.951227</td>\n",
       "      <td>32.951267</td>\n",
       "      <td>6.439795</td>\n",
       "      <td>40.279438</td>\n",
       "      <td>130.000000</td>\n",
       "      <td>23.470264</td>\n",
       "    </tr>\n",
       "    <tr>\n",
       "      <th>...</th>\n",
       "      <td>...</td>\n",
       "      <td>...</td>\n",
       "      <td>...</td>\n",
       "      <td>...</td>\n",
       "      <td>...</td>\n",
       "      <td>...</td>\n",
       "    </tr>\n",
       "    <tr>\n",
       "      <th>2019-12-24</th>\n",
       "      <td>35.171291</td>\n",
       "      <td>128.735016</td>\n",
       "      <td>69.938210</td>\n",
       "      <td>115.707703</td>\n",
       "      <td>1789.209961</td>\n",
       "      <td>154.117050</td>\n",
       "    </tr>\n",
       "    <tr>\n",
       "      <th>2019-12-26</th>\n",
       "      <td>35.380371</td>\n",
       "      <td>130.101151</td>\n",
       "      <td>71.325798</td>\n",
       "      <td>115.717377</td>\n",
       "      <td>1868.770020</td>\n",
       "      <td>155.380295</td>\n",
       "    </tr>\n",
       "    <tr>\n",
       "      <th>2019-12-27</th>\n",
       "      <td>35.453098</td>\n",
       "      <td>130.194717</td>\n",
       "      <td>71.298737</td>\n",
       "      <td>115.785141</td>\n",
       "      <td>1869.800049</td>\n",
       "      <td>155.664307</td>\n",
       "    </tr>\n",
       "    <tr>\n",
       "      <th>2019-12-30</th>\n",
       "      <td>35.434917</td>\n",
       "      <td>129.717499</td>\n",
       "      <td>71.721909</td>\n",
       "      <td>115.601189</td>\n",
       "      <td>1846.890015</td>\n",
       "      <td>154.322693</td>\n",
       "    </tr>\n",
       "    <tr>\n",
       "      <th>2019-12-31</th>\n",
       "      <td>35.534920</td>\n",
       "      <td>130.438004</td>\n",
       "      <td>72.245934</td>\n",
       "      <td>115.058998</td>\n",
       "      <td>1847.839966</td>\n",
       "      <td>154.430405</td>\n",
       "    </tr>\n",
       "  </tbody>\n",
       "</table>\n",
       "<p>2517 rows × 6 columns</p>\n",
       "</div>"
      ],
      "text/plain": [
       "                 HSBC         JPM       AAPL         WMT         AMZN  \\\n",
       "Date                                                                    \n",
       "2009-12-31  30.848900   30.619137   6.444380   40.166721   134.520004   \n",
       "2010-01-04  31.513542   31.524031   6.544689   40.752876   133.899994   \n",
       "2010-01-05  32.016068   32.134651   6.556003   40.347069   134.690002   \n",
       "2010-01-06  32.053886   32.311207   6.451721   40.256889   132.250000   \n",
       "2010-01-07  31.951227   32.951267   6.439795   40.279438   130.000000   \n",
       "...               ...         ...        ...         ...          ...   \n",
       "2019-12-24  35.171291  128.735016  69.938210  115.707703  1789.209961   \n",
       "2019-12-26  35.380371  130.101151  71.325798  115.717377  1868.770020   \n",
       "2019-12-27  35.453098  130.194717  71.298737  115.785141  1869.800049   \n",
       "2019-12-30  35.434917  129.717499  71.721909  115.601189  1846.890015   \n",
       "2019-12-31  35.534920  130.438004  72.245934  115.058998  1847.839966   \n",
       "\n",
       "                  MSFT  \n",
       "Date                    \n",
       "2009-12-31   23.493389  \n",
       "2010-01-04   23.855656  \n",
       "2010-01-05   23.863365  \n",
       "2010-01-06   23.716919  \n",
       "2010-01-07   23.470264  \n",
       "...                ...  \n",
       "2019-12-24  154.117050  \n",
       "2019-12-26  155.380295  \n",
       "2019-12-27  155.664307  \n",
       "2019-12-30  154.322693  \n",
       "2019-12-31  154.430405  \n",
       "\n",
       "[2517 rows x 6 columns]"
      ]
     },
     "execution_count": 3,
     "metadata": {},
     "output_type": "execute_result"
    }
   ],
   "source": [
    "price_data"
   ]
  },
  {
   "cell_type": "markdown",
   "metadata": {},
   "source": [
    "Plotting normalized returns to have a visualization of the data"
   ]
  },
  {
   "cell_type": "code",
   "execution_count": 4,
   "metadata": {
    "scrolled": true
   },
   "outputs": [
    {
     "data": {
      "image/png": "[encoded data removed]",
      "text/plain": [
       "<Figure size 720x360 with 1 Axes>"
      ]
     },
     "metadata": {
      "needs_background": "light"
     },
     "output_type": "display_data"
    }
   ],
   "source": [
    "(price_data / price_data.iloc[0] * 100).plot(figsize=(10, 5))\n",
    "plt.show()"
   ]
  },
  {
   "cell_type": "code",
   "execution_count": null,
   "metadata": {},
   "outputs": [],
   "source": []
  },
  {
   "cell_type": "code",
   "execution_count": null,
   "metadata": {},
   "outputs": [],
   "source": []
  },
  {
   "cell_type": "code",
   "execution_count": null,
   "metadata": {},
   "outputs": [],
   "source": []
  },
  {
   "cell_type": "code",
   "execution_count": null,
   "metadata": {},
   "outputs": [],
   "source": []
  },
  {
   "cell_type": "code",
   "execution_count": null,
   "metadata": {},
   "outputs": [],
   "source": []
  },
  {
   "cell_type": "code",
   "execution_count": null,
   "metadata": {},
   "outputs": [],
   "source": []
  },
  {
   "cell_type": "code",
   "execution_count": null,
   "metadata": {},
   "outputs": [],
   "source": []
  },
  {
   "cell_type": "code",
   "execution_count": null,
   "metadata": {},
   "outputs": [],
   "source": []
  },
  {
   "cell_type": "code",
   "execution_count": null,
   "metadata": {},
   "outputs": [],
   "source": []
  },
  {
   "cell_type": "code",
   "execution_count": null,
   "metadata": {},
   "outputs": [],
   "source": []
  },
  {
   "cell_type": "markdown",
   "metadata": {},
   "source": [
    "What if we set different target $\\beta$, for example, $\\beta \\in \\{0.001, 0.002, 0.003, \\ldots, 0.500\\}$?"
   ]
  },
  {
   "cell_type": "code",
   "execution_count": null,
   "metadata": {},
   "outputs": [],
   "source": []
  },
  {
   "cell_type": "code",
   "execution_count": null,
   "metadata": {},
   "outputs": [],
   "source": []
  },
  {
   "cell_type": "code",
   "execution_count": null,
   "metadata": {},
   "outputs": [],
   "source": []
  },
  {
   "cell_type": "code",
   "execution_count": null,
   "metadata": {},
   "outputs": [],
   "source": []
  }
 ],
 "metadata": {
  "kernelspec": {
   "display_name": "Python 3",
   "language": "python",
   "name": "python3"
  },
  "language_info": {
   "codemirror_mode": {
    "name": "ipython",
    "version": 3
   },
   "file_extension": ".py",
   "mimetype": "text/x-python",
   "name": "python",
   "nbconvert_exporter": "python",
   "pygments_lexer": "ipython3",
   "version": "3.7.4"
  }
 },
 "nbformat": 4,
 "nbformat_minor": 4
}
