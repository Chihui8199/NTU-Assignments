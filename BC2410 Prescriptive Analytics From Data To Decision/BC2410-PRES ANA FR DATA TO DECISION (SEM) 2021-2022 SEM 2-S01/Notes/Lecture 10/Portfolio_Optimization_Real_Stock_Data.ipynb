{
 "cells": [
  {
   "cell_type": "markdown",
   "metadata": {},
   "source": [
    "# Portfolio Optimization\n",
    "\n",
    "**Portfolio**: A portfolio is a collection of financial instruments like stocks, bonds, commodities, cash and cash equivalents , as well as their fund counterparts. [Investopedia]\n",
    "\n",
    "**Returns**: It refers to the gain or loss on our asset/portfolio over a fixed time frame. In this analysis, we make a return as the percentage change in the closing price of the asset over the previous day’s closing price. We will compute the returns using .pct_change() function in python. #https://www.analyticsvidhya.com/blog/2021/04/portfolio-optimization-using-mpt-in-python/\n",
    "\n",
    "**Portfolio optimization**: The process of creating a portfolio of assets, for which your investment has the maximum return and minimum risk.\n",
    "\n",
    "But how do we decide out of an infinite possible combinations for portfolios, the one which is optimum?\n",
    "\n",
    "**Modern Portfolio Theory**, or also known as mean-variance analysis is a mathematical process which allows the user to maximize returns for a given risk level.\n",
    "\n",
    "* It was formulated by H. Markowitz and while it is not the only optimization technique known, it is the most widely used.\n",
    "\n",
    "* MPT assumes that all investors are risk-averse, i.e, if there is a choice between low risk and high risk portfolios with the same returns, an investor will choose one with the low risk.\n",
    "\n",
    "Specifically, given the historical data of $n$ stocks:\n",
    "* $\\tilde{r}_i$: Reward from stock $i$ (random variable)\n",
    "* $\\mu_i = {\\rm E}(\\tilde{r}_i)$: expected reward from stock $i$\n",
    "* ${\\rm Var}(\\tilde{r}_i):$ variance in reward from stock $i$\n",
    "* $\\sigma_{ij} = {\\rm E}((\\tilde{r}_i - \\mu_i)(\\tilde{r}_j - \\mu_j)) = {\\rm  Cov}(\\tilde{r}_i,\\tilde{r}_j)$. Note that $\\sigma_{ii} = {\\rm Var}(\\tilde{r}_i):$\n",
    "* Budget $B$, target $\\beta$ on expected portfolio reward\n",
    "\n",
    "we want to decide the amount to invest in stock $i$---denoted as $x_i$---to minimize total portfolio variance so that:\n",
    "* expected reward of total portfolio is above target β\n",
    "* total amount invested stay within our budget\n",
    "\n",
    "(Note that we do not consider short sales here)\n",
    "\n",
    "We can formulate the portfolio problem as follows:\n",
    "\n",
    "$$\n",
    "\\begin{align}\n",
    "\\min\\ & \\boldsymbol{x}^\\top \\boldsymbol{\\Sigma} \\boldsymbol{x}\\\\\n",
    "\\mbox{s.t.}\\ & \\boldsymbol{\\mu}^\\top \\boldsymbol{x} \\geq \\beta\\\\\n",
    "&\\boldsymbol{1}^\\top \\boldsymbol{x} \\leq B\\\\\n",
    "&\\boldsymbol{x} \\leq \\boldsymbol{1}\\\\\n",
    "&\\boldsymbol{x} \\geq \\boldsymbol{0}\n",
    "\\end{align}\n",
    "$$\n",
    "\n",
    "Now let's go through some fundamental terms in portfolio optimization step by step and solve the above model at the end. "
   ]
  },
  {
   "cell_type": "code",
   "execution_count": 1,
   "metadata": {},
   "outputs": [],
   "source": [
    "import pandas as pd\n",
    "import numpy as np\n",
    "import pickle\n",
    "import folium\n",
    "from folium.plugins import BeautifyIcon\n",
    "import matplotlib.pyplot as plt\n",
    "from pandas_datareader import data\n",
    "\n",
    "import rsome as rso\n",
    "from rsome import ro\n",
    "from rsome import grb_solver as grb"
   ]
  },
  {
   "cell_type": "markdown",
   "metadata": {},
   "source": [
    "### Step 1 Pull the stock price data from yahoo finance\n",
    "\n",
    "The first step is to is to pull the required data from a verified site such as Yahoo or Quandl. The example below uses Yahoo and the dates for which we will be pulling the data is from 1st January, 2010 to 31st December, 2019. Note that we only use the closing price `\"Adj Close\"`."
   ]
  },
  {
   "cell_type": "code",
   "execution_count": 2,
   "metadata": {},
   "outputs": [
    {
     "data": {
      "text/html": [
       "<div>\n",
       "<style scoped>\n",
       "    .dataframe tbody tr th:only-of-type {\n",
       "        vertical-align: middle;\n",
       "    }\n",
       "\n",
       "    .dataframe tbody tr th {\n",
       "        vertical-align: top;\n",
       "    }\n",
       "\n",
       "    .dataframe thead tr th {\n",
       "        text-align: left;\n",
       "    }\n",
       "\n",
       "    .dataframe thead tr:last-of-type th {\n",
       "        text-align: right;\n",
       "    }\n",
       "</style>\n",
       "<table border=\"1\" class=\"dataframe\">\n",
       "  <thead>\n",
       "    <tr>\n",
       "      <th>Attributes</th>\n",
       "      <th colspan=\"2\" halign=\"left\">Adj Close</th>\n",
       "      <th colspan=\"2\" halign=\"left\">Close</th>\n",
       "      <th colspan=\"2\" halign=\"left\">High</th>\n",
       "      <th colspan=\"2\" halign=\"left\">Low</th>\n",
       "      <th colspan=\"2\" halign=\"left\">Open</th>\n",
       "      <th colspan=\"2\" halign=\"left\">Volume</th>\n",
       "    </tr>\n",
       "    <tr>\n",
       "      <th>Symbols</th>\n",
       "      <th>AAPL</th>\n",
       "      <th>FB</th>\n",
       "      <th>AAPL</th>\n",
       "      <th>FB</th>\n",
       "      <th>AAPL</th>\n",
       "      <th>FB</th>\n",
       "      <th>AAPL</th>\n",
       "      <th>FB</th>\n",
       "      <th>AAPL</th>\n",
       "      <th>FB</th>\n",
       "      <th>AAPL</th>\n",
       "      <th>FB</th>\n",
       "    </tr>\n",
       "    <tr>\n",
       "      <th>Date</th>\n",
       "      <th></th>\n",
       "      <th></th>\n",
       "      <th></th>\n",
       "      <th></th>\n",
       "      <th></th>\n",
       "      <th></th>\n",
       "      <th></th>\n",
       "      <th></th>\n",
       "      <th></th>\n",
       "      <th></th>\n",
       "      <th></th>\n",
       "      <th></th>\n",
       "    </tr>\n",
       "  </thead>\n",
       "  <tbody>\n",
       "    <tr>\n",
       "      <th>2018-01-02</th>\n",
       "      <td>41.135754</td>\n",
       "      <td>181.419998</td>\n",
       "      <td>43.064999</td>\n",
       "      <td>181.419998</td>\n",
       "      <td>43.075001</td>\n",
       "      <td>181.580002</td>\n",
       "      <td>42.314999</td>\n",
       "      <td>177.550003</td>\n",
       "      <td>42.540001</td>\n",
       "      <td>177.679993</td>\n",
       "      <td>102223600.0</td>\n",
       "      <td>18151900.0</td>\n",
       "    </tr>\n",
       "    <tr>\n",
       "      <th>2018-01-03</th>\n",
       "      <td>41.128590</td>\n",
       "      <td>184.669998</td>\n",
       "      <td>43.057499</td>\n",
       "      <td>184.669998</td>\n",
       "      <td>43.637501</td>\n",
       "      <td>184.779999</td>\n",
       "      <td>42.990002</td>\n",
       "      <td>181.330002</td>\n",
       "      <td>43.132500</td>\n",
       "      <td>181.880005</td>\n",
       "      <td>118071600.0</td>\n",
       "      <td>16886600.0</td>\n",
       "    </tr>\n",
       "    <tr>\n",
       "      <th>2018-01-04</th>\n",
       "      <td>41.319633</td>\n",
       "      <td>184.330002</td>\n",
       "      <td>43.257500</td>\n",
       "      <td>184.330002</td>\n",
       "      <td>43.367500</td>\n",
       "      <td>186.210007</td>\n",
       "      <td>43.020000</td>\n",
       "      <td>184.100006</td>\n",
       "      <td>43.134998</td>\n",
       "      <td>184.899994</td>\n",
       "      <td>89738400.0</td>\n",
       "      <td>13880900.0</td>\n",
       "    </tr>\n",
       "    <tr>\n",
       "      <th>2018-01-05</th>\n",
       "      <td>41.790066</td>\n",
       "      <td>186.850006</td>\n",
       "      <td>43.750000</td>\n",
       "      <td>186.850006</td>\n",
       "      <td>43.842499</td>\n",
       "      <td>186.899994</td>\n",
       "      <td>43.262501</td>\n",
       "      <td>184.929993</td>\n",
       "      <td>43.360001</td>\n",
       "      <td>185.589996</td>\n",
       "      <td>94640000.0</td>\n",
       "      <td>13574500.0</td>\n",
       "    </tr>\n",
       "    <tr>\n",
       "      <th>2018-01-08</th>\n",
       "      <td>41.634846</td>\n",
       "      <td>188.279999</td>\n",
       "      <td>43.587502</td>\n",
       "      <td>188.279999</td>\n",
       "      <td>43.902500</td>\n",
       "      <td>188.899994</td>\n",
       "      <td>43.482498</td>\n",
       "      <td>186.330002</td>\n",
       "      <td>43.587502</td>\n",
       "      <td>187.199997</td>\n",
       "      <td>82271200.0</td>\n",
       "      <td>17994700.0</td>\n",
       "    </tr>\n",
       "  </tbody>\n",
       "</table>\n",
       "</div>"
      ],
      "text/plain": [
       "Attributes  Adj Close                  Close                   High  \\\n",
       "Symbols          AAPL          FB       AAPL          FB       AAPL   \n",
       "Date                                                                  \n",
       "2018-01-02  41.135754  181.419998  43.064999  181.419998  43.075001   \n",
       "2018-01-03  41.128590  184.669998  43.057499  184.669998  43.637501   \n",
       "2018-01-04  41.319633  184.330002  43.257500  184.330002  43.367500   \n",
       "2018-01-05  41.790066  186.850006  43.750000  186.850006  43.842499   \n",
       "2018-01-08  41.634846  188.279999  43.587502  188.279999  43.902500   \n",
       "\n",
       "Attributes                    Low                   Open              \\\n",
       "Symbols             FB       AAPL          FB       AAPL          FB   \n",
       "Date                                                                   \n",
       "2018-01-02  181.580002  42.314999  177.550003  42.540001  177.679993   \n",
       "2018-01-03  184.779999  42.990002  181.330002  43.132500  181.880005   \n",
       "2018-01-04  186.210007  43.020000  184.100006  43.134998  184.899994   \n",
       "2018-01-05  186.899994  43.262501  184.929993  43.360001  185.589996   \n",
       "2018-01-08  188.899994  43.482498  186.330002  43.587502  187.199997   \n",
       "\n",
       "Attributes       Volume              \n",
       "Symbols            AAPL          FB  \n",
       "Date                                 \n",
       "2018-01-02  102223600.0  18151900.0  \n",
       "2018-01-03  118071600.0  16886600.0  \n",
       "2018-01-04   89738400.0  13880900.0  \n",
       "2018-01-05   94640000.0  13574500.0  \n",
       "2018-01-08   82271200.0  17994700.0  "
      ]
     },
     "execution_count": 2,
     "metadata": {},
     "output_type": "execute_result"
    }
   ],
   "source": [
    "# Read Data\n",
    "Stock_data = data.DataReader(['AAPL', 'FB'], 'yahoo', start='2018/01/01', end='2019/12/31')\n",
    "Stock_data.head()"
   ]
  },
  {
   "cell_type": "code",
   "execution_count": 2,
   "metadata": {},
   "outputs": [],
   "source": [
    "# https://amangupta16.medium.com/portfolio-optimization-using-python-part-1-2-9fd80097a606\n",
    "# Creating a list of Stock Tickers\n",
    "stocks = ['HSBC','JPM','AAPL','WMT','AMZN','MSFT']\n",
    "num_stocks = len(stocks)\n",
    "\n",
    "price_data = pd.DataFrame()\n",
    "# Pulling closing price   \n",
    "for stock in stocks:\n",
    "    price_data[stock] = data.DataReader(stock, data_source = 'yahoo', start = '2010-1-1', end = '2019-12-31')['Adj Close']\n"
   ]
  },
  {
   "cell_type": "code",
   "execution_count": 3,
   "metadata": {},
   "outputs": [
    {
     "data": {
      "text/html": [
       "<div>\n",
       "<style scoped>\n",
       "    .dataframe tbody tr th:only-of-type {\n",
       "        vertical-align: middle;\n",
       "    }\n",
       "\n",
       "    .dataframe tbody tr th {\n",
       "        vertical-align: top;\n",
       "    }\n",
       "\n",
       "    .dataframe thead th {\n",
       "        text-align: right;\n",
       "    }\n",
       "</style>\n",
       "<table border=\"1\" class=\"dataframe\">\n",
       "  <thead>\n",
       "    <tr style=\"text-align: right;\">\n",
       "      <th></th>\n",
       "      <th>HSBC</th>\n",
       "      <th>JPM</th>\n",
       "      <th>AAPL</th>\n",
       "      <th>WMT</th>\n",
       "      <th>AMZN</th>\n",
       "      <th>MSFT</th>\n",
       "    </tr>\n",
       "    <tr>\n",
       "      <th>Date</th>\n",
       "      <th></th>\n",
       "      <th></th>\n",
       "      <th></th>\n",
       "      <th></th>\n",
       "      <th></th>\n",
       "      <th></th>\n",
       "    </tr>\n",
       "  </thead>\n",
       "  <tbody>\n",
       "    <tr>\n",
       "      <th>2009-12-31</th>\n",
       "      <td>30.848890</td>\n",
       "      <td>30.619156</td>\n",
       "      <td>6.444383</td>\n",
       "      <td>40.011978</td>\n",
       "      <td>134.520004</td>\n",
       "      <td>23.493389</td>\n",
       "    </tr>\n",
       "    <tr>\n",
       "      <th>2010-01-04</th>\n",
       "      <td>31.513536</td>\n",
       "      <td>31.524036</td>\n",
       "      <td>6.544689</td>\n",
       "      <td>40.595860</td>\n",
       "      <td>133.899994</td>\n",
       "      <td>23.855661</td>\n",
       "    </tr>\n",
       "    <tr>\n",
       "      <th>2010-01-05</th>\n",
       "      <td>32.016064</td>\n",
       "      <td>32.134655</td>\n",
       "      <td>6.556003</td>\n",
       "      <td>40.191628</td>\n",
       "      <td>134.690002</td>\n",
       "      <td>23.863363</td>\n",
       "    </tr>\n",
       "    <tr>\n",
       "      <th>2010-01-06</th>\n",
       "      <td>32.053890</td>\n",
       "      <td>32.311226</td>\n",
       "      <td>6.451724</td>\n",
       "      <td>40.101791</td>\n",
       "      <td>132.250000</td>\n",
       "      <td>23.716915</td>\n",
       "    </tr>\n",
       "    <tr>\n",
       "      <th>2010-01-07</th>\n",
       "      <td>31.951218</td>\n",
       "      <td>32.951279</td>\n",
       "      <td>6.439794</td>\n",
       "      <td>40.124237</td>\n",
       "      <td>130.000000</td>\n",
       "      <td>23.470272</td>\n",
       "    </tr>\n",
       "    <tr>\n",
       "      <th>...</th>\n",
       "      <td>...</td>\n",
       "      <td>...</td>\n",
       "      <td>...</td>\n",
       "      <td>...</td>\n",
       "      <td>...</td>\n",
       "      <td>...</td>\n",
       "    </tr>\n",
       "    <tr>\n",
       "      <th>2019-12-24</th>\n",
       "      <td>35.171288</td>\n",
       "      <td>128.735031</td>\n",
       "      <td>69.938210</td>\n",
       "      <td>115.261894</td>\n",
       "      <td>1789.209961</td>\n",
       "      <td>154.117081</td>\n",
       "    </tr>\n",
       "    <tr>\n",
       "      <th>2019-12-26</th>\n",
       "      <td>35.380375</td>\n",
       "      <td>130.101151</td>\n",
       "      <td>71.325806</td>\n",
       "      <td>115.271530</td>\n",
       "      <td>1868.770020</td>\n",
       "      <td>155.380295</td>\n",
       "    </tr>\n",
       "    <tr>\n",
       "      <th>2019-12-27</th>\n",
       "      <td>35.453098</td>\n",
       "      <td>130.194717</td>\n",
       "      <td>71.298729</td>\n",
       "      <td>115.339050</td>\n",
       "      <td>1869.800049</td>\n",
       "      <td>155.664307</td>\n",
       "    </tr>\n",
       "    <tr>\n",
       "      <th>2019-12-30</th>\n",
       "      <td>35.434917</td>\n",
       "      <td>129.717514</td>\n",
       "      <td>71.721893</td>\n",
       "      <td>115.155807</td>\n",
       "      <td>1846.890015</td>\n",
       "      <td>154.322693</td>\n",
       "    </tr>\n",
       "    <tr>\n",
       "      <th>2019-12-31</th>\n",
       "      <td>35.534916</td>\n",
       "      <td>130.438019</td>\n",
       "      <td>72.245934</td>\n",
       "      <td>114.615707</td>\n",
       "      <td>1847.839966</td>\n",
       "      <td>154.430405</td>\n",
       "    </tr>\n",
       "  </tbody>\n",
       "</table>\n",
       "<p>2517 rows × 6 columns</p>\n",
       "</div>"
      ],
      "text/plain": [
       "                 HSBC         JPM       AAPL         WMT         AMZN  \\\n",
       "Date                                                                    \n",
       "2009-12-31  30.848890   30.619156   6.444383   40.011978   134.520004   \n",
       "2010-01-04  31.513536   31.524036   6.544689   40.595860   133.899994   \n",
       "2010-01-05  32.016064   32.134655   6.556003   40.191628   134.690002   \n",
       "2010-01-06  32.053890   32.311226   6.451724   40.101791   132.250000   \n",
       "2010-01-07  31.951218   32.951279   6.439794   40.124237   130.000000   \n",
       "...               ...         ...        ...         ...          ...   \n",
       "2019-12-24  35.171288  128.735031  69.938210  115.261894  1789.209961   \n",
       "2019-12-26  35.380375  130.101151  71.325806  115.271530  1868.770020   \n",
       "2019-12-27  35.453098  130.194717  71.298729  115.339050  1869.800049   \n",
       "2019-12-30  35.434917  129.717514  71.721893  115.155807  1846.890015   \n",
       "2019-12-31  35.534916  130.438019  72.245934  114.615707  1847.839966   \n",
       "\n",
       "                  MSFT  \n",
       "Date                    \n",
       "2009-12-31   23.493389  \n",
       "2010-01-04   23.855661  \n",
       "2010-01-05   23.863363  \n",
       "2010-01-06   23.716915  \n",
       "2010-01-07   23.470272  \n",
       "...                ...  \n",
       "2019-12-24  154.117081  \n",
       "2019-12-26  155.380295  \n",
       "2019-12-27  155.664307  \n",
       "2019-12-30  154.322693  \n",
       "2019-12-31  154.430405  \n",
       "\n",
       "[2517 rows x 6 columns]"
      ]
     },
     "execution_count": 3,
     "metadata": {},
     "output_type": "execute_result"
    }
   ],
   "source": [
    "price_data"
   ]
  },
  {
   "cell_type": "markdown",
   "metadata": {},
   "source": [
    "Plotting normalized returns to have a visualization of the data"
   ]
  },
  {
   "cell_type": "code",
   "execution_count": 4,
   "metadata": {},
   "outputs": [
    {
     "data": {
      "image/png": "[encoded data removed]",
      "text/plain": [
       "<Figure size 720x360 with 1 Axes>"
      ]
     },
     "metadata": {
      "needs_background": "light"
     },
     "output_type": "display_data"
    }
   ],
   "source": [
    "(price_data / price_data.iloc[0] * 100).plot(figsize=(10, 5))\n",
    "plt.show()"
   ]
  },
  {
   "cell_type": "markdown",
   "metadata": {},
   "source": [
    "### Step 2: Calculate percentage change (dayly return) and average return in stock prices\n",
    "\n",
    "Next, we calculate the percentage change in stock prices everyday. You will notice that that we take the log of percentage change.\n",
    "\n",
    "But why take log?\n",
    "\n",
    "The reason for this is that log of the returns is time additive.\n",
    "\n",
    "That is, If $r_{13}$ is the returns for time between $t_3$ and $t_1$. $r_{12}$ is the returns between $t_1$ and $t_2$ and $r_{23}$ is the returns between $t_2$ and $t_3$.\n",
    "\n",
    "Then, $\\log(r_{13}) = \\log(r_{12}) + \\log(r_{23})$\n",
    "\n",
    "For example:,\n",
    "If $p_1 = 100, p_2 = 110$ and $p_3 = 120$, where $p_1$ is price of stock in time 1\n",
    "\n",
    "Then:\n",
    "\n",
    "$$ \\log(r_{12}) = \\ln(p2/p1) = \\ln(110/100) = 9.53\\%, $$\n",
    "\n",
    "$$ \\log(r_{23}) = \\ln(120/110) = 8.7\\%$$ \n",
    "and\n",
    "\n",
    "$$ \\log(r_{13}) = \\log(r_{12}) + \\log(r_{23}) = 9.53 + 8.7 = 18.23\\%,$$ \n",
    "\n",
    "which is same as $\\ln(120/100)$.\n",
    "\n",
    "This means a log change of +0.1 today and then -0.1 tomorrow will give you the same value of stock as yesterday. This is not true if you simply compute percentage change.\n",
    "\n",
    "It is common practice in portfolio optimization to take log of returns for calculations of covariance and correlation.\n",
    "\n",
    "This can be easily achieved by using `pct_change()`. "
   ]
  },
  {
   "cell_type": "code",
   "execution_count": 6,
   "metadata": {},
   "outputs": [
    {
     "data": {
      "text/plain": [
       "0.09531017980432493"
      ]
     },
     "execution_count": 6,
     "metadata": {},
     "output_type": "execute_result"
    }
   ],
   "source": [
    "np.log(110/100)"
   ]
  },
  {
   "cell_type": "code",
   "execution_count": 9,
   "metadata": {},
   "outputs": [
    {
     "name": "stdout",
     "output_type": "stream",
     "text": [
      "                HSBC       JPM      AAPL       WMT      AMZN      MSFT\n",
      "Date                                                                  \n",
      "2009-12-31       NaN       NaN       NaN       NaN       NaN       NaN\n",
      "2010-01-04  0.021545  0.029553  0.015565  0.014593 -0.004609  0.015420\n",
      "2010-01-05  0.015946  0.019370  0.001729 -0.009957  0.005900  0.000323\n",
      "2010-01-06  0.001181  0.005495 -0.015906 -0.002235 -0.018116 -0.006137\n",
      "2010-01-07 -0.003203  0.019809 -0.001849  0.000560 -0.017013 -0.010399\n"
     ]
    },
    {
     "data": {
      "text/plain": [
       "<function matplotlib.pyplot.show(close=None, block=None)>"
      ]
     },
     "execution_count": 9,
     "metadata": {},
     "output_type": "execute_result"
    },
    {
     "data": {
      "image/png": "[encoded data removed]",
      "text/plain": [
       "<Figure size 720x360 with 1 Axes>"
      ]
     },
     "metadata": {
      "needs_background": "light"
     },
     "output_type": "display_data"
    }
   ],
   "source": [
    "# pf_data pct change\n",
    "day_returns = price_data.pct_change()\n",
    "print(day_returns.head(5))\n",
    "day_returns.plot(figsize=(10,5))\n",
    "plt.show"
   ]
  },
  {
   "cell_type": "code",
   "execution_count": 10,
   "metadata": {},
   "outputs": [
    {
     "data": {
      "text/plain": [
       "HSBC    0.000146\n",
       "JPM     0.000701\n",
       "AAPL    0.001093\n",
       "WMT     0.000477\n",
       "AMZN    0.001231\n",
       "MSFT    0.000851\n",
       "dtype: float64"
      ]
     },
     "execution_count": 10,
     "metadata": {},
     "output_type": "execute_result"
    }
   ],
   "source": [
    "avg_day_return = day_returns.mean()\n",
    "avg_day_return"
   ]
  },
  {
   "cell_type": "code",
   "execution_count": 11,
   "metadata": {},
   "outputs": [
    {
     "data": {
      "text/plain": [
       "HSBC    0.034192\n",
       "JPM     0.175487\n",
       "AAPL    0.301383\n",
       "WMT     0.127535\n",
       "AMZN    0.347834\n",
       "MSFT    0.223475\n",
       "dtype: float64"
      ]
     },
     "execution_count": 11,
     "metadata": {},
     "output_type": "execute_result"
    }
   ],
   "source": [
    "avg_year_return = price_data.resample('Y').last().pct_change().mean()\n",
    "avg_year_return"
   ]
  },
  {
   "cell_type": "markdown",
   "metadata": {},
   "source": [
    "### Step 3: Calculate variance/covariance in stock prices\n",
    "\n",
    "The variance in prices of stocks are an important indicator of how volatile this investment will be (how returns can fluctuate).\n",
    "\n",
    "It can be calculated for each company by using built in `.var()` function. Under the hood, the formula implemented by this function is given by:\n",
    "$\n",
    "\\sigma^2 = \\sum_{i = 1}^{N}(x_i - \\bar{x})^2/(N - 1)\n",
    "$\n",
    "\n",
    "The covariance between Apple and Apple, or Nike and Nike is the variance of that asset.\n",
    "\n",
    "The next step is to create the correlation matrix. Correlation ranges from -1 to 1.\n",
    "\n",
    "A correlation of -1 means negative relation, i.e, if correlation between Asset A and Asset B is -1, if Asset A increases, Asset B decreases.\n",
    "\n",
    "A correlation of +1 means positive relation, i.e, if correlation between Asset A and Asset B is 1, if Asset A increases, Asset B increases.\n",
    "\n",
    "A correlation of 0 means no relation, i.e, if correlation between Asset A and Asset B is 0, they dont have any effect on each other."
   ]
  },
  {
   "cell_type": "code",
   "execution_count": 12,
   "metadata": {},
   "outputs": [
    {
     "data": {
      "text/plain": [
       "HSBC    0.000180\n",
       "JPM     0.000249\n",
       "AAPL    0.000263\n",
       "WMT     0.000118\n",
       "AMZN    0.000381\n",
       "dtype: float64"
      ]
     },
     "execution_count": 12,
     "metadata": {},
     "output_type": "execute_result"
    }
   ],
   "source": [
    "Variance = day_returns.var()\n",
    "Variance.head(5) "
   ]
  },
  {
   "cell_type": "code",
   "execution_count": 13,
   "metadata": {},
   "outputs": [
    {
     "data": {
      "text/html": [
       "<div>\n",
       "<style scoped>\n",
       "    .dataframe tbody tr th:only-of-type {\n",
       "        vertical-align: middle;\n",
       "    }\n",
       "\n",
       "    .dataframe tbody tr th {\n",
       "        vertical-align: top;\n",
       "    }\n",
       "\n",
       "    .dataframe thead th {\n",
       "        text-align: right;\n",
       "    }\n",
       "</style>\n",
       "<table border=\"1\" class=\"dataframe\">\n",
       "  <thead>\n",
       "    <tr style=\"text-align: right;\">\n",
       "      <th></th>\n",
       "      <th>HSBC</th>\n",
       "      <th>JPM</th>\n",
       "      <th>AAPL</th>\n",
       "      <th>WMT</th>\n",
       "      <th>AMZN</th>\n",
       "      <th>MSFT</th>\n",
       "    </tr>\n",
       "  </thead>\n",
       "  <tbody>\n",
       "    <tr>\n",
       "      <th>HSBC</th>\n",
       "      <td>24.713069</td>\n",
       "      <td>94.963934</td>\n",
       "      <td>42.115481</td>\n",
       "      <td>62.302395</td>\n",
       "      <td>1742.277135</td>\n",
       "      <td>99.306897</td>\n",
       "    </tr>\n",
       "    <tr>\n",
       "      <th>JPM</th>\n",
       "      <td>94.963934</td>\n",
       "      <td>757.543085</td>\n",
       "      <td>375.177988</td>\n",
       "      <td>475.727914</td>\n",
       "      <td>15391.473498</td>\n",
       "      <td>915.407450</td>\n",
       "    </tr>\n",
       "    <tr>\n",
       "      <th>AAPL</th>\n",
       "      <td>42.115481</td>\n",
       "      <td>375.177988</td>\n",
       "      <td>201.013888</td>\n",
       "      <td>249.719211</td>\n",
       "      <td>7739.414935</td>\n",
       "      <td>468.120769</td>\n",
       "    </tr>\n",
       "    <tr>\n",
       "      <th>WMT</th>\n",
       "      <td>62.302395</td>\n",
       "      <td>475.727914</td>\n",
       "      <td>249.719211</td>\n",
       "      <td>360.967278</td>\n",
       "      <td>9762.977309</td>\n",
       "      <td>606.505751</td>\n",
       "    </tr>\n",
       "    <tr>\n",
       "      <th>AMZN</th>\n",
       "      <td>1742.277135</td>\n",
       "      <td>15391.473498</td>\n",
       "      <td>7739.414935</td>\n",
       "      <td>9762.977309</td>\n",
       "      <td>336894.083775</td>\n",
       "      <td>19528.151981</td>\n",
       "    </tr>\n",
       "    <tr>\n",
       "      <th>MSFT</th>\n",
       "      <td>99.306897</td>\n",
       "      <td>915.407450</td>\n",
       "      <td>468.120769</td>\n",
       "      <td>606.505751</td>\n",
       "      <td>19528.151981</td>\n",
       "      <td>1188.225653</td>\n",
       "    </tr>\n",
       "  </tbody>\n",
       "</table>\n",
       "</div>"
      ],
      "text/plain": [
       "             HSBC           JPM         AAPL          WMT           AMZN  \\\n",
       "HSBC    24.713069     94.963934    42.115481    62.302395    1742.277135   \n",
       "JPM     94.963934    757.543085   375.177988   475.727914   15391.473498   \n",
       "AAPL    42.115481    375.177988   201.013888   249.719211    7739.414935   \n",
       "WMT     62.302395    475.727914   249.719211   360.967278    9762.977309   \n",
       "AMZN  1742.277135  15391.473498  7739.414935  9762.977309  336894.083775   \n",
       "MSFT    99.306897    915.407450   468.120769   606.505751   19528.151981   \n",
       "\n",
       "              MSFT  \n",
       "HSBC     99.306897  \n",
       "JPM     915.407450  \n",
       "AAPL    468.120769  \n",
       "WMT     606.505751  \n",
       "AMZN  19528.151981  \n",
       "MSFT   1188.225653  "
      ]
     },
     "execution_count": 13,
     "metadata": {},
     "output_type": "execute_result"
    }
   ],
   "source": [
    "price_data.cov()"
   ]
  },
  {
   "cell_type": "code",
   "execution_count": 14,
   "metadata": {},
   "outputs": [
    {
     "data": {
      "text/html": [
       "<div>\n",
       "<style scoped>\n",
       "    .dataframe tbody tr th:only-of-type {\n",
       "        vertical-align: middle;\n",
       "    }\n",
       "\n",
       "    .dataframe tbody tr th {\n",
       "        vertical-align: top;\n",
       "    }\n",
       "\n",
       "    .dataframe thead th {\n",
       "        text-align: right;\n",
       "    }\n",
       "</style>\n",
       "<table border=\"1\" class=\"dataframe\">\n",
       "  <thead>\n",
       "    <tr style=\"text-align: right;\">\n",
       "      <th></th>\n",
       "      <th>HSBC</th>\n",
       "      <th>JPM</th>\n",
       "      <th>AAPL</th>\n",
       "      <th>WMT</th>\n",
       "      <th>AMZN</th>\n",
       "      <th>MSFT</th>\n",
       "    </tr>\n",
       "  </thead>\n",
       "  <tbody>\n",
       "    <tr>\n",
       "      <th>HSBC</th>\n",
       "      <td>0.000180</td>\n",
       "      <td>0.000137</td>\n",
       "      <td>0.000079</td>\n",
       "      <td>0.000038</td>\n",
       "      <td>0.000091</td>\n",
       "      <td>0.000087</td>\n",
       "    </tr>\n",
       "    <tr>\n",
       "      <th>JPM</th>\n",
       "      <td>0.000137</td>\n",
       "      <td>0.000249</td>\n",
       "      <td>0.000095</td>\n",
       "      <td>0.000051</td>\n",
       "      <td>0.000107</td>\n",
       "      <td>0.000107</td>\n",
       "    </tr>\n",
       "    <tr>\n",
       "      <th>AAPL</th>\n",
       "      <td>0.000079</td>\n",
       "      <td>0.000095</td>\n",
       "      <td>0.000263</td>\n",
       "      <td>0.000040</td>\n",
       "      <td>0.000126</td>\n",
       "      <td>0.000106</td>\n",
       "    </tr>\n",
       "    <tr>\n",
       "      <th>WMT</th>\n",
       "      <td>0.000038</td>\n",
       "      <td>0.000051</td>\n",
       "      <td>0.000040</td>\n",
       "      <td>0.000118</td>\n",
       "      <td>0.000043</td>\n",
       "      <td>0.000048</td>\n",
       "    </tr>\n",
       "    <tr>\n",
       "      <th>AMZN</th>\n",
       "      <td>0.000091</td>\n",
       "      <td>0.000107</td>\n",
       "      <td>0.000126</td>\n",
       "      <td>0.000043</td>\n",
       "      <td>0.000381</td>\n",
       "      <td>0.000136</td>\n",
       "    </tr>\n",
       "  </tbody>\n",
       "</table>\n",
       "</div>"
      ],
      "text/plain": [
       "          HSBC       JPM      AAPL       WMT      AMZN      MSFT\n",
       "HSBC  0.000180  0.000137  0.000079  0.000038  0.000091  0.000087\n",
       "JPM   0.000137  0.000249  0.000095  0.000051  0.000107  0.000107\n",
       "AAPL  0.000079  0.000095  0.000263  0.000040  0.000126  0.000106\n",
       "WMT   0.000038  0.000051  0.000040  0.000118  0.000043  0.000048\n",
       "AMZN  0.000091  0.000107  0.000126  0.000043  0.000381  0.000136"
      ]
     },
     "execution_count": 14,
     "metadata": {},
     "output_type": "execute_result"
    }
   ],
   "source": [
    "Covariance = day_returns.cov()\n",
    "Covariance.head(5)"
   ]
  },
  {
   "cell_type": "code",
   "execution_count": 15,
   "metadata": {},
   "outputs": [
    {
     "data": {
      "text/html": [
       "<div>\n",
       "<style scoped>\n",
       "    .dataframe tbody tr th:only-of-type {\n",
       "        vertical-align: middle;\n",
       "    }\n",
       "\n",
       "    .dataframe tbody tr th {\n",
       "        vertical-align: top;\n",
       "    }\n",
       "\n",
       "    .dataframe thead th {\n",
       "        text-align: right;\n",
       "    }\n",
       "</style>\n",
       "<table border=\"1\" class=\"dataframe\">\n",
       "  <thead>\n",
       "    <tr style=\"text-align: right;\">\n",
       "      <th></th>\n",
       "      <th>HSBC</th>\n",
       "      <th>JPM</th>\n",
       "      <th>AAPL</th>\n",
       "      <th>WMT</th>\n",
       "      <th>AMZN</th>\n",
       "      <th>MSFT</th>\n",
       "    </tr>\n",
       "  </thead>\n",
       "  <tbody>\n",
       "    <tr>\n",
       "      <th>HSBC</th>\n",
       "      <td>1.000000</td>\n",
       "      <td>0.647931</td>\n",
       "      <td>0.363095</td>\n",
       "      <td>0.264114</td>\n",
       "      <td>0.349327</td>\n",
       "      <td>0.454687</td>\n",
       "    </tr>\n",
       "    <tr>\n",
       "      <th>JPM</th>\n",
       "      <td>0.647931</td>\n",
       "      <td>1.000000</td>\n",
       "      <td>0.370739</td>\n",
       "      <td>0.297848</td>\n",
       "      <td>0.346938</td>\n",
       "      <td>0.473202</td>\n",
       "    </tr>\n",
       "    <tr>\n",
       "      <th>AAPL</th>\n",
       "      <td>0.363095</td>\n",
       "      <td>0.370739</td>\n",
       "      <td>1.000000</td>\n",
       "      <td>0.225690</td>\n",
       "      <td>0.397260</td>\n",
       "      <td>0.457443</td>\n",
       "    </tr>\n",
       "    <tr>\n",
       "      <th>WMT</th>\n",
       "      <td>0.264114</td>\n",
       "      <td>0.297848</td>\n",
       "      <td>0.225690</td>\n",
       "      <td>1.000000</td>\n",
       "      <td>0.203942</td>\n",
       "      <td>0.307232</td>\n",
       "    </tr>\n",
       "    <tr>\n",
       "      <th>AMZN</th>\n",
       "      <td>0.349327</td>\n",
       "      <td>0.346938</td>\n",
       "      <td>0.397260</td>\n",
       "      <td>0.203942</td>\n",
       "      <td>1.000000</td>\n",
       "      <td>0.488357</td>\n",
       "    </tr>\n",
       "  </tbody>\n",
       "</table>\n",
       "</div>"
      ],
      "text/plain": [
       "          HSBC       JPM      AAPL       WMT      AMZN      MSFT\n",
       "HSBC  1.000000  0.647931  0.363095  0.264114  0.349327  0.454687\n",
       "JPM   0.647931  1.000000  0.370739  0.297848  0.346938  0.473202\n",
       "AAPL  0.363095  0.370739  1.000000  0.225690  0.397260  0.457443\n",
       "WMT   0.264114  0.297848  0.225690  1.000000  0.203942  0.307232\n",
       "AMZN  0.349327  0.346938  0.397260  0.203942  1.000000  0.488357"
      ]
     },
     "execution_count": 15,
     "metadata": {},
     "output_type": "execute_result"
    }
   ],
   "source": [
    "Correlation = day_returns.corr()\n",
    "Correlation.head(5)"
   ]
  },
  {
   "cell_type": "markdown",
   "metadata": {},
   "source": [
    "We can also calculate the standard deviation which is also called the **Volatility**.\n",
    "\n",
    "But what we get from square root of variance is the daily standard deviation. To convert it to annual standard deviation we multiply the variance by 250 because there are 250 trading days in a year."
   ]
  },
  {
   "cell_type": "code",
   "execution_count": 16,
   "metadata": {},
   "outputs": [
    {
     "data": {
      "text/plain": [
       "HSBC    0.211862\n",
       "JPM     0.249744\n",
       "AAPL    0.256449\n",
       "WMT     0.171824\n",
       "AMZN    0.308496\n",
       "MSFT    0.226302\n",
       "dtype: float64"
      ]
     },
     "execution_count": 16,
     "metadata": {},
     "output_type": "execute_result"
    }
   ],
   "source": [
    "Annual_sd = day_returns.std()*np.sqrt(250)\n",
    "Annual_sd"
   ]
  },
  {
   "cell_type": "markdown",
   "metadata": {},
   "source": [
    "### Step 4: Solve the optimization model\n",
    "\n",
    "Note that in RSOME, $\\boldsymbol{x}^\\top \\boldsymbol{Q} \\boldsymbol{x}$ can be calculated by using `rso.quad(x,Q)` function and \n",
    "$$\n",
    "\\boldsymbol{x}^\\top \\boldsymbol{Q} \\boldsymbol{x} = 0.5 * \\mbox{rso.quad}(x,Q)\n",
    "$$"
   ]
  },
  {
   "cell_type": "code",
   "execution_count": 17,
   "metadata": {},
   "outputs": [],
   "source": [
    "def MTZ(mu, Sigma, beta):\n",
    "    m = ro.Model('portfolio')\n",
    "    N = len(mu)\n",
    "    x = m.dvar(N)\n",
    "\n",
    "    m.min( 0.5*rso.quad(x, Sigma) )\n",
    "\n",
    "    m.st( mu @ x >= beta )\n",
    "    m.st( x.sum() == 1, x >= 0)\n",
    "\n",
    "    m.solve(grb, display = False)\n",
    "\n",
    "    return np.round( x.get(), 4 ), m.get()\n",
    "    "
   ]
  },
  {
   "cell_type": "code",
   "execution_count": 18,
   "metadata": {},
   "outputs": [
    {
     "name": "stdout",
     "output_type": "stream",
     "text": [
      "Set parameter Username\n",
      "Academic license - for non-commercial use only - expires 2023-01-14\n",
      "[0.0199 0.0597 0.1921 0.4815 0.1176 0.1292] 4.551057647650403e-05\n"
     ]
    }
   ],
   "source": [
    "Sigma = Covariance.values\n",
    "mu = avg_year_return.values\n",
    "beta = 0.2\n",
    "x_star, obj_star = MTZ(mu, Sigma, beta)\n",
    "print(x_star, obj_star)"
   ]
  },
  {
   "cell_type": "markdown",
   "metadata": {},
   "source": [
    "#### An alternative model"
   ]
  },
  {
   "cell_type": "code",
   "execution_count": 19,
   "metadata": {},
   "outputs": [],
   "source": [
    "def MTZ1(mu, Sigma, beta):\n",
    "    m = ro.Model('portfolio')\n",
    "    N = len(mu)\n",
    "    x = m.dvar(N)\n",
    "\n",
    "    m.max( mu @ x )\n",
    "\n",
    "    m.st( rso.quad(x, Sigma) <= 0.0002 )\n",
    "    m.st( x.sum() == 1, x >= 0, x <= 1)\n",
    "\n",
    "    m.solve(grb, display = False)\n",
    "\n",
    "    return np.round( x.get(), 4 ), m.get()"
   ]
  },
  {
   "cell_type": "code",
   "execution_count": 20,
   "metadata": {},
   "outputs": [
    {
     "name": "stdout",
     "output_type": "stream",
     "text": [
      "[0.     0.     0.4966 0.0176 0.4138 0.072 ] 0.3119406112299466\n"
     ]
    }
   ],
   "source": [
    "x_star1, obj_star1 = MTZ1(mu, Sigma, beta)\n",
    "print(x_star1, obj_star1)"
   ]
  },
  {
   "cell_type": "markdown",
   "metadata": {},
   "source": [
    "### Step 5: Analyze the solution\n",
    "\n",
    "After obtaining the optimal weights, we can evaluate the expected (annual) return and standard deviation of the portfolio. Specifically, given optimal weights $\\boldsymbol{x}^*$ and the expected annual return of all the stocks, denoted as $\\boldsymbol{\\mu}$, the expected annual return of the portfolio is:\n",
    "\n",
    "$$ \\mbox{Expected annual return} = \\boldsymbol{x}^\\top \\boldsymbol{\\mu}$$\n"
   ]
  },
  {
   "cell_type": "markdown",
   "metadata": {},
   "source": [
    "#### Calculate the expected annual return for the optimal weight"
   ]
  },
  {
   "cell_type": "code",
   "execution_count": 24,
   "metadata": {},
   "outputs": [
    {
     "data": {
      "text/plain": [
       "0.2002389806040363"
      ]
     },
     "execution_count": 24,
     "metadata": {},
     "output_type": "execute_result"
    }
   ],
   "source": [
    "mu @ x_star"
   ]
  },
  {
   "cell_type": "code",
   "execution_count": 25,
   "metadata": {},
   "outputs": [
    {
     "data": {
      "text/plain": [
       "0.009530976233298016"
      ]
     },
     "execution_count": 25,
     "metadata": {},
     "output_type": "execute_result"
    }
   ],
   "source": [
    "np.sqrt(x_star.T @ Sigma @ x_star)"
   ]
  },
  {
   "cell_type": "markdown",
   "metadata": {},
   "source": [
    "### Step 6: Sensitivity analysis\n",
    "\n",
    "What if we set different target $\\beta$? For example, $\\beta \\in \\{0.01, 0.02, 0.03, \\ldots, 0.3\\}$. We then need to do the sensitivity analysis. \n",
    "\n",
    "In other words, we solve the problem for each $\\beta$ and evaluate the corresponding solution. "
   ]
  },
  {
   "cell_type": "code",
   "execution_count": 21,
   "metadata": {},
   "outputs": [],
   "source": [
    "M = 30\n",
    "beta_all = [0.01 + i*0.01 for i in range(M)]"
   ]
  },
  {
   "cell_type": "code",
   "execution_count": 22,
   "metadata": {},
   "outputs": [],
   "source": [
    "ex_return = []\n",
    "sd_return = []\n",
    "for i in range(M):\n",
    "    x_star, obj_star = MTZ(mu, Sigma, beta_all[i])\n",
    "    ex_return.append(mu @ x_star)\n",
    "    sd_return.append(np.sqrt(x_star.T @ Sigma @ x_star * 250))"
   ]
  },
  {
   "cell_type": "code",
   "execution_count": 23,
   "metadata": {},
   "outputs": [],
   "source": [
    "assets = pd.DataFrame(\n",
    "    {'Target': beta_all[0:len(ex_return)],\n",
    "     'Returns': ex_return,\n",
    "     'Volatility': sd_return\n",
    "    }) # Creating a table for visualising returns and volatility of assets"
   ]
  },
  {
   "cell_type": "markdown",
   "metadata": {},
   "source": [
    "#### Plot the efficience frontier\n",
    "\n",
    "Efficient frontier is a graph with ‘returns’ on the Y-axis and ‘volatility’ on the X-axis. It shows us the maximum return we can get for a set level of volatility, or conversely, the volatility that we need to accept for certain level of returns."
   ]
  },
  {
   "cell_type": "code",
   "execution_count": 24,
   "metadata": {},
   "outputs": [
    {
     "data": {
      "text/plain": [
       "Text(0, 0.5, 'Return')"
      ]
     },
     "execution_count": 24,
     "metadata": {},
     "output_type": "execute_result"
    },
    {
     "data": {
      "image/png": "[encoded data removed]",
      "text/plain": [
       "<Figure size 432x288 with 1 Axes>"
      ]
     },
     "metadata": {
      "needs_background": "light"
     },
     "output_type": "display_data"
    }
   ],
   "source": [
    "plt.plot(sd_return, ex_return, color = 'b')\n",
    "plt.xlabel('Std')\n",
    "plt.ylabel('Return')"
   ]
  },
  {
   "cell_type": "markdown",
   "metadata": {},
   "source": [
    "We found the portfolio with minimum volatility, but you will notice that the return on this portfolio is pretty low. Any sensible investor wants to maximize his return, even if it is a tradeoff with some level of risk.\n",
    "\n",
    "The question arises that how do we find this optimal risky portfolio and finally optimize our portfolio to the maximum?\n",
    "\n",
    "This is done by using a parameter called the Sharpe Ratio.\n",
    "\n",
    "#### Sharpe Ratio\n",
    "\n",
    "The ratio is the average return earned in excess of the risk-free rate per unit of volatility or total risk. Volatility is a measure of the price fluctuations of an asset or portfolio.\n",
    "\n",
    "The risk-free rate of return is the return on an investment with zero risk, meaning it’s the return investors could expect for taking no risk.\n",
    "The optimal risky portfolio is the one with the highest Sharpe ratio. The formula for this ratio is:\n",
    "\n",
    "$\n",
    "\\mbox{Shape Ratio} = \\frac{R_p - R_f}{\\sigma_p}\n",
    "$\n",
    "where $R_p$ is the return and $R_f$ is the risk free return. "
   ]
  },
  {
   "cell_type": "code",
   "execution_count": 60,
   "metadata": {},
   "outputs": [],
   "source": [
    "assets['Shape_Ratio'] = (assets['Returns'] - 0.01)/assets['Volatility']"
   ]
  },
  {
   "cell_type": "code",
   "execution_count": 61,
   "metadata": {
    "scrolled": true
   },
   "outputs": [
    {
     "data": {
      "text/plain": [
       "<AxesSubplot:>"
      ]
     },
     "execution_count": 61,
     "metadata": {},
     "output_type": "execute_result"
    },
    {
     "data": {
      "image/png": "[encoded data removed]",
      "text/plain": [
       "<Figure size 432x288 with 1 Axes>"
      ]
     },
     "metadata": {
      "needs_background": "light"
     },
     "output_type": "display_data"
    }
   ],
   "source": [
    "assets['Shape_Ratio'].plot()"
   ]
  },
  {
   "cell_type": "code",
   "execution_count": 62,
   "metadata": {},
   "outputs": [
    {
     "data": {
      "text/plain": [
       "0.26"
      ]
     },
     "execution_count": 62,
     "metadata": {},
     "output_type": "execute_result"
    }
   ],
   "source": [
    "assets['Target'][ assets['Shape_Ratio'].idxmax() ]"
   ]
  },
  {
   "cell_type": "code",
   "execution_count": 63,
   "metadata": {},
   "outputs": [
    {
     "data": {
      "text/html": [
       "<div>\n",
       "<style scoped>\n",
       "    .dataframe tbody tr th:only-of-type {\n",
       "        vertical-align: middle;\n",
       "    }\n",
       "\n",
       "    .dataframe tbody tr th {\n",
       "        vertical-align: top;\n",
       "    }\n",
       "\n",
       "    .dataframe thead th {\n",
       "        text-align: right;\n",
       "    }\n",
       "</style>\n",
       "<table border=\"1\" class=\"dataframe\">\n",
       "  <thead>\n",
       "    <tr style=\"text-align: right;\">\n",
       "      <th></th>\n",
       "      <th>Target</th>\n",
       "      <th>Returns</th>\n",
       "      <th>Volatility</th>\n",
       "      <th>Shape_Ratio</th>\n",
       "    </tr>\n",
       "  </thead>\n",
       "  <tbody>\n",
       "    <tr>\n",
       "      <th>0</th>\n",
       "      <td>0.01</td>\n",
       "      <td>0.144899</td>\n",
       "      <td>0.143262</td>\n",
       "      <td>0.941623</td>\n",
       "    </tr>\n",
       "    <tr>\n",
       "      <th>1</th>\n",
       "      <td>0.02</td>\n",
       "      <td>0.145102</td>\n",
       "      <td>0.143258</td>\n",
       "      <td>0.943072</td>\n",
       "    </tr>\n",
       "    <tr>\n",
       "      <th>2</th>\n",
       "      <td>0.03</td>\n",
       "      <td>0.142681</td>\n",
       "      <td>0.143199</td>\n",
       "      <td>0.926550</td>\n",
       "    </tr>\n",
       "    <tr>\n",
       "      <th>3</th>\n",
       "      <td>0.04</td>\n",
       "      <td>0.144105</td>\n",
       "      <td>0.143276</td>\n",
       "      <td>0.935994</td>\n",
       "    </tr>\n",
       "    <tr>\n",
       "      <th>4</th>\n",
       "      <td>0.05</td>\n",
       "      <td>0.143637</td>\n",
       "      <td>0.143233</td>\n",
       "      <td>0.933000</td>\n",
       "    </tr>\n",
       "    <tr>\n",
       "      <th>5</th>\n",
       "      <td>0.06</td>\n",
       "      <td>0.144608</td>\n",
       "      <td>0.143257</td>\n",
       "      <td>0.939627</td>\n",
       "    </tr>\n",
       "    <tr>\n",
       "      <th>6</th>\n",
       "      <td>0.07</td>\n",
       "      <td>0.144079</td>\n",
       "      <td>0.143231</td>\n",
       "      <td>0.936104</td>\n",
       "    </tr>\n",
       "    <tr>\n",
       "      <th>7</th>\n",
       "      <td>0.08</td>\n",
       "      <td>0.143711</td>\n",
       "      <td>0.143230</td>\n",
       "      <td>0.933534</td>\n",
       "    </tr>\n",
       "    <tr>\n",
       "      <th>8</th>\n",
       "      <td>0.09</td>\n",
       "      <td>0.143252</td>\n",
       "      <td>0.143204</td>\n",
       "      <td>0.930504</td>\n",
       "    </tr>\n",
       "    <tr>\n",
       "      <th>9</th>\n",
       "      <td>0.10</td>\n",
       "      <td>0.143210</td>\n",
       "      <td>0.143215</td>\n",
       "      <td>0.930140</td>\n",
       "    </tr>\n",
       "    <tr>\n",
       "      <th>10</th>\n",
       "      <td>0.11</td>\n",
       "      <td>0.143222</td>\n",
       "      <td>0.143212</td>\n",
       "      <td>0.930241</td>\n",
       "    </tr>\n",
       "    <tr>\n",
       "      <th>11</th>\n",
       "      <td>0.12</td>\n",
       "      <td>0.143465</td>\n",
       "      <td>0.143220</td>\n",
       "      <td>0.931887</td>\n",
       "    </tr>\n",
       "    <tr>\n",
       "      <th>12</th>\n",
       "      <td>0.13</td>\n",
       "      <td>0.144548</td>\n",
       "      <td>0.143246</td>\n",
       "      <td>0.939279</td>\n",
       "    </tr>\n",
       "    <tr>\n",
       "      <th>13</th>\n",
       "      <td>0.14</td>\n",
       "      <td>0.147522</td>\n",
       "      <td>0.143327</td>\n",
       "      <td>0.959498</td>\n",
       "    </tr>\n",
       "    <tr>\n",
       "      <th>14</th>\n",
       "      <td>0.15</td>\n",
       "      <td>0.153112</td>\n",
       "      <td>0.143551</td>\n",
       "      <td>0.996942</td>\n",
       "    </tr>\n",
       "    <tr>\n",
       "      <th>15</th>\n",
       "      <td>0.16</td>\n",
       "      <td>0.160845</td>\n",
       "      <td>0.144069</td>\n",
       "      <td>1.047038</td>\n",
       "    </tr>\n",
       "    <tr>\n",
       "      <th>16</th>\n",
       "      <td>0.17</td>\n",
       "      <td>0.170045</td>\n",
       "      <td>0.145064</td>\n",
       "      <td>1.103276</td>\n",
       "    </tr>\n",
       "    <tr>\n",
       "      <th>17</th>\n",
       "      <td>0.18</td>\n",
       "      <td>0.180082</td>\n",
       "      <td>0.146574</td>\n",
       "      <td>1.160380</td>\n",
       "    </tr>\n",
       "    <tr>\n",
       "      <th>18</th>\n",
       "      <td>0.19</td>\n",
       "      <td>0.190380</td>\n",
       "      <td>0.148482</td>\n",
       "      <td>1.214828</td>\n",
       "    </tr>\n",
       "    <tr>\n",
       "      <th>19</th>\n",
       "      <td>0.20</td>\n",
       "      <td>0.200142</td>\n",
       "      <td>0.150659</td>\n",
       "      <td>1.262073</td>\n",
       "    </tr>\n",
       "    <tr>\n",
       "      <th>20</th>\n",
       "      <td>0.21</td>\n",
       "      <td>0.210066</td>\n",
       "      <td>0.153496</td>\n",
       "      <td>1.303392</td>\n",
       "    </tr>\n",
       "    <tr>\n",
       "      <th>21</th>\n",
       "      <td>0.22</td>\n",
       "      <td>0.219992</td>\n",
       "      <td>0.157067</td>\n",
       "      <td>1.336957</td>\n",
       "    </tr>\n",
       "    <tr>\n",
       "      <th>22</th>\n",
       "      <td>0.23</td>\n",
       "      <td>0.230026</td>\n",
       "      <td>0.161703</td>\n",
       "      <td>1.360685</td>\n",
       "    </tr>\n",
       "    <tr>\n",
       "      <th>23</th>\n",
       "      <td>0.24</td>\n",
       "      <td>0.239993</td>\n",
       "      <td>0.167190</td>\n",
       "      <td>1.375640</td>\n",
       "    </tr>\n",
       "    <tr>\n",
       "      <th>24</th>\n",
       "      <td>0.25</td>\n",
       "      <td>0.249980</td>\n",
       "      <td>0.173237</td>\n",
       "      <td>1.385269</td>\n",
       "    </tr>\n",
       "    <tr>\n",
       "      <th>25</th>\n",
       "      <td>0.26</td>\n",
       "      <td>0.259990</td>\n",
       "      <td>0.179993</td>\n",
       "      <td>1.388888</td>\n",
       "    </tr>\n",
       "    <tr>\n",
       "      <th>26</th>\n",
       "      <td>0.27</td>\n",
       "      <td>0.270019</td>\n",
       "      <td>0.187257</td>\n",
       "      <td>1.388567</td>\n",
       "    </tr>\n",
       "    <tr>\n",
       "      <th>27</th>\n",
       "      <td>0.28</td>\n",
       "      <td>0.279973</td>\n",
       "      <td>0.195545</td>\n",
       "      <td>1.380619</td>\n",
       "    </tr>\n",
       "    <tr>\n",
       "      <th>28</th>\n",
       "      <td>0.29</td>\n",
       "      <td>0.289994</td>\n",
       "      <td>0.204070</td>\n",
       "      <td>1.372049</td>\n",
       "    </tr>\n",
       "    <tr>\n",
       "      <th>29</th>\n",
       "      <td>0.30</td>\n",
       "      <td>0.300003</td>\n",
       "      <td>0.212734</td>\n",
       "      <td>1.363223</td>\n",
       "    </tr>\n",
       "  </tbody>\n",
       "</table>\n",
       "</div>"
      ],
      "text/plain": [
       "    Target   Returns  Volatility  Shape_Ratio\n",
       "0     0.01  0.144899    0.143262     0.941623\n",
       "1     0.02  0.145102    0.143258     0.943072\n",
       "2     0.03  0.142681    0.143199     0.926550\n",
       "3     0.04  0.144105    0.143276     0.935994\n",
       "4     0.05  0.143637    0.143233     0.933000\n",
       "5     0.06  0.144608    0.143257     0.939627\n",
       "6     0.07  0.144079    0.143231     0.936104\n",
       "7     0.08  0.143711    0.143230     0.933534\n",
       "8     0.09  0.143252    0.143204     0.930504\n",
       "9     0.10  0.143210    0.143215     0.930140\n",
       "10    0.11  0.143222    0.143212     0.930241\n",
       "11    0.12  0.143465    0.143220     0.931887\n",
       "12    0.13  0.144548    0.143246     0.939279\n",
       "13    0.14  0.147522    0.143327     0.959498\n",
       "14    0.15  0.153112    0.143551     0.996942\n",
       "15    0.16  0.160845    0.144069     1.047038\n",
       "16    0.17  0.170045    0.145064     1.103276\n",
       "17    0.18  0.180082    0.146574     1.160380\n",
       "18    0.19  0.190380    0.148482     1.214828\n",
       "19    0.20  0.200142    0.150659     1.262073\n",
       "20    0.21  0.210066    0.153496     1.303392\n",
       "21    0.22  0.219992    0.157067     1.336957\n",
       "22    0.23  0.230026    0.161703     1.360685\n",
       "23    0.24  0.239993    0.167190     1.375640\n",
       "24    0.25  0.249980    0.173237     1.385269\n",
       "25    0.26  0.259990    0.179993     1.388888\n",
       "26    0.27  0.270019    0.187257     1.388567\n",
       "27    0.28  0.279973    0.195545     1.380619\n",
       "28    0.29  0.289994    0.204070     1.372049\n",
       "29    0.30  0.300003    0.212734     1.363223"
      ]
     },
     "execution_count": 63,
     "metadata": {},
     "output_type": "execute_result"
    }
   ],
   "source": [
    "assets"
   ]
  },
  {
   "cell_type": "code",
   "execution_count": null,
   "metadata": {},
   "outputs": [],
   "source": []
  },
  {
   "cell_type": "code",
   "execution_count": null,
   "metadata": {},
   "outputs": [],
   "source": []
  },
  {
   "cell_type": "code",
   "execution_count": null,
   "metadata": {},
   "outputs": [],
   "source": []
  },
  {
   "cell_type": "code",
   "execution_count": null,
   "metadata": {},
   "outputs": [],
   "source": []
  },
  {
   "cell_type": "code",
   "execution_count": null,
   "metadata": {},
   "outputs": [],
   "source": []
  },
  {
   "cell_type": "code",
   "execution_count": null,
   "metadata": {},
   "outputs": [],
   "source": []
  },
  {
   "cell_type": "code",
   "execution_count": null,
   "metadata": {},
   "outputs": [],
   "source": []
  },
  {
   "cell_type": "code",
   "execution_count": null,
   "metadata": {},
   "outputs": [],
   "source": []
  },
  {
   "cell_type": "code",
   "execution_count": null,
   "metadata": {},
   "outputs": [],
   "source": []
  },
  {
   "cell_type": "code",
   "execution_count": null,
   "metadata": {},
   "outputs": [],
   "source": []
  },
  {
   "cell_type": "code",
   "execution_count": null,
   "metadata": {},
   "outputs": [],
   "source": []
  }
 ],
 "metadata": {
  "kernelspec": {
   "display_name": "Python 3",
   "language": "python",
   "name": "python3"
  },
  "language_info": {
   "codemirror_mode": {
    "name": "ipython",
    "version": 3
   },
   "file_extension": ".py",
   "mimetype": "text/x-python",
   "name": "python",
   "nbconvert_exporter": "python",
   "pygments_lexer": "ipython3",
   "version": "3.8.5"
  }
 },
 "nbformat": 4,
 "nbformat_minor": 4
}
