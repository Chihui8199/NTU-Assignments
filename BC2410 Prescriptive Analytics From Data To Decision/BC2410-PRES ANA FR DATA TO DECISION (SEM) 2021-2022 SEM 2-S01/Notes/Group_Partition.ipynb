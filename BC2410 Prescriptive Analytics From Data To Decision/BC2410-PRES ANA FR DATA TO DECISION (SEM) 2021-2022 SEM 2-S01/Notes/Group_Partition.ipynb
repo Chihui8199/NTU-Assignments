{
 "cells": [
  {
   "cell_type": "markdown",
   "metadata": {},
   "source": [
    "## Student Group Partition"
   ]
  },
  {
   "cell_type": "code",
   "execution_count": 1,
   "metadata": {},
   "outputs": [],
   "source": [
    "import pandas as pd\n",
    "import numpy as np\n",
    "from rsome import ro\n",
    "from sklearn.preprocessing import LabelEncoder\n",
    "from rsome import grb_solver as grb"
   ]
  },
  {
   "cell_type": "code",
   "execution_count": 2,
   "metadata": {},
   "outputs": [
    {
     "data": {
      "text/html": [
       "<div>\n",
       "<style scoped>\n",
       "    .dataframe tbody tr th:only-of-type {\n",
       "        vertical-align: middle;\n",
       "    }\n",
       "\n",
       "    .dataframe tbody tr th {\n",
       "        vertical-align: top;\n",
       "    }\n",
       "\n",
       "    .dataframe thead th {\n",
       "        text-align: right;\n",
       "    }\n",
       "</style>\n",
       "<table border=\"1\" class=\"dataframe\">\n",
       "  <thead>\n",
       "    <tr style=\"text-align: right;\">\n",
       "      <th></th>\n",
       "      <th>No.</th>\n",
       "      <th>Name</th>\n",
       "      <th>Prog</th>\n",
       "      <th>Year</th>\n",
       "      <th>Gender</th>\n",
       "      <th>Table</th>\n",
       "    </tr>\n",
       "  </thead>\n",
       "  <tbody>\n",
       "    <tr>\n",
       "      <th>0</th>\n",
       "      <td>1</td>\n",
       "      <td>AARON YANG SEN WEI</td>\n",
       "      <td>MATH</td>\n",
       "      <td>Y3</td>\n",
       "      <td>M</td>\n",
       "      <td>1</td>\n",
       "    </tr>\n",
       "    <tr>\n",
       "      <th>1</th>\n",
       "      <td>13</td>\n",
       "      <td>LAM HUI QING</td>\n",
       "      <td>BUS</td>\n",
       "      <td>Y2</td>\n",
       "      <td>F</td>\n",
       "      <td>1</td>\n",
       "    </tr>\n",
       "    <tr>\n",
       "      <th>2</th>\n",
       "      <td>19</td>\n",
       "      <td>MUHAMMAD SOFYAN BIN ABDUL RAHIM</td>\n",
       "      <td>BUS</td>\n",
       "      <td>Y2</td>\n",
       "      <td>M</td>\n",
       "      <td>1</td>\n",
       "    </tr>\n",
       "    <tr>\n",
       "      <th>3</th>\n",
       "      <td>28</td>\n",
       "      <td>WANG WAYNE</td>\n",
       "      <td>BCG</td>\n",
       "      <td>Y3</td>\n",
       "      <td>M</td>\n",
       "      <td>1</td>\n",
       "    </tr>\n",
       "    <tr>\n",
       "      <th>4</th>\n",
       "      <td>24</td>\n",
       "      <td>TEE ZHENG YANG</td>\n",
       "      <td>BCG</td>\n",
       "      <td>Y4</td>\n",
       "      <td>M</td>\n",
       "      <td>2</td>\n",
       "    </tr>\n",
       "    <tr>\n",
       "      <th>5</th>\n",
       "      <td>8</td>\n",
       "      <td>DYLAN KOON MENG XIANG</td>\n",
       "      <td>BUS</td>\n",
       "      <td>Y2</td>\n",
       "      <td>M</td>\n",
       "      <td>2</td>\n",
       "    </tr>\n",
       "    <tr>\n",
       "      <th>6</th>\n",
       "      <td>14</td>\n",
       "      <td>LEK ZHI YING</td>\n",
       "      <td>BCG</td>\n",
       "      <td>Y3</td>\n",
       "      <td>F</td>\n",
       "      <td>2</td>\n",
       "    </tr>\n",
       "    <tr>\n",
       "      <th>7</th>\n",
       "      <td>21</td>\n",
       "      <td>ORE CHEE HUAI</td>\n",
       "      <td>BUS</td>\n",
       "      <td>Y2</td>\n",
       "      <td>M</td>\n",
       "      <td>2</td>\n",
       "    </tr>\n",
       "    <tr>\n",
       "      <th>8</th>\n",
       "      <td>18</td>\n",
       "      <td>MALCOLM TAN YEN DA</td>\n",
       "      <td>BUS</td>\n",
       "      <td>Y3</td>\n",
       "      <td>M</td>\n",
       "      <td>3</td>\n",
       "    </tr>\n",
       "    <tr>\n",
       "      <th>9</th>\n",
       "      <td>25</td>\n",
       "      <td>TENG WEI SHAO</td>\n",
       "      <td>BUS</td>\n",
       "      <td>Y2</td>\n",
       "      <td>M</td>\n",
       "      <td>3</td>\n",
       "    </tr>\n",
       "    <tr>\n",
       "      <th>10</th>\n",
       "      <td>30</td>\n",
       "      <td>XU SHIGUANG</td>\n",
       "      <td>BCG</td>\n",
       "      <td>Y4</td>\n",
       "      <td>M</td>\n",
       "      <td>3</td>\n",
       "    </tr>\n",
       "    <tr>\n",
       "      <th>11</th>\n",
       "      <td>22</td>\n",
       "      <td>SABRINA LAM JING WEN</td>\n",
       "      <td>BCG</td>\n",
       "      <td>Y3</td>\n",
       "      <td>F</td>\n",
       "      <td>5</td>\n",
       "    </tr>\n",
       "    <tr>\n",
       "      <th>12</th>\n",
       "      <td>5</td>\n",
       "      <td>CARISSA LIM HUI YI</td>\n",
       "      <td>BCG</td>\n",
       "      <td>Y3</td>\n",
       "      <td>F</td>\n",
       "      <td>4</td>\n",
       "    </tr>\n",
       "    <tr>\n",
       "      <th>13</th>\n",
       "      <td>10</td>\n",
       "      <td>JORDAN ANG YI DA</td>\n",
       "      <td>BUS</td>\n",
       "      <td>Y3</td>\n",
       "      <td>M</td>\n",
       "      <td>4</td>\n",
       "    </tr>\n",
       "    <tr>\n",
       "      <th>14</th>\n",
       "      <td>27</td>\n",
       "      <td>TOH CHIA LING</td>\n",
       "      <td>BCG</td>\n",
       "      <td>Y2</td>\n",
       "      <td>F</td>\n",
       "      <td>4</td>\n",
       "    </tr>\n",
       "    <tr>\n",
       "      <th>15</th>\n",
       "      <td>2</td>\n",
       "      <td>ARKAR MINN KHANT</td>\n",
       "      <td>BUS</td>\n",
       "      <td>Y2</td>\n",
       "      <td>M</td>\n",
       "      <td>5</td>\n",
       "    </tr>\n",
       "    <tr>\n",
       "      <th>16</th>\n",
       "      <td>7</td>\n",
       "      <td>CHERLYN ANG KAI SI</td>\n",
       "      <td>BUS</td>\n",
       "      <td>Y2</td>\n",
       "      <td>F</td>\n",
       "      <td>5</td>\n",
       "    </tr>\n",
       "    <tr>\n",
       "      <th>17</th>\n",
       "      <td>15</td>\n",
       "      <td>LI WENHAN</td>\n",
       "      <td>MATH</td>\n",
       "      <td>Y4</td>\n",
       "      <td>M</td>\n",
       "      <td>5</td>\n",
       "    </tr>\n",
       "    <tr>\n",
       "      <th>18</th>\n",
       "      <td>17</td>\n",
       "      <td>LOW SOO YEE CALVIN</td>\n",
       "      <td>BCG</td>\n",
       "      <td>Y3</td>\n",
       "      <td>M</td>\n",
       "      <td>5</td>\n",
       "    </tr>\n",
       "    <tr>\n",
       "      <th>19</th>\n",
       "      <td>3</td>\n",
       "      <td>BAIRI SAHITYA</td>\n",
       "      <td>BCG</td>\n",
       "      <td>Y3</td>\n",
       "      <td>F</td>\n",
       "      <td>6</td>\n",
       "    </tr>\n",
       "    <tr>\n",
       "      <th>20</th>\n",
       "      <td>4</td>\n",
       "      <td>CAO TIEN THANH</td>\n",
       "      <td>MATH</td>\n",
       "      <td>Y4</td>\n",
       "      <td>M</td>\n",
       "      <td>6</td>\n",
       "    </tr>\n",
       "    <tr>\n",
       "      <th>21</th>\n",
       "      <td>6</td>\n",
       "      <td>CHENG XIAO YAN, CHEYENNE</td>\n",
       "      <td>BUS</td>\n",
       "      <td>Y2</td>\n",
       "      <td>F</td>\n",
       "      <td>6</td>\n",
       "    </tr>\n",
       "    <tr>\n",
       "      <th>22</th>\n",
       "      <td>23</td>\n",
       "      <td>STEFANIE LOW JING TING</td>\n",
       "      <td>BCG</td>\n",
       "      <td>Y3</td>\n",
       "      <td>F</td>\n",
       "      <td>6</td>\n",
       "    </tr>\n",
       "    <tr>\n",
       "      <th>23</th>\n",
       "      <td>9</td>\n",
       "      <td>FELIX HERMAN</td>\n",
       "      <td>BUS</td>\n",
       "      <td>Y3</td>\n",
       "      <td>M</td>\n",
       "      <td>7</td>\n",
       "    </tr>\n",
       "    <tr>\n",
       "      <th>24</th>\n",
       "      <td>26</td>\n",
       "      <td>TING NAI XIANG, MATTHEW</td>\n",
       "      <td>BCG</td>\n",
       "      <td>Y3</td>\n",
       "      <td>M</td>\n",
       "      <td>7</td>\n",
       "    </tr>\n",
       "    <tr>\n",
       "      <th>25</th>\n",
       "      <td>29</td>\n",
       "      <td>WONG JIA JIAN</td>\n",
       "      <td>BUS</td>\n",
       "      <td>Y2</td>\n",
       "      <td>M</td>\n",
       "      <td>7</td>\n",
       "    </tr>\n",
       "    <tr>\n",
       "      <th>26</th>\n",
       "      <td>11</td>\n",
       "      <td>JORDAN TAN REI YAO</td>\n",
       "      <td>BCG</td>\n",
       "      <td>Y4</td>\n",
       "      <td>M</td>\n",
       "      <td>8</td>\n",
       "    </tr>\n",
       "    <tr>\n",
       "      <th>27</th>\n",
       "      <td>12</td>\n",
       "      <td>KAMDAR MAHEK KETAN</td>\n",
       "      <td>BUS</td>\n",
       "      <td>Y2</td>\n",
       "      <td>F</td>\n",
       "      <td>8</td>\n",
       "    </tr>\n",
       "    <tr>\n",
       "      <th>28</th>\n",
       "      <td>16</td>\n",
       "      <td>LIM EN RUI</td>\n",
       "      <td>BUS</td>\n",
       "      <td>Y3</td>\n",
       "      <td>M</td>\n",
       "      <td>8</td>\n",
       "    </tr>\n",
       "    <tr>\n",
       "      <th>29</th>\n",
       "      <td>20</td>\n",
       "      <td>NICHOLAS ANDREW</td>\n",
       "      <td>MATH</td>\n",
       "      <td>Y3</td>\n",
       "      <td>M</td>\n",
       "      <td>8</td>\n",
       "    </tr>\n",
       "  </tbody>\n",
       "</table>\n",
       "</div>"
      ],
      "text/plain": [
       "    No.                             Name  Prog Year Gender  Table\n",
       "0     1               AARON YANG SEN WEI  MATH   Y3      M      1\n",
       "1    13                     LAM HUI QING   BUS   Y2      F      1\n",
       "2    19  MUHAMMAD SOFYAN BIN ABDUL RAHIM   BUS   Y2      M      1\n",
       "3    28                       WANG WAYNE   BCG   Y3      M      1\n",
       "4    24                   TEE ZHENG YANG   BCG   Y4      M      2\n",
       "5     8            DYLAN KOON MENG XIANG   BUS   Y2      M      2\n",
       "6    14                     LEK ZHI YING   BCG   Y3      F      2\n",
       "7    21                    ORE CHEE HUAI   BUS   Y2      M      2\n",
       "8    18               MALCOLM TAN YEN DA   BUS   Y3      M      3\n",
       "9    25                    TENG WEI SHAO   BUS   Y2      M      3\n",
       "10   30                      XU SHIGUANG   BCG   Y4      M      3\n",
       "11   22             SABRINA LAM JING WEN   BCG   Y3      F      5\n",
       "12    5               CARISSA LIM HUI YI   BCG   Y3      F      4\n",
       "13   10                 JORDAN ANG YI DA   BUS   Y3      M      4\n",
       "14   27                    TOH CHIA LING   BCG   Y2      F      4\n",
       "15    2                 ARKAR MINN KHANT   BUS   Y2      M      5\n",
       "16    7               CHERLYN ANG KAI SI   BUS   Y2      F      5\n",
       "17   15                        LI WENHAN  MATH   Y4      M      5\n",
       "18   17               LOW SOO YEE CALVIN   BCG   Y3      M      5\n",
       "19    3                    BAIRI SAHITYA   BCG   Y3      F      6\n",
       "20    4                   CAO TIEN THANH  MATH   Y4      M      6\n",
       "21    6         CHENG XIAO YAN, CHEYENNE   BUS   Y2      F      6\n",
       "22   23           STEFANIE LOW JING TING   BCG   Y3      F      6\n",
       "23    9                     FELIX HERMAN   BUS   Y3      M      7\n",
       "24   26          TING NAI XIANG, MATTHEW   BCG   Y3      M      7\n",
       "25   29                    WONG JIA JIAN   BUS   Y2      M      7\n",
       "26   11               JORDAN TAN REI YAO   BCG   Y4      M      8\n",
       "27   12               KAMDAR MAHEK KETAN   BUS   Y2      F      8\n",
       "28   16                       LIM EN RUI   BUS   Y3      M      8\n",
       "29   20                  NICHOLAS ANDREW  MATH   Y3      M      8"
      ]
     },
     "execution_count": 2,
     "metadata": {},
     "output_type": "execute_result"
    }
   ],
   "source": [
    "# att_list = [\"No.\", \"Name\", \"Prog\", \"Year\", \"Gender\", \"Student Type\", \"Nationality\", \"VMS Acc\"]\n",
    "att_select = [\"No.\", \"Name\", \"Prog\", \"Year\", \"Gender\", \"Table\"]\n",
    "profile = pd.read_csv(\"Student_profile.csv\", usecols = att_select)\n",
    "# profile['Year'] = 'Y' + profile['Year'].astype(str)\n",
    "profile"
   ]
  },
  {
   "cell_type": "markdown",
   "metadata": {},
   "source": [
    "### Gender"
   ]
  },
  {
   "cell_type": "code",
   "execution_count": 3,
   "metadata": {},
   "outputs": [
    {
     "data": {
      "text/plain": [
       "M    20\n",
       "F    10\n",
       "Name: Gender, dtype: int64"
      ]
     },
     "execution_count": 3,
     "metadata": {},
     "output_type": "execute_result"
    }
   ],
   "source": [
    "profile['Gender'].value_counts()"
   ]
  },
  {
   "cell_type": "markdown",
   "metadata": {},
   "source": [
    "### Year"
   ]
  },
  {
   "cell_type": "code",
   "execution_count": 4,
   "metadata": {},
   "outputs": [
    {
     "data": {
      "text/plain": [
       "Y3    14\n",
       "Y2    11\n",
       "Y4     5\n",
       "Name: Year, dtype: int64"
      ]
     },
     "execution_count": 4,
     "metadata": {},
     "output_type": "execute_result"
    }
   ],
   "source": [
    "profile['Year'].value_counts()"
   ]
  },
  {
   "cell_type": "markdown",
   "metadata": {},
   "source": [
    "### Prog"
   ]
  },
  {
   "cell_type": "code",
   "execution_count": 5,
   "metadata": {},
   "outputs": [
    {
     "data": {
      "text/plain": [
       "BUS     14\n",
       "BCG     12\n",
       "MATH     4\n",
       "Name: Prog, dtype: int64"
      ]
     },
     "execution_count": 5,
     "metadata": {},
     "output_type": "execute_result"
    }
   ],
   "source": [
    "profile['Prog'].value_counts()"
   ]
  },
  {
   "cell_type": "markdown",
   "metadata": {},
   "source": [
    "### Setting number of groups"
   ]
  },
  {
   "cell_type": "code",
   "execution_count": 7,
   "metadata": {},
   "outputs": [],
   "source": [
    "N_stu = len(profile['Gender'])\n",
    "N_grp = 6"
   ]
  },
  {
   "cell_type": "code",
   "execution_count": 9,
   "metadata": {},
   "outputs": [],
   "source": [
    "dm = pd.get_dummies(profile['Prog'])\n",
    "df = pd.concat([profile, dm], axis=1)\n",
    "\n",
    "dm = pd.get_dummies(profile['Year'])\n",
    "df = pd.concat([df, dm], axis=1)\n",
    "\n",
    "dm = pd.get_dummies(profile['Gender'])\n",
    "data = pd.concat([df, dm], axis=1)\n",
    "# data = data.rename(columns={2: \"Y2\", 3: \"Y3\", 4: \"Y4\"})\n",
    "m = ro.Model('Group Partition')\n",
    "\n",
    "x = m.dvar((N_stu, N_grp), 'B')\n",
    "\n",
    "dis = m.dvar( N_stu, 'B' )\n",
    "\n",
    "table = profile['Table'].values\n",
    "\n",
    "m.min( dis.sum() )"
   ]
  },
  {
   "cell_type": "markdown",
   "metadata": {},
   "source": [
    "### Total number of students to be assigned"
   ]
  },
  {
   "cell_type": "code",
   "execution_count": 10,
   "metadata": {},
   "outputs": [],
   "source": [
    "m.st( x.sum() == N_stu ) "
   ]
  },
  {
   "cell_type": "markdown",
   "metadata": {},
   "source": [
    "### Each student can only be assigned to one group"
   ]
  },
  {
   "cell_type": "code",
   "execution_count": 11,
   "metadata": {},
   "outputs": [],
   "source": [
    "m.st( x.sum(axis = 1) == 1 ) "
   ]
  },
  {
   "cell_type": "markdown",
   "metadata": {},
   "source": [
    "### Each group can not be more than 5 students"
   ]
  },
  {
   "cell_type": "code",
   "execution_count": 12,
   "metadata": {},
   "outputs": [],
   "source": [
    "m.st( x.sum(axis = 0) <= np.ceil(N_stu/N_grp) ) "
   ]
  },
  {
   "cell_type": "markdown",
   "metadata": {},
   "source": [
    "### Students should be assigned to groups as evenly as possible based on their gender, year, and program."
   ]
  },
  {
   "cell_type": "code",
   "execution_count": 13,
   "metadata": {},
   "outputs": [],
   "source": [
    "criteria = ['Gender', 'Year', 'Prog']\n",
    "for ct in criteria:\n",
    "    ct_len = len(data[ct].value_counts())\n",
    "    val_count = data[ct].value_counts()\n",
    "    ct_val = val_count.index.values\n",
    "    \n",
    "    for i in range(ct_len):\n",
    "        \n",
    "        m.st( x.T @ data[ct_val[i]].to_numpy() >= np.floor( val_count[i]/N_grp ) ) \n",
    "        \n",
    "        if np.floor( val_count[i]/N_grp ) == 0:\n",
    "            m.st( x.T @ data[ct_val[i]].to_numpy() <= 1 )"
   ]
  },
  {
   "cell_type": "markdown",
   "metadata": {},
   "source": [
    "### Most of the students will stay in the previous group"
   ]
  },
  {
   "cell_type": "code",
   "execution_count": 14,
   "metadata": {},
   "outputs": [],
   "source": [
    "m.st( 3*dis[i] >= table[i] - sum( x[i,j]*j for j in range(N_grp)) for i in range(N_stu) )\n",
    "\n",
    "m.st( table[i] >= sum( x[i,j]*j for j in range(N_grp)) for i in range(N_stu) )"
   ]
  },
  {
   "cell_type": "code",
   "execution_count": 15,
   "metadata": {},
   "outputs": [
    {
     "name": "stdout",
     "output_type": "stream",
     "text": [
      "Set parameter Username\n",
      "Academic license - for non-commercial use only - expires 2023-01-14\n",
      "Being solved by Gurobi...\n",
      "Solution status: 2\n",
      "Running time: 0.0148s\n"
     ]
    }
   ],
   "source": [
    "# m.st(x >= 0)\n",
    "# m.st(x <= 1)\n",
    "    \n",
    "m.solve(grb)\n",
    "\n",
    "x_opt = x.get()"
   ]
  },
  {
   "cell_type": "markdown",
   "metadata": {},
   "source": [
    "### Obtain the final list for each group"
   ]
  },
  {
   "cell_type": "code",
   "execution_count": 16,
   "metadata": {},
   "outputs": [
    {
     "name": "stdout",
     "output_type": "stream",
     "text": [
      "Students in Group: 1\n",
      "5     DYLAN KOON MENG XIANG\n",
      "6              LEK ZHI YING\n",
      "8        MALCOLM TAN YEN DA\n",
      "9             TENG WEI SHAO\n",
      "10              XU SHIGUANG\n",
      "Name: Name, dtype: object\n",
      "--------------------------\n",
      "Students in Group: 2\n",
      "0                  AARON YANG SEN WEI\n",
      "1                        LAM HUI QING\n",
      "2     MUHAMMAD SOFYAN BIN ABDUL RAHIM\n",
      "3                          WANG WAYNE\n",
      "12                 CARISSA LIM HUI YI\n",
      "Name: Name, dtype: object\n",
      "--------------------------\n",
      "Students in Group: 3\n",
      "4           TEE ZHENG YANG\n",
      "7            ORE CHEE HUAI\n",
      "11    SABRINA LAM JING WEN\n",
      "13        JORDAN ANG YI DA\n",
      "16      CHERLYN ANG KAI SI\n",
      "Name: Name, dtype: object\n",
      "--------------------------\n",
      "Students in Group: 4\n",
      "15            ARKAR MINN KHANT\n",
      "17                   LI WENHAN\n",
      "18          LOW SOO YEE CALVIN\n",
      "19               BAIRI SAHITYA\n",
      "21    CHENG XIAO YAN, CHEYENNE\n",
      "Name: Name, dtype: object\n",
      "--------------------------\n",
      "Students in Group: 5\n",
      "14              TOH CHIA LING\n",
      "20             CAO TIEN THANH\n",
      "23               FELIX HERMAN\n",
      "24    TING NAI XIANG, MATTHEW\n",
      "25              WONG JIA JIAN\n",
      "Name: Name, dtype: object\n",
      "--------------------------\n",
      "Students in Group: 6\n",
      "22    STEFANIE LOW JING TING\n",
      "26        JORDAN TAN REI YAO\n",
      "27        KAMDAR MAHEK KETAN\n",
      "28                LIM EN RUI\n",
      "29           NICHOLAS ANDREW\n",
      "Name: Name, dtype: object\n",
      "--------------------------\n"
     ]
    }
   ],
   "source": [
    "Group = {}\n",
    "for i in range(N_grp):\n",
    "    Group[i] = data[x_opt[:,i] == 1]['Name']\n",
    "    print('Students in Group:', i + 1)\n",
    "    print(Group[i])\n",
    "    print('--------------------------')"
   ]
  },
  {
   "cell_type": "markdown",
   "metadata": {},
   "source": [
    "### Add to the profile and save it"
   ]
  },
  {
   "cell_type": "code",
   "execution_count": null,
   "metadata": {},
   "outputs": [],
   "source": [
    "profile['Table'] = [np.where(x_opt[i] == 1)[0][0] + 1 for i in range(N_stu)]"
   ]
  },
  {
   "cell_type": "code",
   "execution_count": null,
   "metadata": {},
   "outputs": [],
   "source": [
    "profile.to_csv('Sitting_Plan.csv')"
   ]
  },
  {
   "cell_type": "code",
   "execution_count": null,
   "metadata": {},
   "outputs": [],
   "source": []
  }
 ],
 "metadata": {
  "kernelspec": {
   "display_name": "Python 3 (ipykernel)",
   "language": "python",
   "name": "python3"
  },
  "language_info": {
   "codemirror_mode": {
    "name": "ipython",
    "version": 3
   },
   "file_extension": ".py",
   "mimetype": "text/x-python",
   "name": "python",
   "nbconvert_exporter": "python",
   "pygments_lexer": "ipython3",
   "version": "3.7.11"
  }
 },
 "nbformat": 4,
 "nbformat_minor": 4
}
