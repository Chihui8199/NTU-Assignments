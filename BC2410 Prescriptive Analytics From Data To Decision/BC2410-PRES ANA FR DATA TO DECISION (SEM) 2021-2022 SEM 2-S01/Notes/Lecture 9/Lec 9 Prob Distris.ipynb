{
 "cells": [
  {
   "cell_type": "code",
   "execution_count": 1,
   "metadata": {},
   "outputs": [],
   "source": [
    "import numpy as np\n",
    "import pandas as pd\n",
    "from scipy.stats import binom, poisson, norm, uniform, expon\n",
    "import matplotlib.pyplot as plt"
   ]
  },
  {
   "cell_type": "markdown",
   "metadata": {},
   "source": [
    "## Binomial Distribution"
   ]
  },
  {
   "cell_type": "code",
   "execution_count": 2,
   "metadata": {},
   "outputs": [
    {
     "name": "stdout",
     "output_type": "stream",
     "text": [
      "26.0 13.0\n"
     ]
    }
   ],
   "source": [
    "n, p = 52, 0.5\n",
    "mean, var = binom.stats(n, p)\n",
    "print( mean, var )"
   ]
  },
  {
   "cell_type": "code",
   "execution_count": 3,
   "metadata": {},
   "outputs": [
    {
     "data": {
      "text/plain": [
       "<matplotlib.collections.LineCollection at 0x2093bc7a6d0>"
      ]
     },
     "execution_count": 3,
     "metadata": {},
     "output_type": "execute_result"
    },
    {
     "data": {
      "image/png": "[encoded data removed]",
      "text/plain": [
       "<Figure size 432x288 with 1 Axes>"
      ]
     },
     "metadata": {
      "needs_background": "light"
     },
     "output_type": "display_data"
    }
   ],
   "source": [
    "fig = plt.figure( figsize = (6,4) )\n",
    "x = np.arange(binom.ppf(0, n, p),\n",
    "              binom.ppf(1, n, p))\n",
    "plt.plot(x, binom.pmf(x, n, p), 'bo', ms=6, label='binom pmf')\n",
    "plt.vlines(x, 0, binom.pmf(x, n, p), colors='b', lw=3, alpha=0.5)"
   ]
  },
  {
   "cell_type": "code",
   "execution_count": 4,
   "metadata": {},
   "outputs": [
    {
     "data": {
      "text/plain": [
       "<matplotlib.collections.LineCollection at 0x2095e82d7c0>"
      ]
     },
     "execution_count": 4,
     "metadata": {},
     "output_type": "execute_result"
    },
    {
     "data": {
      "image/png": "[encoded data removed]",
      "text/plain": [
       "<Figure size 432x288 with 1 Axes>"
      ]
     },
     "metadata": {
      "needs_background": "light"
     },
     "output_type": "display_data"
    }
   ],
   "source": [
    "fig = plt.figure( figsize = (6,4) )\n",
    "x = np.arange(binom.ppf(0, n, p),\n",
    "              binom.ppf(1, n, p))\n",
    "plt.plot(x, binom.cdf(x, n, p), 'bo', ms=6, label='binom pmf')\n",
    "plt.vlines(x, 0, binom.cdf(x, n, p), colors='b', lw=3, alpha=0.5)"
   ]
  },
  {
   "cell_type": "code",
   "execution_count": 5,
   "metadata": {},
   "outputs": [
    {
     "data": {
      "text/plain": [
       "0.0015926267238883796"
      ]
     },
     "execution_count": 5,
     "metadata": {},
     "output_type": "execute_result"
    }
   ],
   "source": [
    "1 - binom.cdf(36,52,0.5)"
   ]
  },
  {
   "cell_type": "code",
   "execution_count": 6,
   "metadata": {},
   "outputs": [
    {
     "data": {
      "text/plain": [
       "0.47141862964046233"
      ]
     },
     "execution_count": 6,
     "metadata": {},
     "output_type": "execute_result"
    }
   ],
   "source": [
    "p1 = 1 - binom.cdf(36,52,0.5)\n",
    "n = 400\n",
    "1 - binom.pmf(0,400,p1)"
   ]
  },
  {
   "cell_type": "markdown",
   "metadata": {},
   "source": [
    "## Poisson Distribution"
   ]
  },
  {
   "cell_type": "code",
   "execution_count": 7,
   "metadata": {},
   "outputs": [
    {
     "name": "stdout",
     "output_type": "stream",
     "text": [
      "5.0 5.0\n"
     ]
    }
   ],
   "source": [
    "lamb = 5\n",
    "mean, var = poisson.stats(lamb)\n",
    "print( mean, var )"
   ]
  },
  {
   "cell_type": "code",
   "execution_count": 8,
   "metadata": {},
   "outputs": [
    {
     "data": {
      "text/plain": [
       "<matplotlib.collections.LineCollection at 0x2095e912d00>"
      ]
     },
     "execution_count": 8,
     "metadata": {},
     "output_type": "execute_result"
    },
    {
     "data": {
      "image/png": "[encoded data removed]",
      "text/plain": [
       "<Figure size 432x288 with 1 Axes>"
      ]
     },
     "metadata": {
      "needs_background": "light"
     },
     "output_type": "display_data"
    }
   ],
   "source": [
    "fig = plt.figure( figsize = (6,4) )\n",
    "x = np.arange(poisson.ppf(0.0, lamb), poisson.ppf(0.9999999, lamb))\n",
    "plt.plot(x, poisson.pmf(x, lamb), 'bo', ms=6, label='binom pmf')\n",
    "plt.vlines(x, 0, poisson.pmf(x, lamb), colors='b', lw=3, alpha=0.5)"
   ]
  },
  {
   "cell_type": "markdown",
   "metadata": {},
   "source": [
    "## Exponential Distribution"
   ]
  },
  {
   "cell_type": "code",
   "execution_count": 9,
   "metadata": {},
   "outputs": [
    {
     "name": "stdout",
     "output_type": "stream",
     "text": [
      "0.5 0.25\n"
     ]
    }
   ],
   "source": [
    "lamb = 0.5\n",
    "mean, var = expon.stats( scale = lamb)\n",
    "print(mean, var)"
   ]
  },
  {
   "cell_type": "code",
   "execution_count": 10,
   "metadata": {},
   "outputs": [
    {
     "data": {
      "text/plain": [
       "[<matplotlib.lines.Line2D at 0x2095e9db160>]"
      ]
     },
     "execution_count": 10,
     "metadata": {},
     "output_type": "execute_result"
    },
    {
     "data": {
      "image/png": "[encoded data removed]",
      "text/plain": [
       "<Figure size 432x288 with 1 Axes>"
      ]
     },
     "metadata": {
      "needs_background": "light"
     },
     "output_type": "display_data"
    }
   ],
   "source": [
    "fig = plt.figure( figsize = (6,4) )\n",
    "x = np.linspace(expon.ppf(0.000001, scale = 1/lamb), expon.ppf(0.999999, scale = 1/lamb), 100)\n",
    "plt.plot(x, expon.pdf(x, scale = 1/lamb),'b-', lw=5, alpha=0.6, label='expon pdf')"
   ]
  },
  {
   "cell_type": "markdown",
   "metadata": {},
   "source": [
    "## Uniform Distribution"
   ]
  },
  {
   "cell_type": "code",
   "execution_count": 11,
   "metadata": {},
   "outputs": [
    {
     "name": "stdout",
     "output_type": "stream",
     "text": [
      "20.0 33.33333333333333\n"
     ]
    }
   ],
   "source": [
    "a = 10\n",
    "b = 30 \n",
    "mean, var = uniform.stats(loc = a, scale = b - a)\n",
    "print(mean, var)"
   ]
  },
  {
   "cell_type": "code",
   "execution_count": 12,
   "metadata": {},
   "outputs": [
    {
     "data": {
      "text/plain": [
       "[<matplotlib.lines.Line2D at 0x2095ea2baf0>]"
      ]
     },
     "execution_count": 12,
     "metadata": {},
     "output_type": "execute_result"
    },
    {
     "data": {
      "image/png": "[encoded data removed]",
      "text/plain": [
       "<Figure size 432x288 with 1 Axes>"
      ]
     },
     "metadata": {
      "needs_background": "light"
     },
     "output_type": "display_data"
    }
   ],
   "source": [
    "fig = plt.figure( figsize = (6,4) )\n",
    "x = np.linspace(uniform.ppf(0, loc = a, scale = b - a), uniform.ppf(1, loc = a, scale = b - a), 1000)\n",
    "plt.plot(x, uniform.pdf(x, loc = a, scale = b - a), 'b-', lw=5, alpha=0.6, label='uniform pdf')"
   ]
  },
  {
   "cell_type": "markdown",
   "metadata": {},
   "source": [
    "## Normal Distribution"
   ]
  },
  {
   "cell_type": "code",
   "execution_count": 13,
   "metadata": {},
   "outputs": [
    {
     "name": "stdout",
     "output_type": "stream",
     "text": [
      "100.0 625.0\n"
     ]
    }
   ],
   "source": [
    "mu = 100\n",
    "sigma = 25 \n",
    "mean, var = norm.stats(mu,sigma)\n",
    "print(mean, var)"
   ]
  },
  {
   "cell_type": "code",
   "execution_count": 14,
   "metadata": {},
   "outputs": [
    {
     "data": {
      "text/plain": [
       "[<matplotlib.lines.Line2D at 0x2095ea85f40>]"
      ]
     },
     "execution_count": 14,
     "metadata": {},
     "output_type": "execute_result"
    },
    {
     "data": {
      "image/png": "[encoded data removed]",
      "text/plain": [
       "<Figure size 432x288 with 1 Axes>"
      ]
     },
     "metadata": {
      "needs_background": "light"
     },
     "output_type": "display_data"
    }
   ],
   "source": [
    "fig = plt.figure( figsize = (6,4) )\n",
    "x = np.linspace(norm.ppf(0.0001, loc = mu, scale = sigma), norm.ppf(0.9999, loc = mu, scale = sigma), 100)\n",
    "plt.plot(x, norm.pdf(x, loc = mu, scale = sigma), 'b-', lw=5, alpha=0.6, label='uniform pdf')"
   ]
  },
  {
   "cell_type": "code",
   "execution_count": 15,
   "metadata": {},
   "outputs": [
    {
     "data": {
      "text/plain": [
       "0.6826894921370859"
      ]
     },
     "execution_count": 15,
     "metadata": {},
     "output_type": "execute_result"
    }
   ],
   "source": [
    "norm.cdf(125,mu,sigma) - norm.cdf(75, mu,sigma)"
   ]
  },
  {
   "cell_type": "code",
   "execution_count": 16,
   "metadata": {},
   "outputs": [
    {
     "data": {
      "text/plain": [
       "0.9544997361036416"
      ]
     },
     "execution_count": 16,
     "metadata": {},
     "output_type": "execute_result"
    }
   ],
   "source": [
    "norm.cdf(150,mu,sigma) - norm.cdf(50, mu,sigma)"
   ]
  },
  {
   "cell_type": "code",
   "execution_count": 17,
   "metadata": {},
   "outputs": [
    {
     "data": {
      "text/plain": [
       "0.9973002039367398"
      ]
     },
     "execution_count": 17,
     "metadata": {},
     "output_type": "execute_result"
    }
   ],
   "source": [
    "norm.cdf(175,mu,sigma) - norm.cdf(25, mu,sigma)"
   ]
  },
  {
   "cell_type": "markdown",
   "metadata": {},
   "source": [
    "## Analysing and fitting data"
   ]
  },
  {
   "cell_type": "code",
   "execution_count": 20,
   "metadata": {},
   "outputs": [
    {
     "name": "stdout",
     "output_type": "stream",
     "text": [
      "   Waiting  Seating\n",
      "0     10.2     43.3\n",
      "1      2.3     42.2\n",
      "2      1.1     49.2\n",
      "3     11.1     51.2\n",
      "4      6.5     44.4\n"
     ]
    }
   ],
   "source": [
    "data = pd.read_csv('Waiting_Time.csv')\n",
    "print(data.head(5))"
   ]
  },
  {
   "cell_type": "code",
   "execution_count": 22,
   "metadata": {},
   "outputs": [
    {
     "data": {
      "text/plain": [
       "(array([49., 24., 14.,  4.,  2.,  3.,  1.,  0.,  1.,  2.]),\n",
       " array([ 0.  ,  4.07,  8.14, 12.21, 16.28, 20.35, 24.42, 28.49, 32.56,\n",
       "        36.63, 40.7 ]),\n",
       " <BarContainer object of 10 artists>)"
      ]
     },
     "execution_count": 22,
     "metadata": {},
     "output_type": "execute_result"
    },
    {
     "data": {
      "image/png": "[encoded data removed]",
      "text/plain": [
       "<Figure size 432x288 with 1 Axes>"
      ]
     },
     "metadata": {
      "needs_background": "light"
     },
     "output_type": "display_data"
    }
   ],
   "source": [
    "plt.hist( data['Waiting'] )"
   ]
  },
  {
   "cell_type": "code",
   "execution_count": 24,
   "metadata": {},
   "outputs": [
    {
     "data": {
      "text/plain": [
       "(array([ 2.,  7.,  4., 17., 27., 14., 14., 10.,  4.,  1.]),\n",
       " array([29.6 , 33.31, 37.02, 40.73, 44.44, 48.15, 51.86, 55.57, 59.28,\n",
       "        62.99, 66.7 ]),\n",
       " <BarContainer object of 10 artists>)"
      ]
     },
     "execution_count": 24,
     "metadata": {},
     "output_type": "execute_result"
    },
    {
     "data": {
      "image/png": "[encoded data removed]",
      "text/plain": [
       "<Figure size 432x288 with 1 Axes>"
      ]
     },
     "metadata": {
      "needs_background": "light"
     },
     "output_type": "display_data"
    }
   ],
   "source": [
    "plt.hist( data['Seating'] )"
   ]
  },
  {
   "cell_type": "code",
   "execution_count": 29,
   "metadata": {},
   "outputs": [
    {
     "name": "stdout",
     "output_type": "stream",
     "text": [
      "[distfit] >fit..\n",
      "[distfit] >transform..\n",
      "[smoothline] >Smoothing by interpolation..\n",
      "[distfit] >[norm      ] [0.00 sec] [RSS: 0.0110505] [loc=6.743 scale=7.746]\n",
      "[distfit] >[expon     ] [0.0 sec] [RSS: 0.0127189] [loc=0.000 scale=6.743]\n",
      "[distfit] >[pareto    ] [0.02 sec] [RSS: 0.0797851] [loc=-1.791 scale=1.791]\n",
      "[distfit] >[dweibull  ] [0.03 sec] [RSS: 0.0058947] [loc=3.200 scale=4.978]\n",
      "[distfit] >[t         ] [0.01 sec] [RSS: 0.0023384] [loc=4.208 scale=3.276]\n",
      "[distfit] >[genextreme] [0.02 sec] [RSS: 0.0144245] [loc=2.870 scale=2.932]\n",
      "[distfit] >[gamma     ] [0.04 sec] [RSS: 0.0175073] [loc=-0.000 scale=8.311]\n",
      "[distfit] >[lognorm   ] [0.04 sec] [RSS: 0.0167230] [loc=-0.446 scale=4.512]\n",
      "[distfit] >[beta      ] [0.05 sec] [RSS: 0.0213847] [loc=-0.000 scale=561.057]\n",
      "[distfit] >[uniform   ] [0.0 sec] [RSS: 0.0387716] [loc=0.000 scale=40.700]\n",
      "[distfit] >[loggamma  ] [0.03 sec] [RSS: 0.0119467] [loc=-3310.981 scale=418.581]\n",
      "[distfit] >Compute confidence interval [parametric]\n"
     ]
    },
    {
     "data": {
      "text/plain": [
       "{'model': {'distr': <scipy.stats._continuous_distns.t_gen at 0x2095caef5e0>,\n",
       "  'stats': 'RSS',\n",
       "  'params': (1.882331637165917, 4.207900031082688, 3.275635803928977),\n",
       "  'name': 't',\n",
       "  'model': <scipy.stats._distn_infrastructure.rv_frozen at 0x20960f3d370>,\n",
       "  'score': 0.002338437258794656,\n",
       "  'loc': 4.207900031082688,\n",
       "  'scale': 3.275635803928977,\n",
       "  'arg': (1.882331637165917,),\n",
       "  'CII_min_alpha': -5.777404947184814,\n",
       "  'CII_max_alpha': 14.193205009350187},\n",
       " 'summary':          distr     score  LLE          loc       scale  \\\n",
       " 0            t  0.002338  NaN       4.2079    3.275636   \n",
       " 1     dweibull  0.005895  NaN          3.2    4.977577   \n",
       " 2         norm  0.011051  NaN        6.743    7.746099   \n",
       " 3     loggamma  0.011947  NaN -3310.980598  418.580769   \n",
       " 4        expon  0.012719  NaN          0.0       6.743   \n",
       " 5   genextreme  0.014425  NaN     2.870065    2.932269   \n",
       " 6      lognorm  0.016723  NaN    -0.446187    4.511793   \n",
       " 7        gamma  0.017507  NaN         -0.0    8.310534   \n",
       " 8         beta  0.021385  NaN         -0.0   561.05723   \n",
       " 9      uniform  0.038772  NaN          0.0        40.7   \n",
       " 10      pareto  0.079785  NaN    -1.791493    1.791493   \n",
       " \n",
       "                                         arg  \n",
       " 0                      (1.882331637165917,)  \n",
       " 1                     (0.8449085927292175,)  \n",
       " 2                                        ()  \n",
       " 3                     (2769.9294548511753,)  \n",
       " 4                                        ()  \n",
       " 5                    (-0.5204352674755015,)  \n",
       " 6                       (0.99711109913452,)  \n",
       " 7                     (0.8480211965482836,)  \n",
       " 8   (0.8465379159049629, 73.56250106451769)  \n",
       " 9                                        ()  \n",
       " 10                    (0.7634715906837017,)  ,\n",
       " 'histdata': (array([0.06019656, 0.06635295, 0.0691281 , 0.08035635, 0.08522925,\n",
       "         0.08952413, 0.08274247, 0.07606167, 0.06282584, 0.05134815,\n",
       "         0.04547358, 0.04163911, 0.03845151, 0.02726501, 0.0242455 ,\n",
       "         0.01966253, 0.01207491, 0.01031899, 0.00795257, 0.0071785 ,\n",
       "         0.00797392, 0.00822366, 0.00717515, 0.00754119, 0.00672729,\n",
       "         0.00614966, 0.0055099 , 0.00480961, 0.00487549, 0.00517034,\n",
       "         0.00336134, 0.00227161, 0.00247123, 0.00257478, 0.00157086,\n",
       "         0.00115123, 0.00124986, 0.0012153 , 0.00126016, 0.00112006,\n",
       "         0.00227602, 0.00249149, 0.00247037, 0.00238297, 0.00359244,\n",
       "         0.00370481, 0.00368151, 0.00368673, 0.00368431, 0.00386623]),\n",
       "  array([ 0.407     ,  1.23761224,  2.06822449,  2.89883673,  3.72944898,\n",
       "          4.56006122,  5.39067347,  6.22128571,  7.05189796,  7.8825102 ,\n",
       "          8.71312245,  9.54373469, 10.37434694, 11.20495918, 12.03557143,\n",
       "         12.86618367, 13.69679592, 14.52740816, 15.35802041, 16.18863265,\n",
       "         17.0192449 , 17.84985714, 18.68046939, 19.51108163, 20.34169388,\n",
       "         21.17230612, 22.00291837, 22.83353061, 23.66414286, 24.4947551 ,\n",
       "         25.32536735, 26.15597959, 26.98659184, 27.81720408, 28.64781633,\n",
       "         29.47842857, 30.30904082, 31.13965306, 31.97026531, 32.80087755,\n",
       "         33.6314898 , 34.46210204, 35.29271429, 36.12332653, 36.95393878,\n",
       "         37.78455102, 38.61516327, 39.44577551, 40.27638776, 41.107     ])),\n",
       " 'size': 100,\n",
       " 'alpha': 0.05,\n",
       " 'stats': 'RSS',\n",
       " 'bins': 50,\n",
       " 'bound': 'both',\n",
       " 'distr': 'popular',\n",
       " 'method': 'parametric',\n",
       " 'multtest': 'fdr_bh',\n",
       " 'n_perm': 10000,\n",
       " 'smooth': 10,\n",
       " 'weighted': True,\n",
       " 'f': 1.5}"
      ]
     },
     "execution_count": 29,
     "metadata": {},
     "output_type": "execute_result"
    }
   ],
   "source": [
    "from distfit import distfit\n",
    "\n",
    "# Initialize.\n",
    "# Set any properties here, such as alpha.\n",
    "# The smoothing can be of use when working with integers. Otherwise your histogram\n",
    "# may be jumping up-and-down, and getting the correct fit may be harder.\n",
    "dist = distfit(alpha=0.05, smooth=10)\n",
    "\n",
    "# Search for best theoretical fit on your empirical data\n",
    "dist.fit_transform( data['Waiting'].values )"
   ]
  },
  {
   "cell_type": "code",
   "execution_count": 30,
   "metadata": {},
   "outputs": [
    {
     "name": "stdout",
     "output_type": "stream",
     "text": [
      "{'distr': <scipy.stats._continuous_distns.t_gen object at 0x000002095CAEF5E0>, 'stats': 'RSS', 'params': (1.882331637165917, 4.207900031082688, 3.275635803928977), 'name': 't', 'model': <scipy.stats._distn_infrastructure.rv_frozen object at 0x0000020960F3D370>, 'score': 0.002338437258794656, 'loc': 4.207900031082688, 'scale': 3.275635803928977, 'arg': (1.882331637165917,), 'CII_min_alpha': -5.777404947184814, 'CII_max_alpha': 14.193205009350187}\n"
     ]
    }
   ],
   "source": [
    "# Best fitted model\n",
    "best_distr = dist.model\n",
    "\n",
    "print(best_distr)"
   ]
  },
  {
   "cell_type": "code",
   "execution_count": 31,
   "metadata": {},
   "outputs": [
    {
     "name": "stdout",
     "output_type": "stream",
     "text": [
      "[distfit] >plot summary..\n"
     ]
    },
    {
     "data": {
      "text/plain": [
       "(<Figure size 1080x576 with 1 Axes>,\n",
       " <AxesSubplot:title={'center':'Best fit: t'}, xlabel='Distribution name', ylabel='RSS (lower is better)'>)"
      ]
     },
     "execution_count": 31,
     "metadata": {},
     "output_type": "execute_result"
    },
    {
     "data": {
      "image/png": "[encoded data removed]",
      "text/plain": [
       "<Figure size 1080x576 with 1 Axes>"
      ]
     },
     "metadata": {
      "needs_background": "light"
     },
     "output_type": "display_data"
    }
   ],
   "source": [
    "# Ranking distributions\n",
    "dist.summary\n",
    "\n",
    "# Plot the summary of fitted distributions\n",
    "dist.plot_summary()"
   ]
  },
  {
   "cell_type": "markdown",
   "metadata": {},
   "source": [
    "Alternatively, you can also use the `fitter` package:"
   ]
  },
  {
   "cell_type": "code",
   "execution_count": 35,
   "metadata": {},
   "outputs": [
    {
     "data": {
      "text/html": [
       "<div>\n",
       "<style scoped>\n",
       "    .dataframe tbody tr th:only-of-type {\n",
       "        vertical-align: middle;\n",
       "    }\n",
       "\n",
       "    .dataframe tbody tr th {\n",
       "        vertical-align: top;\n",
       "    }\n",
       "\n",
       "    .dataframe thead th {\n",
       "        text-align: right;\n",
       "    }\n",
       "</style>\n",
       "<table border=\"1\" class=\"dataframe\">\n",
       "  <thead>\n",
       "    <tr style=\"text-align: right;\">\n",
       "      <th></th>\n",
       "      <th>sumsquare_error</th>\n",
       "      <th>aic</th>\n",
       "      <th>bic</th>\n",
       "      <th>kl_div</th>\n",
       "    </tr>\n",
       "  </thead>\n",
       "  <tbody>\n",
       "    <tr>\n",
       "      <th>expon</th>\n",
       "      <td>0.047237</td>\n",
       "      <td>989.289893</td>\n",
       "      <td>-756.564383</td>\n",
       "      <td>inf</td>\n",
       "    </tr>\n",
       "    <tr>\n",
       "      <th>gamma</th>\n",
       "      <td>0.048095</td>\n",
       "      <td>958.902302</td>\n",
       "      <td>-750.158514</td>\n",
       "      <td>inf</td>\n",
       "    </tr>\n",
       "    <tr>\n",
       "      <th>beta</th>\n",
       "      <td>0.048408</td>\n",
       "      <td>996.827819</td>\n",
       "      <td>-744.904843</td>\n",
       "      <td>inf</td>\n",
       "    </tr>\n",
       "    <tr>\n",
       "      <th>burr</th>\n",
       "      <td>0.058040</td>\n",
       "      <td>992.840108</td>\n",
       "      <td>-726.759254</td>\n",
       "      <td>inf</td>\n",
       "    </tr>\n",
       "    <tr>\n",
       "      <th>norm</th>\n",
       "      <td>0.119183</td>\n",
       "      <td>1135.836300</td>\n",
       "      <td>-664.016375</td>\n",
       "      <td>inf</td>\n",
       "    </tr>\n",
       "  </tbody>\n",
       "</table>\n",
       "</div>"
      ],
      "text/plain": [
       "       sumsquare_error          aic         bic  kl_div\n",
       "expon         0.047237   989.289893 -756.564383     inf\n",
       "gamma         0.048095   958.902302 -750.158514     inf\n",
       "beta          0.048408   996.827819 -744.904843     inf\n",
       "burr          0.058040   992.840108 -726.759254     inf\n",
       "norm          0.119183  1135.836300 -664.016375     inf"
      ]
     },
     "execution_count": 35,
     "metadata": {},
     "output_type": "execute_result"
    },
    {
     "data": {
      "image/png": "[encoded data removed]",
      "text/plain": [
       "<Figure size 432x288 with 1 Axes>"
      ]
     },
     "metadata": {
      "needs_background": "light"
     },
     "output_type": "display_data"
    }
   ],
   "source": [
    "from fitter import Fitter, get_common_distributions, get_distributions\n",
    "f = Fitter(data['Waiting'].values, distributions=['gamma','expon', \"beta\",\"burr\",\"norm\"]) \n",
    "f.fit()\n",
    "f.summary()"
   ]
  },
  {
   "cell_type": "code",
   "execution_count": null,
   "metadata": {},
   "outputs": [],
   "source": [
    "f.get_best(method = 'sumsquare_error')"
   ]
  },
  {
   "cell_type": "code",
   "execution_count": 38,
   "metadata": {},
   "outputs": [
    {
     "data": {
      "text/html": [
       "<div>\n",
       "<style scoped>\n",
       "    .dataframe tbody tr th:only-of-type {\n",
       "        vertical-align: middle;\n",
       "    }\n",
       "\n",
       "    .dataframe tbody tr th {\n",
       "        vertical-align: top;\n",
       "    }\n",
       "\n",
       "    .dataframe thead th {\n",
       "        text-align: right;\n",
       "    }\n",
       "</style>\n",
       "<table border=\"1\" class=\"dataframe\">\n",
       "  <thead>\n",
       "    <tr style=\"text-align: right;\">\n",
       "      <th></th>\n",
       "      <th>sumsquare_error</th>\n",
       "      <th>aic</th>\n",
       "      <th>bic</th>\n",
       "      <th>kl_div</th>\n",
       "    </tr>\n",
       "  </thead>\n",
       "  <tbody>\n",
       "    <tr>\n",
       "      <th>chi2</th>\n",
       "      <td>0.046664</td>\n",
       "      <td>996.932783</td>\n",
       "      <td>-753.179142</td>\n",
       "      <td>inf</td>\n",
       "    </tr>\n",
       "    <tr>\n",
       "      <th>expon</th>\n",
       "      <td>0.047237</td>\n",
       "      <td>989.289893</td>\n",
       "      <td>-756.564383</td>\n",
       "      <td>inf</td>\n",
       "    </tr>\n",
       "    <tr>\n",
       "      <th>gamma</th>\n",
       "      <td>0.048095</td>\n",
       "      <td>958.902302</td>\n",
       "      <td>-750.158514</td>\n",
       "      <td>inf</td>\n",
       "    </tr>\n",
       "    <tr>\n",
       "      <th>exponpow</th>\n",
       "      <td>0.054120</td>\n",
       "      <td>987.503192</td>\n",
       "      <td>-738.355776</td>\n",
       "      <td>inf</td>\n",
       "    </tr>\n",
       "    <tr>\n",
       "      <th>lognorm</th>\n",
       "      <td>0.054546</td>\n",
       "      <td>979.913557</td>\n",
       "      <td>-737.572024</td>\n",
       "      <td>inf</td>\n",
       "    </tr>\n",
       "  </tbody>\n",
       "</table>\n",
       "</div>"
      ],
      "text/plain": [
       "          sumsquare_error         aic         bic  kl_div\n",
       "chi2             0.046664  996.932783 -753.179142     inf\n",
       "expon            0.047237  989.289893 -756.564383     inf\n",
       "gamma            0.048095  958.902302 -750.158514     inf\n",
       "exponpow         0.054120  987.503192 -738.355776     inf\n",
       "lognorm          0.054546  979.913557 -737.572024     inf"
      ]
     },
     "execution_count": 38,
     "metadata": {},
     "output_type": "execute_result"
    },
    {
     "data": {
      "image/png": "[encoded data removed]",
      "text/plain": [
       "<Figure size 432x288 with 1 Axes>"
      ]
     },
     "metadata": {
      "needs_background": "light"
     },
     "output_type": "display_data"
    }
   ],
   "source": [
    "f = Fitter(data['Waiting'].values, distributions=get_common_distributions())\n",
    "f.fit()\n",
    "f.summary()"
   ]
  },
  {
   "cell_type": "code",
   "execution_count": 39,
   "metadata": {},
   "outputs": [
    {
     "data": {
      "text/plain": [
       "{'chi2': {'df': 1.9133250200236969,\n",
       "  'loc': -3.358965550712256e-25,\n",
       "  'scale': 3.4267357140978754}}"
      ]
     },
     "execution_count": 39,
     "metadata": {},
     "output_type": "execute_result"
    }
   ],
   "source": [
    "f.get_best(method = 'sumsquare_error')"
   ]
  },
  {
   "cell_type": "markdown",
   "metadata": {},
   "source": [
    "## Analyzing the restaurant demand data"
   ]
  },
  {
   "cell_type": "code",
   "execution_count": 49,
   "metadata": {},
   "outputs": [
    {
     "data": {
      "text/html": [
       "<div>\n",
       "<style scoped>\n",
       "    .dataframe tbody tr th:only-of-type {\n",
       "        vertical-align: middle;\n",
       "    }\n",
       "\n",
       "    .dataframe tbody tr th {\n",
       "        vertical-align: top;\n",
       "    }\n",
       "\n",
       "    .dataframe thead th {\n",
       "        text-align: right;\n",
       "    }\n",
       "</style>\n",
       "<table border=\"1\" class=\"dataframe\">\n",
       "  <thead>\n",
       "    <tr style=\"text-align: right;\">\n",
       "      <th></th>\n",
       "      <th>Date</th>\n",
       "      <th>total</th>\n",
       "      <th>Night_Reservation</th>\n",
       "      <th>Night_No_Reservation</th>\n",
       "      <th>Daytime_Reservation</th>\n",
       "      <th>Daytime_No_Reservation</th>\n",
       "      <th>Highest_Temperature</th>\n",
       "      <th>Lowest_Temperature</th>\n",
       "      <th>Amount_of_Precipitation</th>\n",
       "      <th>Maximum_Precipitaion_in_Ten_Mins</th>\n",
       "      <th>Average_Wind_Speed</th>\n",
       "      <th>Maximum_Wind_Speed</th>\n",
       "      <th>Maximum_Instantaneous_Wind_Speed</th>\n",
       "    </tr>\n",
       "  </thead>\n",
       "  <tbody>\n",
       "    <tr>\n",
       "      <th>0</th>\n",
       "      <td>5/1/2014</td>\n",
       "      <td>191</td>\n",
       "      <td>52</td>\n",
       "      <td>40</td>\n",
       "      <td>11</td>\n",
       "      <td>88</td>\n",
       "      <td>24.5</td>\n",
       "      <td>17.7</td>\n",
       "      <td>23.0</td>\n",
       "      <td>3.0</td>\n",
       "      <td>4.2</td>\n",
       "      <td>7.9</td>\n",
       "      <td>14.5</td>\n",
       "    </tr>\n",
       "    <tr>\n",
       "      <th>1</th>\n",
       "      <td>5/2/2014</td>\n",
       "      <td>178</td>\n",
       "      <td>51</td>\n",
       "      <td>39</td>\n",
       "      <td>6</td>\n",
       "      <td>82</td>\n",
       "      <td>25.6</td>\n",
       "      <td>17.3</td>\n",
       "      <td>0.0</td>\n",
       "      <td>0.0</td>\n",
       "      <td>2.7</td>\n",
       "      <td>5.7</td>\n",
       "      <td>9.6</td>\n",
       "    </tr>\n",
       "    <tr>\n",
       "      <th>2</th>\n",
       "      <td>5/3/2014</td>\n",
       "      <td>234</td>\n",
       "      <td>0</td>\n",
       "      <td>108</td>\n",
       "      <td>0</td>\n",
       "      <td>126</td>\n",
       "      <td>25.6</td>\n",
       "      <td>15.9</td>\n",
       "      <td>0.0</td>\n",
       "      <td>0.0</td>\n",
       "      <td>2.8</td>\n",
       "      <td>6.5</td>\n",
       "      <td>12.9</td>\n",
       "    </tr>\n",
       "    <tr>\n",
       "      <th>3</th>\n",
       "      <td>5/4/2014</td>\n",
       "      <td>293</td>\n",
       "      <td>24</td>\n",
       "      <td>83</td>\n",
       "      <td>20</td>\n",
       "      <td>166</td>\n",
       "      <td>23.0</td>\n",
       "      <td>14.8</td>\n",
       "      <td>0.0</td>\n",
       "      <td>0.0</td>\n",
       "      <td>4.5</td>\n",
       "      <td>8.9</td>\n",
       "      <td>15.9</td>\n",
       "    </tr>\n",
       "    <tr>\n",
       "      <th>4</th>\n",
       "      <td>5/5/2014</td>\n",
       "      <td>233</td>\n",
       "      <td>19</td>\n",
       "      <td>86</td>\n",
       "      <td>22</td>\n",
       "      <td>106</td>\n",
       "      <td>20.7</td>\n",
       "      <td>16.7</td>\n",
       "      <td>0.0</td>\n",
       "      <td>0.0</td>\n",
       "      <td>3.9</td>\n",
       "      <td>7.4</td>\n",
       "      <td>15.0</td>\n",
       "    </tr>\n",
       "  </tbody>\n",
       "</table>\n",
       "</div>"
      ],
      "text/plain": [
       "       Date  total  Night_Reservation  Night_No_Reservation  \\\n",
       "0  5/1/2014    191                 52                    40   \n",
       "1  5/2/2014    178                 51                    39   \n",
       "2  5/3/2014    234                  0                   108   \n",
       "3  5/4/2014    293                 24                    83   \n",
       "4  5/5/2014    233                 19                    86   \n",
       "\n",
       "   Daytime_Reservation  Daytime_No_Reservation  Highest_Temperature   \\\n",
       "0                   11                      88                  24.5   \n",
       "1                    6                      82                  25.6   \n",
       "2                    0                     126                  25.6   \n",
       "3                   20                     166                  23.0   \n",
       "4                   22                     106                  20.7   \n",
       "\n",
       "   Lowest_Temperature   Amount_of_Precipitation   \\\n",
       "0                 17.7                      23.0   \n",
       "1                 17.3                       0.0   \n",
       "2                 15.9                       0.0   \n",
       "3                 14.8                       0.0   \n",
       "4                 16.7                       0.0   \n",
       "\n",
       "   Maximum_Precipitaion_in_Ten_Mins   Average_Wind_Speed   \\\n",
       "0                                3.0                  4.2   \n",
       "1                                0.0                  2.7   \n",
       "2                                0.0                  2.8   \n",
       "3                                0.0                  4.5   \n",
       "4                                0.0                  3.9   \n",
       "\n",
       "   Maximum_Wind_Speed   Maximum_Instantaneous_Wind_Speed  \n",
       "0                  7.9                              14.5  \n",
       "1                  5.7                               9.6  \n",
       "2                  6.5                              12.9  \n",
       "3                  8.9                              15.9  \n",
       "4                  7.4                              15.0  "
      ]
     },
     "execution_count": 49,
     "metadata": {},
     "output_type": "execute_result"
    }
   ],
   "source": [
    "demand_data = pd.read_csv('Store_demand.csv')\n",
    "demand_data.head(5)"
   ]
  },
  {
   "cell_type": "code",
   "execution_count": 50,
   "metadata": {},
   "outputs": [
    {
     "data": {
      "text/plain": [
       "729"
      ]
     },
     "execution_count": 50,
     "metadata": {},
     "output_type": "execute_result"
    }
   ],
   "source": [
    "len(demand_data)"
   ]
  },
  {
   "cell_type": "code",
   "execution_count": 51,
   "metadata": {},
   "outputs": [
    {
     "data": {
      "text/html": [
       "<div>\n",
       "<style scoped>\n",
       "    .dataframe tbody tr th:only-of-type {\n",
       "        vertical-align: middle;\n",
       "    }\n",
       "\n",
       "    .dataframe tbody tr th {\n",
       "        vertical-align: top;\n",
       "    }\n",
       "\n",
       "    .dataframe thead th {\n",
       "        text-align: right;\n",
       "    }\n",
       "</style>\n",
       "<table border=\"1\" class=\"dataframe\">\n",
       "  <thead>\n",
       "    <tr style=\"text-align: right;\">\n",
       "      <th></th>\n",
       "      <th>total</th>\n",
       "      <th>Night_Reservation</th>\n",
       "      <th>Night_No_Reservation</th>\n",
       "      <th>Daytime_Reservation</th>\n",
       "      <th>Daytime_No_Reservation</th>\n",
       "      <th>Highest_Temperature</th>\n",
       "      <th>Lowest_Temperature</th>\n",
       "      <th>Amount_of_Precipitation</th>\n",
       "      <th>Maximum_Precipitaion_in_Ten_Mins</th>\n",
       "      <th>Average_Wind_Speed</th>\n",
       "      <th>Maximum_Wind_Speed</th>\n",
       "      <th>Maximum_Instantaneous_Wind_Speed</th>\n",
       "    </tr>\n",
       "  </thead>\n",
       "  <tbody>\n",
       "    <tr>\n",
       "      <th>count</th>\n",
       "      <td>729.000000</td>\n",
       "      <td>729.000000</td>\n",
       "      <td>729.000000</td>\n",
       "      <td>729.000000</td>\n",
       "      <td>729.000000</td>\n",
       "      <td>729.000000</td>\n",
       "      <td>729.000000</td>\n",
       "      <td>729.000000</td>\n",
       "      <td>729.000000</td>\n",
       "      <td>729.000000</td>\n",
       "      <td>729.000000</td>\n",
       "      <td>729.000000</td>\n",
       "    </tr>\n",
       "    <tr>\n",
       "      <th>mean</th>\n",
       "      <td>267.924554</td>\n",
       "      <td>86.454047</td>\n",
       "      <td>56.936900</td>\n",
       "      <td>58.474623</td>\n",
       "      <td>66.058985</td>\n",
       "      <td>20.869273</td>\n",
       "      <td>13.049657</td>\n",
       "      <td>4.806584</td>\n",
       "      <td>0.668038</td>\n",
       "      <td>2.833059</td>\n",
       "      <td>5.888340</td>\n",
       "      <td>10.373251</td>\n",
       "    </tr>\n",
       "    <tr>\n",
       "      <th>std</th>\n",
       "      <td>67.720467</td>\n",
       "      <td>46.430184</td>\n",
       "      <td>23.165586</td>\n",
       "      <td>36.346240</td>\n",
       "      <td>21.839401</td>\n",
       "      <td>7.850258</td>\n",
       "      <td>8.144716</td>\n",
       "      <td>14.622692</td>\n",
       "      <td>1.883694</td>\n",
       "      <td>0.914650</td>\n",
       "      <td>1.749423</td>\n",
       "      <td>3.542006</td>\n",
       "    </tr>\n",
       "    <tr>\n",
       "      <th>min</th>\n",
       "      <td>76.000000</td>\n",
       "      <td>0.000000</td>\n",
       "      <td>14.000000</td>\n",
       "      <td>0.000000</td>\n",
       "      <td>20.000000</td>\n",
       "      <td>3.800000</td>\n",
       "      <td>-2.600000</td>\n",
       "      <td>0.000000</td>\n",
       "      <td>0.000000</td>\n",
       "      <td>1.300000</td>\n",
       "      <td>2.800000</td>\n",
       "      <td>3.800000</td>\n",
       "    </tr>\n",
       "    <tr>\n",
       "      <th>25%</th>\n",
       "      <td>223.000000</td>\n",
       "      <td>51.000000</td>\n",
       "      <td>40.000000</td>\n",
       "      <td>30.000000</td>\n",
       "      <td>51.000000</td>\n",
       "      <td>13.800000</td>\n",
       "      <td>5.400000</td>\n",
       "      <td>0.000000</td>\n",
       "      <td>0.000000</td>\n",
       "      <td>2.300000</td>\n",
       "      <td>4.600000</td>\n",
       "      <td>7.900000</td>\n",
       "    </tr>\n",
       "    <tr>\n",
       "      <th>50%</th>\n",
       "      <td>268.000000</td>\n",
       "      <td>87.000000</td>\n",
       "      <td>54.000000</td>\n",
       "      <td>56.000000</td>\n",
       "      <td>63.000000</td>\n",
       "      <td>21.600000</td>\n",
       "      <td>13.800000</td>\n",
       "      <td>0.000000</td>\n",
       "      <td>0.000000</td>\n",
       "      <td>2.600000</td>\n",
       "      <td>5.600000</td>\n",
       "      <td>9.600000</td>\n",
       "    </tr>\n",
       "    <tr>\n",
       "      <th>75%</th>\n",
       "      <td>316.000000</td>\n",
       "      <td>121.000000</td>\n",
       "      <td>71.000000</td>\n",
       "      <td>83.000000</td>\n",
       "      <td>78.000000</td>\n",
       "      <td>27.000000</td>\n",
       "      <td>19.800000</td>\n",
       "      <td>2.000000</td>\n",
       "      <td>0.500000</td>\n",
       "      <td>3.200000</td>\n",
       "      <td>6.700000</td>\n",
       "      <td>12.000000</td>\n",
       "    </tr>\n",
       "    <tr>\n",
       "      <th>max</th>\n",
       "      <td>450.000000</td>\n",
       "      <td>205.000000</td>\n",
       "      <td>179.000000</td>\n",
       "      <td>173.000000</td>\n",
       "      <td>166.000000</td>\n",
       "      <td>37.700000</td>\n",
       "      <td>28.000000</td>\n",
       "      <td>156.500000</td>\n",
       "      <td>20.000000</td>\n",
       "      <td>7.300000</td>\n",
       "      <td>12.600000</td>\n",
       "      <td>28.800000</td>\n",
       "    </tr>\n",
       "  </tbody>\n",
       "</table>\n",
       "</div>"
      ],
      "text/plain": [
       "            total  Night_Reservation  Night_No_Reservation  \\\n",
       "count  729.000000         729.000000            729.000000   \n",
       "mean   267.924554          86.454047             56.936900   \n",
       "std     67.720467          46.430184             23.165586   \n",
       "min     76.000000           0.000000             14.000000   \n",
       "25%    223.000000          51.000000             40.000000   \n",
       "50%    268.000000          87.000000             54.000000   \n",
       "75%    316.000000         121.000000             71.000000   \n",
       "max    450.000000         205.000000            179.000000   \n",
       "\n",
       "       Daytime_Reservation  Daytime_No_Reservation  Highest_Temperature   \\\n",
       "count           729.000000              729.000000            729.000000   \n",
       "mean             58.474623               66.058985             20.869273   \n",
       "std              36.346240               21.839401              7.850258   \n",
       "min               0.000000               20.000000              3.800000   \n",
       "25%              30.000000               51.000000             13.800000   \n",
       "50%              56.000000               63.000000             21.600000   \n",
       "75%              83.000000               78.000000             27.000000   \n",
       "max             173.000000              166.000000             37.700000   \n",
       "\n",
       "       Lowest_Temperature   Amount_of_Precipitation   \\\n",
       "count           729.000000                729.000000   \n",
       "mean             13.049657                  4.806584   \n",
       "std               8.144716                 14.622692   \n",
       "min              -2.600000                  0.000000   \n",
       "25%               5.400000                  0.000000   \n",
       "50%              13.800000                  0.000000   \n",
       "75%              19.800000                  2.000000   \n",
       "max              28.000000                156.500000   \n",
       "\n",
       "       Maximum_Precipitaion_in_Ten_Mins   Average_Wind_Speed   \\\n",
       "count                         729.000000           729.000000   \n",
       "mean                            0.668038             2.833059   \n",
       "std                             1.883694             0.914650   \n",
       "min                             0.000000             1.300000   \n",
       "25%                             0.000000             2.300000   \n",
       "50%                             0.000000             2.600000   \n",
       "75%                             0.500000             3.200000   \n",
       "max                            20.000000             7.300000   \n",
       "\n",
       "       Maximum_Wind_Speed   Maximum_Instantaneous_Wind_Speed  \n",
       "count           729.000000                        729.000000  \n",
       "mean              5.888340                         10.373251  \n",
       "std               1.749423                          3.542006  \n",
       "min               2.800000                          3.800000  \n",
       "25%               4.600000                          7.900000  \n",
       "50%               5.600000                          9.600000  \n",
       "75%               6.700000                         12.000000  \n",
       "max              12.600000                         28.800000  "
      ]
     },
     "execution_count": 51,
     "metadata": {},
     "output_type": "execute_result"
    }
   ],
   "source": [
    "demand_data.describe()"
   ]
  },
  {
   "cell_type": "code",
   "execution_count": 72,
   "metadata": {},
   "outputs": [
    {
     "data": {
      "text/html": [
       "<div>\n",
       "<style scoped>\n",
       "    .dataframe tbody tr th:only-of-type {\n",
       "        vertical-align: middle;\n",
       "    }\n",
       "\n",
       "    .dataframe tbody tr th {\n",
       "        vertical-align: top;\n",
       "    }\n",
       "\n",
       "    .dataframe thead th {\n",
       "        text-align: right;\n",
       "    }\n",
       "</style>\n",
       "<table border=\"1\" class=\"dataframe\">\n",
       "  <thead>\n",
       "    <tr style=\"text-align: right;\">\n",
       "      <th></th>\n",
       "      <th>sumsquare_error</th>\n",
       "      <th>aic</th>\n",
       "      <th>bic</th>\n",
       "      <th>kl_div</th>\n",
       "    </tr>\n",
       "  </thead>\n",
       "  <tbody>\n",
       "    <tr>\n",
       "      <th>norm</th>\n",
       "      <td>0.000525</td>\n",
       "      <td>1129.859367</td>\n",
       "      <td>-10297.005527</td>\n",
       "      <td>inf</td>\n",
       "    </tr>\n",
       "    <tr>\n",
       "      <th>gamma</th>\n",
       "      <td>0.000529</td>\n",
       "      <td>1130.954639</td>\n",
       "      <td>-10286.070758</td>\n",
       "      <td>inf</td>\n",
       "    </tr>\n",
       "    <tr>\n",
       "      <th>lognorm</th>\n",
       "      <td>0.000561</td>\n",
       "      <td>1124.948977</td>\n",
       "      <td>-10242.359247</td>\n",
       "      <td>inf</td>\n",
       "    </tr>\n",
       "    <tr>\n",
       "      <th>rayleigh</th>\n",
       "      <td>0.000566</td>\n",
       "      <td>1113.638022</td>\n",
       "      <td>-10242.722338</td>\n",
       "      <td>inf</td>\n",
       "    </tr>\n",
       "    <tr>\n",
       "      <th>cauchy</th>\n",
       "      <td>0.000840</td>\n",
       "      <td>1172.182992</td>\n",
       "      <td>-9954.996895</td>\n",
       "      <td>inf</td>\n",
       "    </tr>\n",
       "  </tbody>\n",
       "</table>\n",
       "</div>"
      ],
      "text/plain": [
       "          sumsquare_error          aic           bic  kl_div\n",
       "norm             0.000525  1129.859367 -10297.005527     inf\n",
       "gamma            0.000529  1130.954639 -10286.070758     inf\n",
       "lognorm          0.000561  1124.948977 -10242.359247     inf\n",
       "rayleigh         0.000566  1113.638022 -10242.722338     inf\n",
       "cauchy           0.000840  1172.182992  -9954.996895     inf"
      ]
     },
     "execution_count": 72,
     "metadata": {},
     "output_type": "execute_result"
    },
    {
     "data": {
      "image/png": "[encoded data removed]",
      "text/plain": [
       "<Figure size 432x288 with 1 Axes>"
      ]
     },
     "metadata": {
      "needs_background": "light"
     },
     "output_type": "display_data"
    }
   ],
   "source": [
    "f = Fitter(demand_data['Night_Reservation'].values, distributions=get_common_distributions())\n",
    "f.fit()\n",
    "f.summary()"
   ]
  },
  {
   "cell_type": "code",
   "execution_count": 73,
   "metadata": {},
   "outputs": [
    {
     "data": {
      "text/plain": [
       "{'norm': {'loc': 86.45404663923182, 'scale': 46.39832772402796}}"
      ]
     },
     "execution_count": 73,
     "metadata": {},
     "output_type": "execute_result"
    }
   ],
   "source": [
    "f.get_best(method = 'sumsquare_error')"
   ]
  },
  {
   "cell_type": "code",
   "execution_count": 74,
   "metadata": {},
   "outputs": [
    {
     "data": {
      "text/html": [
       "<div>\n",
       "<style scoped>\n",
       "    .dataframe tbody tr th:only-of-type {\n",
       "        vertical-align: middle;\n",
       "    }\n",
       "\n",
       "    .dataframe tbody tr th {\n",
       "        vertical-align: top;\n",
       "    }\n",
       "\n",
       "    .dataframe thead th {\n",
       "        text-align: right;\n",
       "    }\n",
       "</style>\n",
       "<table border=\"1\" class=\"dataframe\">\n",
       "  <thead>\n",
       "    <tr style=\"text-align: right;\">\n",
       "      <th></th>\n",
       "      <th>sumsquare_error</th>\n",
       "      <th>aic</th>\n",
       "      <th>bic</th>\n",
       "      <th>kl_div</th>\n",
       "    </tr>\n",
       "  </thead>\n",
       "  <tbody>\n",
       "    <tr>\n",
       "      <th>gamma</th>\n",
       "      <td>0.000808</td>\n",
       "      <td>1285.140189</td>\n",
       "      <td>-9976.686306</td>\n",
       "      <td>inf</td>\n",
       "    </tr>\n",
       "    <tr>\n",
       "      <th>chi2</th>\n",
       "      <td>0.000808</td>\n",
       "      <td>1285.140369</td>\n",
       "      <td>-9976.686225</td>\n",
       "      <td>inf</td>\n",
       "    </tr>\n",
       "    <tr>\n",
       "      <th>lognorm</th>\n",
       "      <td>0.000826</td>\n",
       "      <td>1271.303608</td>\n",
       "      <td>-9960.799945</td>\n",
       "      <td>inf</td>\n",
       "    </tr>\n",
       "    <tr>\n",
       "      <th>rayleigh</th>\n",
       "      <td>0.000829</td>\n",
       "      <td>1351.659399</td>\n",
       "      <td>-9964.380414</td>\n",
       "      <td>inf</td>\n",
       "    </tr>\n",
       "    <tr>\n",
       "      <th>norm</th>\n",
       "      <td>0.001120</td>\n",
       "      <td>1531.560593</td>\n",
       "      <td>-9744.965280</td>\n",
       "      <td>inf</td>\n",
       "    </tr>\n",
       "  </tbody>\n",
       "</table>\n",
       "</div>"
      ],
      "text/plain": [
       "          sumsquare_error          aic          bic  kl_div\n",
       "gamma            0.000808  1285.140189 -9976.686306     inf\n",
       "chi2             0.000808  1285.140369 -9976.686225     inf\n",
       "lognorm          0.000826  1271.303608 -9960.799945     inf\n",
       "rayleigh         0.000829  1351.659399 -9964.380414     inf\n",
       "norm             0.001120  1531.560593 -9744.965280     inf"
      ]
     },
     "execution_count": 74,
     "metadata": {},
     "output_type": "execute_result"
    },
    {
     "data": {
      "image/png": "[encoded data removed]",
      "text/plain": [
       "<Figure size 432x288 with 1 Axes>"
      ]
     },
     "metadata": {
      "needs_background": "light"
     },
     "output_type": "display_data"
    }
   ],
   "source": [
    "f = Fitter(demand_data['Night_No_Reservation'].values, distributions=get_common_distributions())\n",
    "f.fit()\n",
    "f.summary()"
   ]
  },
  {
   "cell_type": "code",
   "execution_count": 75,
   "metadata": {},
   "outputs": [
    {
     "data": {
      "text/plain": [
       "{'gamma': {'a': 4.603682109634942,\n",
       "  'loc': 7.136453961030476,\n",
       "  'scale': 10.817528167116613}}"
      ]
     },
     "execution_count": 75,
     "metadata": {},
     "output_type": "execute_result"
    }
   ],
   "source": [
    "f.get_best(method = 'sumsquare_error')"
   ]
  },
  {
   "cell_type": "code",
   "execution_count": 76,
   "metadata": {},
   "outputs": [
    {
     "data": {
      "text/html": [
       "<div>\n",
       "<style scoped>\n",
       "    .dataframe tbody tr th:only-of-type {\n",
       "        vertical-align: middle;\n",
       "    }\n",
       "\n",
       "    .dataframe tbody tr th {\n",
       "        vertical-align: top;\n",
       "    }\n",
       "\n",
       "    .dataframe thead th {\n",
       "        text-align: right;\n",
       "    }\n",
       "</style>\n",
       "<table border=\"1\" class=\"dataframe\">\n",
       "  <thead>\n",
       "    <tr style=\"text-align: right;\">\n",
       "      <th></th>\n",
       "      <th>sumsquare_error</th>\n",
       "      <th>aic</th>\n",
       "      <th>bic</th>\n",
       "      <th>kl_div</th>\n",
       "    </tr>\n",
       "  </thead>\n",
       "  <tbody>\n",
       "    <tr>\n",
       "      <th>rayleigh</th>\n",
       "      <td>0.001039</td>\n",
       "      <td>1123.826991</td>\n",
       "      <td>-9800.306516</td>\n",
       "      <td>inf</td>\n",
       "    </tr>\n",
       "    <tr>\n",
       "      <th>gamma</th>\n",
       "      <td>0.001104</td>\n",
       "      <td>1120.500250</td>\n",
       "      <td>-9749.044495</td>\n",
       "      <td>inf</td>\n",
       "    </tr>\n",
       "    <tr>\n",
       "      <th>lognorm</th>\n",
       "      <td>0.001110</td>\n",
       "      <td>1126.552257</td>\n",
       "      <td>-9745.477197</td>\n",
       "      <td>inf</td>\n",
       "    </tr>\n",
       "    <tr>\n",
       "      <th>norm</th>\n",
       "      <td>0.001117</td>\n",
       "      <td>1154.840731</td>\n",
       "      <td>-9747.032906</td>\n",
       "      <td>inf</td>\n",
       "    </tr>\n",
       "    <tr>\n",
       "      <th>cauchy</th>\n",
       "      <td>0.001576</td>\n",
       "      <td>1166.918930</td>\n",
       "      <td>-9496.153107</td>\n",
       "      <td>inf</td>\n",
       "    </tr>\n",
       "  </tbody>\n",
       "</table>\n",
       "</div>"
      ],
      "text/plain": [
       "          sumsquare_error          aic          bic  kl_div\n",
       "rayleigh         0.001039  1123.826991 -9800.306516     inf\n",
       "gamma            0.001104  1120.500250 -9749.044495     inf\n",
       "lognorm          0.001110  1126.552257 -9745.477197     inf\n",
       "norm             0.001117  1154.840731 -9747.032906     inf\n",
       "cauchy           0.001576  1166.918930 -9496.153107     inf"
      ]
     },
     "execution_count": 76,
     "metadata": {},
     "output_type": "execute_result"
    },
    {
     "data": {
      "image/png": "[encoded data removed]",
      "text/plain": [
       "<Figure size 432x288 with 1 Axes>"
      ]
     },
     "metadata": {
      "needs_background": "light"
     },
     "output_type": "display_data"
    }
   ],
   "source": [
    "f = Fitter(demand_data['Daytime_Reservation'].values, distributions=get_common_distributions())\n",
    "f.fit()\n",
    "f.summary()"
   ]
  },
  {
   "cell_type": "code",
   "execution_count": 77,
   "metadata": {},
   "outputs": [
    {
     "data": {
      "text/plain": [
       "{'rayleigh': {'loc': -9.422089369024418, 'scale': 54.448142896390785}}"
      ]
     },
     "execution_count": 77,
     "metadata": {},
     "output_type": "execute_result"
    }
   ],
   "source": [
    "f.get_best(method = 'sumsquare_error')"
   ]
  },
  {
   "cell_type": "code",
   "execution_count": 78,
   "metadata": {},
   "outputs": [
    {
     "data": {
      "text/html": [
       "<div>\n",
       "<style scoped>\n",
       "    .dataframe tbody tr th:only-of-type {\n",
       "        vertical-align: middle;\n",
       "    }\n",
       "\n",
       "    .dataframe tbody tr th {\n",
       "        vertical-align: top;\n",
       "    }\n",
       "\n",
       "    .dataframe thead th {\n",
       "        text-align: right;\n",
       "    }\n",
       "</style>\n",
       "<table border=\"1\" class=\"dataframe\">\n",
       "  <thead>\n",
       "    <tr style=\"text-align: right;\">\n",
       "      <th></th>\n",
       "      <th>sumsquare_error</th>\n",
       "      <th>aic</th>\n",
       "      <th>bic</th>\n",
       "      <th>kl_div</th>\n",
       "    </tr>\n",
       "  </thead>\n",
       "  <tbody>\n",
       "    <tr>\n",
       "      <th>lognorm</th>\n",
       "      <td>0.001703</td>\n",
       "      <td>1205.388622</td>\n",
       "      <td>-9433.086247</td>\n",
       "      <td>inf</td>\n",
       "    </tr>\n",
       "    <tr>\n",
       "      <th>chi2</th>\n",
       "      <td>0.001711</td>\n",
       "      <td>1213.845735</td>\n",
       "      <td>-9429.781130</td>\n",
       "      <td>inf</td>\n",
       "    </tr>\n",
       "    <tr>\n",
       "      <th>gamma</th>\n",
       "      <td>0.001711</td>\n",
       "      <td>1213.845527</td>\n",
       "      <td>-9429.780950</td>\n",
       "      <td>inf</td>\n",
       "    </tr>\n",
       "    <tr>\n",
       "      <th>rayleigh</th>\n",
       "      <td>0.001736</td>\n",
       "      <td>inf</td>\n",
       "      <td>-9425.716599</td>\n",
       "      <td>inf</td>\n",
       "    </tr>\n",
       "    <tr>\n",
       "      <th>norm</th>\n",
       "      <td>0.001944</td>\n",
       "      <td>1329.681609</td>\n",
       "      <td>-9343.457466</td>\n",
       "      <td>inf</td>\n",
       "    </tr>\n",
       "  </tbody>\n",
       "</table>\n",
       "</div>"
      ],
      "text/plain": [
       "          sumsquare_error          aic          bic  kl_div\n",
       "lognorm          0.001703  1205.388622 -9433.086247     inf\n",
       "chi2             0.001711  1213.845735 -9429.781130     inf\n",
       "gamma            0.001711  1213.845527 -9429.780950     inf\n",
       "rayleigh         0.001736          inf -9425.716599     inf\n",
       "norm             0.001944  1329.681609 -9343.457466     inf"
      ]
     },
     "execution_count": 78,
     "metadata": {},
     "output_type": "execute_result"
    },
    {
     "data": {
      "image/png": "[encoded data removed]",
      "text/plain": [
       "<Figure size 432x288 with 1 Axes>"
      ]
     },
     "metadata": {
      "needs_background": "light"
     },
     "output_type": "display_data"
    }
   ],
   "source": [
    "f = Fitter(demand_data['Daytime_No_Reservation'].values, distributions=get_common_distributions())\n",
    "f.fit()\n",
    "f.summary()"
   ]
  },
  {
   "cell_type": "code",
   "execution_count": 79,
   "metadata": {},
   "outputs": [
    {
     "data": {
      "text/plain": [
       "{'lognorm': {'s': 0.2713633198199295,\n",
       "  'loc': -12.169877039868005,\n",
       "  'scale': 75.39075667192193}}"
      ]
     },
     "execution_count": 79,
     "metadata": {},
     "output_type": "execute_result"
    }
   ],
   "source": [
    "f.get_best(method = 'sumsquare_error')"
   ]
  },
  {
   "cell_type": "code",
   "execution_count": null,
   "metadata": {},
   "outputs": [],
   "source": []
  }
 ],
 "metadata": {
  "kernelspec": {
   "display_name": "Python 3 (ipykernel)",
   "language": "python",
   "name": "python3"
  },
  "language_info": {
   "codemirror_mode": {
    "name": "ipython",
    "version": 3
   },
   "file_extension": ".py",
   "mimetype": "text/x-python",
   "name": "python",
   "nbconvert_exporter": "python",
   "pygments_lexer": "ipython3",
   "version": "3.7.11"
  }
 },
 "nbformat": 4,
 "nbformat_minor": 4
}
