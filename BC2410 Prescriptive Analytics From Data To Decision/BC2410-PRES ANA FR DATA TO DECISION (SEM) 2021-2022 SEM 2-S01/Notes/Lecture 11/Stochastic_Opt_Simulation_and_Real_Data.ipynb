{
 "cells": [
  {
   "cell_type": "markdown",
   "metadata": {},
   "source": [
    "# Stochastic optimization"
   ]
  },
  {
   "cell_type": "markdown",
   "metadata": {},
   "source": [
    "We study the stochastic optimization by using newsvendor problem:\n",
    "* Buy x items at cost c\n",
    "* Items sold at price p\n",
    "* Salvage price is zero\n",
    "* Uncertain demand, hence profit is uncertain\n",
    "\n",
    "The random profit $\\pi$ is\n",
    "$$\n",
    "p\\min\\{x,\\tilde{d}\\} - cx\n",
    "$$\n",
    "so that the expected profit is \n",
    "$$\n",
    "p\\mathbb{E}[\\min\\{x,\\tilde{d}\\}] - cx\n",
    "$$\n",
    "\n",
    "### Theoretically solve the newsvendor problem \n",
    "Denote $f$ and $F$ as the probability density function and cumulative distribution function of the demand $\\tilde{d}$, respectively. We can then express the newsvendor's expected profit as follows:\n",
    "$$\n",
    "\\pi(x) = p\\mathbb{E}[\\min\\{x,\\tilde{d}\\}] - cx = p\\int_{0}^x f(u) u {\\rm d} u +  p\\int_{x}^{\\infty} f(u) x {\\rm d} u - cx. \n",
    "$$\n",
    "(Optional) We then can take the first and second derivative of the function $\\pi(x)$:\n",
    "$$\n",
    "\\frac{{\\rm d} \\pi(x)}{{\\rm d} x} = pxf(x) + p(1 - F(x)) - pxf(x) - c; \\frac{{\\rm d} \\pi^2(x)}{{\\rm d} x^2} =  -pf(x) \\leq 0.\n",
    "$$\n",
    "(Optional) We can see that the function $\\pi(x)$ is concave in $x$ and we thus can obtain the maximum of $\\pi(x)$ at $x^*$ s.t. \n",
    "$$\n",
    "\\frac{{\\rm d} \\pi(x)}{{\\rm d} x} = p(1 - F(x^*)) - c = 0 \\Rightarrow x^* = F^{-1}\\left( \\frac{p-c}{p}\\right).\n",
    "$$\n",
    "\n",
    "Suppose $p = 10$, $c = 4$, and demand is uniformlly distributed in $[20,100]$, how can we obtain the optimal order quantity? \n",
    "\n",
    "What if demand is normally distributed with mean 60 and standard deviation 25? "
   ]
  },
  {
   "cell_type": "code",
   "execution_count": 1,
   "metadata": {},
   "outputs": [],
   "source": [
    "import pandas as pd\n",
    "import numpy as np\n",
    "import matplotlib\n",
    "import matplotlib.pyplot as plt\n",
    "\n",
    "import rsome as rso\n",
    "from rsome import ro\n",
    "from rsome import grb_solver as grb\n",
    "np.random.seed(3) ##fix the seed for generating random numbers so that numbers generated everytime are the same"
   ]
  },
  {
   "cell_type": "code",
   "execution_count": 2,
   "metadata": {},
   "outputs": [
    {
     "name": "stdout",
     "output_type": "stream",
     "text": [
      "68.0\n",
      "66.333677578395\n",
      "60.916290731874156\n",
      "62.0\n"
     ]
    }
   ],
   "source": [
    "from scipy.stats import binom, poisson, norm, uniform, expon, cauchy, lognorm, chi2\n",
    "## Optimal order quantity (theoretical)\n",
    "p = 10\n",
    "c = 4\n",
    "order_opt_uniform = uniform.ppf( (p - c)/p, 20, 80 )\n",
    "print( order_opt_uniform )\n",
    "\n",
    "order_opt_normal = norm.ppf( (p - c)/p, 60, 25 )\n",
    "print( order_opt_normal )\n",
    "\n",
    "order_opt_expon = expon.ppf( (p - c)/p, 60 )\n",
    "print( order_opt_expon )\n",
    "\n",
    "order_opt_poisson = poisson.ppf( (p - c)/p, 60 )\n",
    "print( order_opt_poisson )"
   ]
  },
  {
   "cell_type": "markdown",
   "metadata": {},
   "source": [
    "### Solve the newsvendor problem empirically\n",
    "\n",
    "We know the optimal order quantity for the newsvendor problem, assuming that we know the demand distribution. However, in practice, it's almost impossible to know the true demand distribution. What we usually have are some historical data $\\{d_1, d_2, ..., d_K\\}$, how can we obtain the order quantity? \n",
    "\n",
    "Before that, let's see how can we simulate the demand data if we know the distribution."
   ]
  },
  {
   "cell_type": "code",
   "execution_count": 3,
   "metadata": {},
   "outputs": [
    {
     "name": "stdout",
     "output_type": "stream",
     "text": [
      "[60.02291943 59.64463729 60.66284695 59.9882    ] [ 529.75484549  398.82563998 3859.45730189   59.95966076]\n"
     ]
    }
   ],
   "source": [
    "K = 5000\n",
    "D1 = np.random.uniform( 20,100, K )\n",
    "D2 = np.random.normal( 60,20, K )\n",
    "D3 = np.random.exponential( 60, K )\n",
    "D4 = np.random.poisson( 60, K )\n",
    "Demand_all = np.stack( (D1,D2,D3,D4), axis = 1 )\n",
    "print(Demand_all.mean(axis = 0), Demand_all.var(axis = 0))"
   ]
  },
  {
   "cell_type": "markdown",
   "metadata": {},
   "source": [
    "Now suppose the demand data we obtain is $(D1 + D2)/2$, how to obtain the order quantity? \n",
    "* One method is to fit the historical data to some distributions and then derive the order quantity \n",
    "* Another method is to obtain the empirical distribution, and derive the order quantity\n",
    "\n",
    "### Solve the newsvendor model empirically from fitted distribution"
   ]
  },
  {
   "cell_type": "code",
   "execution_count": 4,
   "metadata": {},
   "outputs": [
    {
     "data": {
      "text/plain": [
       "(array([  18.,  144.,  506.,  978., 1157., 1044.,  759.,  309.,   77.,\n",
       "           8.]),\n",
       " array([ 13.75208773,  23.40451575,  33.05694377,  42.70937179,\n",
       "         52.36179981,  62.01422783,  71.66665585,  81.31908387,\n",
       "         90.97151189, 100.62393991, 110.27636793]),\n",
       " <BarContainer object of 10 artists>)"
      ]
     },
     "execution_count": 4,
     "metadata": {},
     "output_type": "execute_result"
    },
    {
     "data": {
      "image/png": "[encoded data removed]",
      "text/plain": [
       "<Figure size 432x288 with 1 Axes>"
      ]
     },
     "metadata": {
      "needs_background": "light"
     },
     "output_type": "display_data"
    }
   ],
   "source": [
    "Demand = (D1 + D2)/2\n",
    "plt.hist(Demand)"
   ]
  },
  {
   "cell_type": "markdown",
   "metadata": {},
   "source": [
    "Could you help fit the data and obtain the order quantity ``order_emp_fit``?"
   ]
  },
  {
   "cell_type": "code",
   "execution_count": 5,
   "metadata": {},
   "outputs": [
    {
     "data": {
      "text/plain": [
       "{'chi2': {'df': 179.4102123976843,\n",
       "  'loc': -83.59596368857169,\n",
       "  'scale': 0.7989813615643018}}"
      ]
     },
     "execution_count": 5,
     "metadata": {},
     "output_type": "execute_result"
    },
    {
     "data": {
      "image/png": "[encoded data removed]",
      "text/plain": [
       "<Figure size 432x288 with 1 Axes>"
      ]
     },
     "metadata": {
      "needs_background": "light"
     },
     "output_type": "display_data"
    }
   ],
   "source": [
    "from fitter import Fitter, get_common_distributions, get_distributions\n",
    "f = Fitter(Demand, distributions=get_common_distributions())\n",
    "f.fit()\n",
    "f.summary()\n",
    "\n",
    "f.get_best(method = 'sumsquare_error')"
   ]
  },
  {
   "cell_type": "code",
   "execution_count": 6,
   "metadata": {},
   "outputs": [
    {
     "data": {
      "text/plain": [
       "63.06232961693736"
      ]
     },
     "execution_count": 6,
     "metadata": {},
     "output_type": "execute_result"
    }
   ],
   "source": [
    "order_emp_fit = chi2.ppf( (p - c)/p, df = 179.41, loc = -83.59596, scale = 0.7989)\n",
    "order_emp_fit"
   ]
  },
  {
   "cell_type": "markdown",
   "metadata": {},
   "source": [
    "### Solve the newsvendor model empirically from empirical distribution"
   ]
  },
  {
   "cell_type": "markdown",
   "metadata": {},
   "source": [
    "We can plot the cdf of the empirical distribution as follows:"
   ]
  },
  {
   "cell_type": "code",
   "execution_count": 7,
   "metadata": {},
   "outputs": [
    {
     "data": {
      "image/png": "[encoded data removed]",
      "text/plain": [
       "<Figure size 432x288 with 1 Axes>"
      ]
     },
     "metadata": {
      "needs_background": "light"
     },
     "output_type": "display_data"
    }
   ],
   "source": [
    "from statsmodels.distributions.empirical_distribution import ECDF\n",
    "ecdf = ECDF(Demand)\n",
    "plt.plot(ecdf.x, ecdf.y)\n",
    "plt.hlines((p-c)/p, 18, 120,'r','dashed')\n",
    "plt.show()"
   ]
  },
  {
   "cell_type": "markdown",
   "metadata": {},
   "source": [
    "For empirical distribution, basically, we assume each sample has probability $\\frac{1}{K}$. As such, we just need to sort the data in ascending order and find the $\\frac{p-c}{p}$-th largest value.\n",
    "\n",
    "Can you obtain the empirical order quantity?"
   ]
  },
  {
   "cell_type": "code",
   "execution_count": 8,
   "metadata": {},
   "outputs": [
    {
     "data": {
      "text/plain": [
       "63.73925824436354"
      ]
     },
     "execution_count": 8,
     "metadata": {},
     "output_type": "execute_result"
    }
   ],
   "source": [
    "demand_sort = sorted(Demand)\n",
    "order_emp1 = demand_sort[int(K * (p-c)/p)]\n",
    "order_emp1"
   ]
  },
  {
   "cell_type": "markdown",
   "metadata": {},
   "source": [
    "### Solve the newsvendor model empirically using RSOME\n",
    "\n",
    "Alternatively, we can also solve the newsvendor problem directly from data. \n",
    "\n",
    "Suppose we have $K$ historical data points $\\{d_1, d_2, ..., d_K\\}$, we then can empirically solve the newsvendor's problem as follows:\n",
    "$$\n",
    "\\max_{x \\geq 0} \\ \\frac{1}{K} \\sum_{i = 1}^K p \\min\\{x, d_i\\} - cx\n",
    "$$\n",
    "which can be equivalently reformulated as a LOP:\n",
    "$$\n",
    "\\begin{align*}\n",
    "\\max \\ & \\frac{1}{K} \\sum_{i = 1}^K p y_i - cx \\\\\n",
    "{\\rm s.t.}\\  & y_i \\leq x & \\forall i = 1,...,K\\\\\n",
    "&y_i \\leq d_i & \\forall i = 1,...,K\\\\  \n",
    "&x \\geq 0 \n",
    "\\end{align*}\n",
    "$$\n",
    "\n",
    "Could you help solve this problem using RSOME? You are required to define a function ``Newsvendor_Emp``"
   ]
  },
  {
   "cell_type": "code",
   "execution_count": 9,
   "metadata": {},
   "outputs": [],
   "source": [
    "def Newsvendor_Emp(p,c,D):\n",
    "    K = len(D)\n",
    "    nv = ro.Model('Newsvendor')\n",
    "    x = nv.dvar()\n",
    "    y = nv.dvar(K)\n",
    "    \n",
    "    nv.max( 1/K*p*y.sum() - c*x )\n",
    "    nv.st( y <= x,\n",
    "         y <= D, \n",
    "         x >= 0)\n",
    "    \n",
    "    nv.solve(grb, display = False)\n",
    "    return x.get(), nv.get()"
   ]
  },
  {
   "cell_type": "code",
   "execution_count": 10,
   "metadata": {},
   "outputs": [],
   "source": [
    "def Newsvendor_Emp_NonM(p,c,D):\n",
    "    K = len(D)\n",
    "    nv = ro.Model('Newsvendor')\n",
    "    x = nv.dvar()\n",
    "    y = nv.dvar(K)\n",
    "    \n",
    "    nv.max( 1/K*p*sum(y[i] for i in range(K)) - c*x )\n",
    "    nv.st( y[i] <= x for i in range(K) )\n",
    "    nv.st( y[i] <= D[i] for i in range(K) ) \n",
    "    nv.st( x >= 0)\n",
    "    \n",
    "    nv.solve(grb, display = False)\n",
    "    return x.get(), nv.get()"
   ]
  },
  {
   "cell_type": "code",
   "execution_count": 11,
   "metadata": {},
   "outputs": [
    {
     "name": "stdout",
     "output_type": "stream",
     "text": [
      "Academic license - for non-commercial use only - expires 2022-07-30\n",
      "Using license file C:\\Users\\kings\\gurobi.lic\n",
      "The optimal order quantity is: [63.73925824]\n",
      "-------------------------------------\n",
      "And the corresponding expected profit is: 299.20365675025045\n"
     ]
    }
   ],
   "source": [
    "p = 10\n",
    "c = 4\n",
    "D = (D1 + D2)/2\n",
    "order_emp2, profit_emp2 = Newsvendor_Emp(p,c,D)\n",
    "print('The optimal order quantity is:', order_emp2 )\n",
    "print('-------------------------------------')\n",
    "print('And the corresponding expected profit is:', profit_emp2 )"
   ]
  },
  {
   "cell_type": "code",
   "execution_count": 12,
   "metadata": {},
   "outputs": [
    {
     "name": "stdout",
     "output_type": "stream",
     "text": [
      "The optimal order quantity is: [63.73925824]\n",
      "-------------------------------------\n",
      "And the corresponding expected profit is: 299.20365675025045\n"
     ]
    }
   ],
   "source": [
    "p = 10\n",
    "c = 4\n",
    "D = (D1 + D2)/2\n",
    "order_emp2, profit_emp2 = Newsvendor_Emp_NonM(p,c,D)\n",
    "print('The optimal order quantity is:', order_emp2 )\n",
    "print('-------------------------------------')\n",
    "print('And the corresponding expected profit is:', profit_emp2 )"
   ]
  },
  {
   "cell_type": "markdown",
   "metadata": {},
   "source": [
    "### Evaluate the solution\n",
    "\n",
    "We have obtained two order quantities from historical data. But which is better? \n",
    "\n",
    "The two solutions can be evaluated by using the newly collected historical data:\n",
    "\n",
    "``D1 = np.random.uniform( 20,101, 10000 )``\n",
    "\n",
    "``D2 = np.random.normal( 62,25, 10000 )``\n",
    "\n",
    "``Demand_test = (D1 + D2)/2``\n",
    "\n",
    "* Calculate the profit under ``order_emp_fit`` and ``order_emp1`` respectively (denoted as ``profit_emp_fit`` and ``profit_emp``)\n",
    "\n",
    "* Obtain ``performance_gap`` defined as:\n",
    "\n",
    "performance_gap = ( profit_emp - profit_emp_fit )/ profit_emp_fit*100"
   ]
  },
  {
   "cell_type": "code",
   "execution_count": 13,
   "metadata": {},
   "outputs": [],
   "source": [
    "D1 = np.random.uniform( 20,101, 10000 )\n",
    "D2 = np.random.normal( 62,25, 10000 )\n",
    "Demand_test = (D1 + D2)/2"
   ]
  },
  {
   "cell_type": "markdown",
   "metadata": {},
   "source": [
    "Note that the profit for any order quantity x can be obtained via:\n",
    "    \n",
    "``Profit = np.mean( p*np.minimum(x, Demand_test) - c*order_emp_fit )``"
   ]
  },
  {
   "cell_type": "code",
   "execution_count": 14,
   "metadata": {},
   "outputs": [
    {
     "name": "stdout",
     "output_type": "stream",
     "text": [
      "300.4272540960051\n",
      "300.8386893849521\n",
      "0.13695005474288272\n"
     ]
    }
   ],
   "source": [
    "profit_emp_fit = np.mean( p*np.minimum(order_emp_fit, Demand_test) - c*order_emp_fit )\n",
    "print( profit_emp_fit )\n",
    "\n",
    "profit_emp = np.mean( p*np.minimum(order_emp1, Demand_test) - c*order_emp1 )\n",
    "print( profit_emp )\n",
    "\n",
    "performance_gap = (profit_emp - profit_emp_fit)/profit_emp_fit*100\n",
    "print(performance_gap)"
   ]
  },
  {
   "cell_type": "markdown",
   "metadata": {},
   "source": [
    "## Multi-item Newsvendor Problem\n",
    "Now suppose there are $N$ products and $K$ historical samples. Specifically, \n",
    "* $N$ items to sell. \n",
    "* For each item $i$, unit cost is $𝑐_𝑖$, selling price $𝑝_𝑖$. \n",
    "* Order quantity $𝑥_𝑖, i = 1, … , N$. \n",
    "* Assume salvage price is zero.\n",
    "* Each item $i$ incurs storage space $𝑠_𝑖$. Total space available is $C$. \n",
    "* $K$ instances of demands available. \n",
    "* Let $𝑑_𝑘𝑖$ denotes the demand of item $i$ in instance $k, k = 1, …, K$. \n",
    "\n",
    "For this problem, close form solution will be very difficult!\n",
    "\n",
    "#### A heuristic method\n",
    "A possible way is to solve the problem heuristically:\n",
    "* Load the ``Demand_data.csv`` and separate it into training data (70\\%) and testing data (30\\%)\n",
    "* Load the ``Param_data.csv`` and obtain the parameters \n",
    "* Solve the problem empirically for each product by using the training data\n",
    "* Rank $\\frac{p - c}{p}$ in a descending order (or rank $\\frac{p - c}{ps}$ in a descending order)\n",
    "* Order until space is fully utilized\n",
    "\n",
    "Could you help obtain the heuristic order quantity ``order_heu``? Suppose the total space $C = 300$"
   ]
  },
  {
   "cell_type": "markdown",
   "metadata": {},
   "source": [
    "#### Load the demand data"
   ]
  },
  {
   "cell_type": "code",
   "execution_count": 15,
   "metadata": {},
   "outputs": [
    {
     "data": {
      "text/html": [
       "<div>\n",
       "<style scoped>\n",
       "    .dataframe tbody tr th:only-of-type {\n",
       "        vertical-align: middle;\n",
       "    }\n",
       "\n",
       "    .dataframe tbody tr th {\n",
       "        vertical-align: top;\n",
       "    }\n",
       "\n",
       "    .dataframe thead th {\n",
       "        text-align: right;\n",
       "    }\n",
       "</style>\n",
       "<table border=\"1\" class=\"dataframe\">\n",
       "  <thead>\n",
       "    <tr style=\"text-align: right;\">\n",
       "      <th></th>\n",
       "      <th>real_date</th>\n",
       "      <th>prod_1</th>\n",
       "      <th>prod_2</th>\n",
       "      <th>prod_3</th>\n",
       "      <th>prod_4</th>\n",
       "      <th>prod_5</th>\n",
       "      <th>prod_6</th>\n",
       "      <th>prod_7</th>\n",
       "      <th>prod_8</th>\n",
       "      <th>prod_9</th>\n",
       "      <th>prod_10</th>\n",
       "      <th>prod_11</th>\n",
       "      <th>prod_12</th>\n",
       "      <th>prod_13</th>\n",
       "      <th>prod_14</th>\n",
       "      <th>prod_15</th>\n",
       "    </tr>\n",
       "  </thead>\n",
       "  <tbody>\n",
       "    <tr>\n",
       "      <th>0</th>\n",
       "      <td>1/2/2013</td>\n",
       "      <td>99</td>\n",
       "      <td>59</td>\n",
       "      <td>348</td>\n",
       "      <td>47</td>\n",
       "      <td>37</td>\n",
       "      <td>422</td>\n",
       "      <td>67</td>\n",
       "      <td>132</td>\n",
       "      <td>209</td>\n",
       "      <td>28</td>\n",
       "      <td>99</td>\n",
       "      <td>113</td>\n",
       "      <td>70</td>\n",
       "      <td>80</td>\n",
       "      <td>404</td>\n",
       "    </tr>\n",
       "    <tr>\n",
       "      <th>1</th>\n",
       "      <td>1/3/2013</td>\n",
       "      <td>80</td>\n",
       "      <td>41</td>\n",
       "      <td>180</td>\n",
       "      <td>34</td>\n",
       "      <td>24</td>\n",
       "      <td>329</td>\n",
       "      <td>47</td>\n",
       "      <td>106</td>\n",
       "      <td>162</td>\n",
       "      <td>27</td>\n",
       "      <td>80</td>\n",
       "      <td>65</td>\n",
       "      <td>49</td>\n",
       "      <td>54</td>\n",
       "      <td>323</td>\n",
       "    </tr>\n",
       "    <tr>\n",
       "      <th>2</th>\n",
       "      <td>1/4/2013</td>\n",
       "      <td>73</td>\n",
       "      <td>41</td>\n",
       "      <td>141</td>\n",
       "      <td>33</td>\n",
       "      <td>19</td>\n",
       "      <td>257</td>\n",
       "      <td>55</td>\n",
       "      <td>94</td>\n",
       "      <td>124</td>\n",
       "      <td>26</td>\n",
       "      <td>61</td>\n",
       "      <td>59</td>\n",
       "      <td>36</td>\n",
       "      <td>57</td>\n",
       "      <td>310</td>\n",
       "    </tr>\n",
       "    <tr>\n",
       "      <th>3</th>\n",
       "      <td>1/5/2013</td>\n",
       "      <td>103</td>\n",
       "      <td>60</td>\n",
       "      <td>259</td>\n",
       "      <td>38</td>\n",
       "      <td>28</td>\n",
       "      <td>359</td>\n",
       "      <td>66</td>\n",
       "      <td>148</td>\n",
       "      <td>194</td>\n",
       "      <td>28</td>\n",
       "      <td>86</td>\n",
       "      <td>83</td>\n",
       "      <td>66</td>\n",
       "      <td>68</td>\n",
       "      <td>467</td>\n",
       "    </tr>\n",
       "    <tr>\n",
       "      <th>4</th>\n",
       "      <td>1/6/2013</td>\n",
       "      <td>109</td>\n",
       "      <td>70</td>\n",
       "      <td>439</td>\n",
       "      <td>46</td>\n",
       "      <td>37</td>\n",
       "      <td>376</td>\n",
       "      <td>63</td>\n",
       "      <td>150</td>\n",
       "      <td>252</td>\n",
       "      <td>33</td>\n",
       "      <td>124</td>\n",
       "      <td>114</td>\n",
       "      <td>77</td>\n",
       "      <td>84</td>\n",
       "      <td>579</td>\n",
       "    </tr>\n",
       "  </tbody>\n",
       "</table>\n",
       "</div>"
      ],
      "text/plain": [
       "  real_date  prod_1  prod_2  prod_3  prod_4  prod_5  prod_6  prod_7  prod_8  \\\n",
       "0  1/2/2013      99      59     348      47      37     422      67     132   \n",
       "1  1/3/2013      80      41     180      34      24     329      47     106   \n",
       "2  1/4/2013      73      41     141      33      19     257      55      94   \n",
       "3  1/5/2013     103      60     259      38      28     359      66     148   \n",
       "4  1/6/2013     109      70     439      46      37     376      63     150   \n",
       "\n",
       "   prod_9  prod_10  prod_11  prod_12  prod_13  prod_14  prod_15  \n",
       "0     209       28       99      113       70       80      404  \n",
       "1     162       27       80       65       49       54      323  \n",
       "2     124       26       61       59       36       57      310  \n",
       "3     194       28       86       83       66       68      467  \n",
       "4     252       33      124      114       77       84      579  "
      ]
     },
     "execution_count": 15,
     "metadata": {},
     "output_type": "execute_result"
    }
   ],
   "source": [
    "Demand_data = pd.read_csv(\"Demand_data.csv\")\n",
    "Demand_data.head()"
   ]
  },
  {
   "cell_type": "markdown",
   "metadata": {},
   "source": [
    "#### Separate demand data into training data and test data"
   ]
  },
  {
   "cell_type": "code",
   "execution_count": 16,
   "metadata": {},
   "outputs": [],
   "source": [
    "from sklearn.model_selection import train_test_split\n",
    "\n",
    "demand_train, demand_test = train_test_split(Demand_data, test_size=0.3)"
   ]
  },
  {
   "cell_type": "markdown",
   "metadata": {},
   "source": [
    "#### Load other parameters"
   ]
  },
  {
   "cell_type": "code",
   "execution_count": 17,
   "metadata": {},
   "outputs": [
    {
     "data": {
      "text/html": [
       "<div>\n",
       "<style scoped>\n",
       "    .dataframe tbody tr th:only-of-type {\n",
       "        vertical-align: middle;\n",
       "    }\n",
       "\n",
       "    .dataframe tbody tr th {\n",
       "        vertical-align: top;\n",
       "    }\n",
       "\n",
       "    .dataframe thead th {\n",
       "        text-align: right;\n",
       "    }\n",
       "</style>\n",
       "<table border=\"1\" class=\"dataframe\">\n",
       "  <thead>\n",
       "    <tr style=\"text-align: right;\">\n",
       "      <th></th>\n",
       "      <th>Unnamed: 0</th>\n",
       "      <th>prod_1</th>\n",
       "      <th>prod_2</th>\n",
       "      <th>prod_3</th>\n",
       "      <th>prod_4</th>\n",
       "      <th>prod_5</th>\n",
       "      <th>prod_6</th>\n",
       "      <th>prod_7</th>\n",
       "      <th>prod_8</th>\n",
       "      <th>prod_9</th>\n",
       "      <th>prod_10</th>\n",
       "      <th>prod_11</th>\n",
       "      <th>prod_12</th>\n",
       "      <th>prod_13</th>\n",
       "      <th>prod_14</th>\n",
       "      <th>prod_15</th>\n",
       "    </tr>\n",
       "  </thead>\n",
       "  <tbody>\n",
       "    <tr>\n",
       "      <th>0</th>\n",
       "      <td>Price</td>\n",
       "      <td>10.6</td>\n",
       "      <td>7.3</td>\n",
       "      <td>10.7</td>\n",
       "      <td>9.5</td>\n",
       "      <td>7.6</td>\n",
       "      <td>14.8</td>\n",
       "      <td>10.4</td>\n",
       "      <td>4.7</td>\n",
       "      <td>14.0</td>\n",
       "      <td>6.0</td>\n",
       "      <td>6.1</td>\n",
       "      <td>14.8</td>\n",
       "      <td>11.9</td>\n",
       "      <td>6.9</td>\n",
       "      <td>8.6</td>\n",
       "    </tr>\n",
       "    <tr>\n",
       "      <th>1</th>\n",
       "      <td>Cost</td>\n",
       "      <td>3.2</td>\n",
       "      <td>3.9</td>\n",
       "      <td>5.3</td>\n",
       "      <td>3.8</td>\n",
       "      <td>2.1</td>\n",
       "      <td>6.9</td>\n",
       "      <td>5.2</td>\n",
       "      <td>2.9</td>\n",
       "      <td>4.6</td>\n",
       "      <td>2.4</td>\n",
       "      <td>2.4</td>\n",
       "      <td>5.9</td>\n",
       "      <td>3.8</td>\n",
       "      <td>1.7</td>\n",
       "      <td>2.5</td>\n",
       "    </tr>\n",
       "    <tr>\n",
       "      <th>2</th>\n",
       "      <td>Space</td>\n",
       "      <td>0.4</td>\n",
       "      <td>0.1</td>\n",
       "      <td>0.4</td>\n",
       "      <td>0.4</td>\n",
       "      <td>0.3</td>\n",
       "      <td>0.3</td>\n",
       "      <td>0.3</td>\n",
       "      <td>0.4</td>\n",
       "      <td>0.4</td>\n",
       "      <td>0.3</td>\n",
       "      <td>0.4</td>\n",
       "      <td>0.1</td>\n",
       "      <td>0.1</td>\n",
       "      <td>0.5</td>\n",
       "      <td>0.2</td>\n",
       "    </tr>\n",
       "  </tbody>\n",
       "</table>\n",
       "</div>"
      ],
      "text/plain": [
       "  Unnamed: 0  prod_1  prod_2  prod_3  prod_4  prod_5  prod_6  prod_7  prod_8  \\\n",
       "0      Price    10.6     7.3    10.7     9.5     7.6    14.8    10.4     4.7   \n",
       "1       Cost     3.2     3.9     5.3     3.8     2.1     6.9     5.2     2.9   \n",
       "2      Space     0.4     0.1     0.4     0.4     0.3     0.3     0.3     0.4   \n",
       "\n",
       "   prod_9  prod_10  prod_11  prod_12  prod_13  prod_14  prod_15  \n",
       "0    14.0      6.0      6.1     14.8     11.9      6.9      8.6  \n",
       "1     4.6      2.4      2.4      5.9      3.8      1.7      2.5  \n",
       "2     0.4      0.3      0.4      0.1      0.1      0.5      0.2  "
      ]
     },
     "execution_count": 17,
     "metadata": {},
     "output_type": "execute_result"
    }
   ],
   "source": [
    "Param_data = pd.read_csv(\"Param_data.csv\")\n",
    "Param_data"
   ]
  },
  {
   "cell_type": "code",
   "execution_count": 18,
   "metadata": {},
   "outputs": [
    {
     "name": "stdout",
     "output_type": "stream",
     "text": [
      "1175 15\n"
     ]
    }
   ],
   "source": [
    "Demand = np.array( demand_train.values[:,1:16].astype(int) )\n",
    "K,N = Demand.shape\n",
    "print(K,N)\n",
    "price = np.array( Param_data.values[0,1:16].astype(np.float64) )\n",
    "cost = np.array( Param_data.values[1,1:16].astype(np.float64) )\n",
    "space = np.array( Param_data.values[2,1:16].astype(np.float64) )\n",
    "total_space = 300"
   ]
  },
  {
   "cell_type": "markdown",
   "metadata": {},
   "source": [
    "### Obtain ``order_heu``\n",
    "\n",
    "The solution below HAS NOT ranked $\\frac{p-c}{p}$ or $\\frac{p-c}{ps}$. Can you try to rank first and obtain the solution? (This is assignment 4, but no need to submit.)"
   ]
  },
  {
   "cell_type": "code",
   "execution_count": 22,
   "metadata": {},
   "outputs": [
    {
     "name": "stdout",
     "output_type": "stream",
     "text": [
      "[68.0, 47.0, 109.0, 45.0, 38.0, 234.0, 60.0, 54.0, 121.0, 33.0, 67.5, 0.0, 0.0, 0.0, 0.0]\n",
      "4261.445148936156\n"
     ]
    }
   ],
   "source": [
    "order_heu = []\n",
    "profit_heu = []\n",
    "space_heu = []\n",
    "for i in range(N):\n",
    "    order, profit = Newsvendor_Emp(price[i],cost[i],Demand[:,i])\n",
    "    space_heu.append( space[i]*order[0] )\n",
    "    if sum(space_heu) <= total_space:\n",
    "        order_heu.append( order[0] )\n",
    "        profit_heu.append( profit )\n",
    "    else:\n",
    "        surplus = total_space - sum(space_heu[0:-1])\n",
    "        space_heu[i] = max(surplus,0)\n",
    "        \n",
    "        order = max( surplus/space[i], 0)\n",
    "        profit = np.mean( price[i]*np.minimum(order, Demand[:,i]) - cost[i]*order )\n",
    "        order_heu.append( order )\n",
    "        profit_heu.append( profit )\n",
    "    \n",
    "print( order_heu )\n",
    "print( sum( profit_heu ) )"
   ]
  },
  {
   "cell_type": "markdown",
   "metadata": {},
   "source": [
    "### Solve the problem empirically by using RSOME\n",
    "\n",
    "Alternatively, this problem can be solved by using the following model:\n",
    "$$\n",
    "\\begin{align*}\n",
    "\\max \\ &\\sum_{i = 1}^N\\left( \\frac{1}{K} \\sum_{k = 1}^K p_i t_{ki} - c_i x_i \\right) \\\\\n",
    "{\\rm s.t.}\\  & t_{ki} \\leq x_i & \\forall i = 1,...,N, k = 1,...,K\\\\\n",
    "&t_{ki} \\leq d_{ki} & \\forall i = 1,...,N, k = i,...,K\\\\  \n",
    "&\\sum_{i = 1}^N s_i x_i \\leq C\\\\\n",
    "&x_i \\geq 0 & \\forall i = 1,...,N \n",
    "\\end{align*}\n",
    "$$\n",
    "\n",
    "Could you help solve this problem using RSOME? You are required to define a function ``Multi_Newsvendor_Emp``"
   ]
  },
  {
   "cell_type": "code",
   "execution_count": 19,
   "metadata": {},
   "outputs": [],
   "source": [
    "def Multi_Newsvendor_Emp(p,c,D,s,C):\n",
    "    K,N = D.shape\n",
    "    \n",
    "    mnv = ro.Model('Multi_Newsvendor')\n",
    "    x = mnv.dvar(N)\n",
    "    t = mnv.dvar( (K,N) )\n",
    "    \n",
    "    mnv.max( 1/K*( (t @ p).sum() ) - c @ x )\n",
    "    \n",
    "    mnv.st( t[:,i] <= x[i] for i in range(N) )\n",
    "    mnv.st( t <= D )\n",
    "    mnv.st( s @ x <= C )\n",
    "    mnv.st( x >= 0)\n",
    "    \n",
    "    mnv.solve(grb, display = True)\n",
    "    return x.get(), mnv.get()"
   ]
  },
  {
   "cell_type": "code",
   "execution_count": 20,
   "metadata": {},
   "outputs": [
    {
     "name": "stdout",
     "output_type": "stream",
     "text": [
      "Being solved by Gurobi...\n",
      "Solution status: 2\n",
      "Running time: 0.0818s\n",
      "The optimal order quantity is: [ 54.          42.          71.          34.          29.\n",
      " 207.          48.66666667   0.          93.          25.\n",
      "  74.          55.          73.          27.         231.        ]\n",
      "-------------------------------------\n",
      "And the corresponding expected profit is: 5975.237815601608\n"
     ]
    }
   ],
   "source": [
    "order_emp, profit_emp = Multi_Newsvendor_Emp(price,cost,Demand,space,total_space)\n",
    "print('The optimal order quantity is:', order_emp )\n",
    "print('-------------------------------------')\n",
    "print('And the corresponding expected profit is:', profit_emp )"
   ]
  },
  {
   "cell_type": "markdown",
   "metadata": {},
   "source": [
    "### Evaluate the two solutions ``order_heu`` and ``order_emp`` by using testing data\n",
    "\n",
    "Note that the profit for any order quantity x can be obtained via:\n",
    "    \n",
    "``Profit = np.mean( np.minimum(x @ price, Demand_test @ price) - cost @ x )``"
   ]
  },
  {
   "cell_type": "code",
   "execution_count": 23,
   "metadata": {},
   "outputs": [
    {
     "name": "stdout",
     "output_type": "stream",
     "text": [
      "5434.85763888889\n",
      "6669.300529100529\n",
      "22.71343560829702\n"
     ]
    }
   ],
   "source": [
    "## Optimal order quantity (theoretical)\n",
    "Demand_test = np.array( demand_test.values[:,1:16].astype(int) )\n",
    "\n",
    "profit_heu = np.mean( np.minimum(order_heu @ price, Demand_test @ price) - cost @ order_heu )\n",
    "print( profit_heu )\n",
    "\n",
    "profit_emp = np.mean( np.minimum(price @ order_emp, Demand_test @ price) - cost @ order_emp )\n",
    "print( profit_emp )\n",
    "\n",
    "Performance_imp = (profit_emp - profit_heu)/profit_heu*100\n",
    "print( Performance_imp )"
   ]
  },
  {
   "cell_type": "code",
   "execution_count": null,
   "metadata": {},
   "outputs": [],
   "source": []
  }
 ],
 "metadata": {
  "kernelspec": {
   "display_name": "Python 3 (ipykernel)",
   "language": "python",
   "name": "python3"
  },
  "language_info": {
   "codemirror_mode": {
    "name": "ipython",
    "version": 3
   },
   "file_extension": ".py",
   "mimetype": "text/x-python",
   "name": "python",
   "nbconvert_exporter": "python",
   "pygments_lexer": "ipython3",
   "version": "3.7.11"
  }
 },
 "nbformat": 4,
 "nbformat_minor": 4
}
