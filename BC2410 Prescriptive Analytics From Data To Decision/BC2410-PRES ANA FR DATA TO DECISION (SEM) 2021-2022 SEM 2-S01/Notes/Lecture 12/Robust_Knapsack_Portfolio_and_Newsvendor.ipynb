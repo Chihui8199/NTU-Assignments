{
 "cells": [
  {
   "cell_type": "markdown",
   "metadata": {},
   "source": [
    "## Robust Optimization\n",
    "\n",
    "For the following LOP,\n",
    "$$\n",
    "\\begin{align*}\n",
    "\\min \\ & \\boldsymbol{c}^\\top \\boldsymbol{x} \\\\\n",
    "{\\rm s.t.} \\ & \\boldsymbol{A x} \\leq \\boldsymbol{b} \\\\\n",
    "& \\boldsymbol{x \\geq 0}\n",
    "\\end{align*}\n",
    "$$\n",
    "what if some of the parameters are not accurate? For example, $\\boldsymbol c$ is in some range $[\\underline{\\boldsymbol c}, \\bar{\\boldsymbol c}]$. \n",
    "\n",
    "In this case, we can resort to robust optimization. \n",
    "\n",
    "$$\n",
    "\\begin{align*}\n",
    "\\min_{\\boldsymbol{x}\\geq 0} \\ &\\max_{\\boldsymbol c \\in \\mathcal{U}_0} \\boldsymbol c^\\top \\boldsymbol x\\\\\n",
    "{\\rm s.t.}\\  & \\boldsymbol a_i^\\top \\boldsymbol{x} \\leq b_i && \\forall (\\boldsymbol a_i, b_i) \\in \\mathcal{U}_i, i = 1,...,N\\\\\n",
    "&\\boldsymbol x \\geq \\boldsymbol 0  \n",
    "\\end{align*}\n",
    "$$\n",
    "\n",
    "Let's use the Knapsack problem as an example. \n",
    "\n",
    "(For more details of the implementation of robust models in RSOME, please refer to https://xiongpengnus.github.io/rsome/ro_rsome )"
   ]
  },
  {
   "cell_type": "markdown",
   "metadata": {},
   "source": [
    "### Robust Knapsack problem\n",
    "\n",
    "* Cost vector, c is deterministic\n",
    "* Weight vector, a is uncertain\n",
    "\n",
    "The robust Knapsack problem can be modeled as follows:\n",
    "$$\n",
    "\\begin{align*}\n",
    "\\min_{\\boldsymbol{x}\\geq 0} \\ &\\boldsymbol c^\\top \\boldsymbol x\\\\\n",
    "{\\rm s.t.}\\  & \\sum_{i = 1}^N (\\hat{a}_i + \\Delta_i z_i)x_i \\leq b && \\forall \\boldsymbol z \\in \\mathcal{Z}(\\Gamma)\\\\\n",
    "&x_i \\in \\{ 0, 1\\} && \\forall i = 1,...,N   \n",
    "\\end{align*}\n",
    "$$\n",
    "where $\\mathcal{Z}(\\Gamma) = \\left\\{\\boldsymbol{z}~\\left|\\begin{array}{l} |z_j| \\leq 1 \\forall j = 1,...,N \\\\ \\sum_{j = 1}^N |z_j| \\leq \\Gamma \\end{array} \\right. \\right\\}$ and $\\Gamma$ is a given number. "
   ]
  },
  {
   "cell_type": "code",
   "execution_count": 1,
   "metadata": {},
   "outputs": [],
   "source": [
    "import numpy as np\n",
    "import seaborn as sns\n",
    "import matplotlib.pyplot as plt\n",
    "import scipy.special as ss\n",
    "import pandas as pd\n",
    "\n",
    "import rsome as rso\n",
    "from rsome import ro\n",
    "from rsome import grb_solver as solver"
   ]
  },
  {
   "cell_type": "code",
   "execution_count": 2,
   "metadata": {},
   "outputs": [
    {
     "data": {
      "text/html": [
       "<div>\n",
       "<style scoped>\n",
       "    .dataframe tbody tr th:only-of-type {\n",
       "        vertical-align: middle;\n",
       "    }\n",
       "\n",
       "    .dataframe tbody tr th {\n",
       "        vertical-align: top;\n",
       "    }\n",
       "\n",
       "    .dataframe thead th {\n",
       "        text-align: right;\n",
       "    }\n",
       "</style>\n",
       "<table border=\"1\" class=\"dataframe\">\n",
       "  <thead>\n",
       "    <tr style=\"text-align: right;\">\n",
       "      <th></th>\n",
       "      <th>Item</th>\n",
       "      <th>Weight</th>\n",
       "      <th>Value</th>\n",
       "      <th>Deviation</th>\n",
       "    </tr>\n",
       "  </thead>\n",
       "  <tbody>\n",
       "    <tr>\n",
       "      <th>0</th>\n",
       "      <td>P1</td>\n",
       "      <td>80</td>\n",
       "      <td>74</td>\n",
       "      <td>40</td>\n",
       "    </tr>\n",
       "    <tr>\n",
       "      <th>1</th>\n",
       "      <td>P2</td>\n",
       "      <td>448</td>\n",
       "      <td>61</td>\n",
       "      <td>224</td>\n",
       "    </tr>\n",
       "    <tr>\n",
       "      <th>2</th>\n",
       "      <td>P3</td>\n",
       "      <td>462</td>\n",
       "      <td>56</td>\n",
       "      <td>231</td>\n",
       "    </tr>\n",
       "    <tr>\n",
       "      <th>3</th>\n",
       "      <td>P4</td>\n",
       "      <td>158</td>\n",
       "      <td>3</td>\n",
       "      <td>79</td>\n",
       "    </tr>\n",
       "    <tr>\n",
       "      <th>4</th>\n",
       "      <td>P5</td>\n",
       "      <td>55</td>\n",
       "      <td>37</td>\n",
       "      <td>28</td>\n",
       "    </tr>\n",
       "  </tbody>\n",
       "</table>\n",
       "</div>"
      ],
      "text/plain": [
       "  Item  Weight  Value  Deviation\n",
       "0   P1      80     74         40\n",
       "1   P2     448     61        224\n",
       "2   P3     462     56        231\n",
       "3   P4     158      3         79\n",
       "4   P5      55     37         28"
      ]
     },
     "execution_count": 2,
     "metadata": {},
     "output_type": "execute_result"
    }
   ],
   "source": [
    "df = pd.read_csv('KnapsackData.csv')\n",
    "df.head()"
   ]
  },
  {
   "cell_type": "code",
   "execution_count": 3,
   "metadata": {},
   "outputs": [],
   "source": [
    "#capacity\n",
    "b = 10000\n",
    "#number of item\n",
    "N = len(df)\n",
    "c = df['Value'].values\n",
    "a_hat = df['Weight'].values\n",
    "delta = df['Deviation'].values"
   ]
  },
  {
   "cell_type": "markdown",
   "metadata": {},
   "source": [
    "You can directly solve robust knapsack using RSOME without deriving the robust counterpart."
   ]
  },
  {
   "cell_type": "code",
   "execution_count": 4,
   "metadata": {},
   "outputs": [
    {
     "name": "stdout",
     "output_type": "stream",
     "text": [
      "Academic license - for non-commercial use only - expires 2022-07-30\n",
      "Using license file C:\\Users\\kings\\gurobi.lic\n",
      "Being solved by Gurobi...\n",
      "Solution status: 2\n",
      "Running time: 0.0479s\n",
      "[ 1.  1. -0. -0.  1. -0.  1.  1.  1. -0. -0.  1.  1.  1.  1. -0. -0. -0.\n",
      "  1. -0.  1. -0. -0. -0.  1.  1. -0. -0. -0.  1. -0. -0. -0. -0. -0.  1.\n",
      " -0. -0.  1. -0. -0. -0.  1. -0.  1. -0. -0. -0.  1. -0.  1.  1. -0. -0.\n",
      " -0.  1. -0. -0. -0. -0.  1.  1.  1.  1. -0. -0. -0.  1. -0.  1.  1. -0.\n",
      " -0.  1.  1. -0. -0. -0. -0. -0.  1. -0. -0.  1. -0. -0. -0.  1.  1. -0.\n",
      " -0.  1.  1. -0. -0.  1. -0. -0.  1.  1.]\n",
      "2730.0\n"
     ]
    }
   ],
   "source": [
    "r=3\n",
    "\n",
    "m1 = ro.Model('Robust')\n",
    "x = m1.dvar(N, vtype = \"B\")\n",
    "z = m1.rvar(N)  ## rvar stands for random variable\n",
    "\n",
    "z_set = (abs(z) <= 1, rso.norm(z, 1) <= r) ## define uncertainty set\n",
    "\n",
    "m1.max(sum([c[i]*x[i] for i in range(N)])) ## alternatively, just use m1.max(c @ x)\n",
    "m1.st(((a_hat + z*delta) @ x <= b).forall(z_set))\n",
    "    \n",
    "m1.solve(solver)\n",
    "\n",
    "Zr = m1.get()\n",
    "Xr = x.get()\n",
    "print(Xr)\n",
    "print(Zr)"
   ]
  },
  {
   "cell_type": "markdown",
   "metadata": {},
   "source": [
    "## Distributionally Robust Optimization \n",
    "\n",
    "When the distribution of some random variables are not known but some historical data are available. We can use distributionally robust optimization to model the problem. We use the simplified portfolio optimization as a toy example to demonstrate. \n",
    "\n",
    "For a more sophisticated model and more details about the implementation of DRO in RSOME, please refer to https://xiongpengnus.github.io/rsome/example_dro_portfolio and https://xiongpengnus.github.io/rsome/dro_rsome\n",
    "\n",
    "### Distributionally Robust Portfolio Optimization\n",
    "\n",
    "For the portfolio optimization problem, suppose we do not know the distribution but can obtain can statistics from historical data, we can model the problem as follows:\n",
    "$$\n",
    "\\begin{align}\n",
    "\\max\\ & \\inf_{{\\mathbb P}\\in \\mathcal{F}(\\mathbb P)} \\mathbb{E}_{\\mathbb P}\\left[\\sum_{i = 1}^N \\tilde{r}_i x_i\\right]\\\\\n",
    "\\mbox{s.t.}\\ & \\boldsymbol{x}^\\top \\boldsymbol{\\Sigma} \\boldsymbol{x} \\leq \\gamma \\\\\n",
    "&\\boldsymbol{1}^\\top \\boldsymbol{x} = 1\\\\\n",
    "&\\boldsymbol{x} \\geq \\boldsymbol{0}\n",
    "\\end{align}\n",
    "$$\n",
    "where \n",
    "$$\n",
    "\\mathcal{F}(\\mathbb{P}) = \\left[\n",
    "\\mathbb{P}~\\left|~\\begin{array}{l} \n",
    "\\tilde{\\boldsymbol r} \\sim \\mathbb{P} \\\\\n",
    "\\mathbb{E}_{\\mathbb{P}} [\\tilde{\\boldsymbol r}] = \\boldsymbol \\mu \\\\\n",
    "\\mathbb{E}_{\\mathbb{P}} [|\\tilde{\\boldsymbol r} - \\boldsymbol \\mu |] \\leq \\boldsymbol \\sigma \\\\\n",
    "\\mathbb{P}[\\underline{\\boldsymbol r } \\leq \\tilde{\\boldsymbol r} \\leq \\bar{\\boldsymbol r}] = 1\n",
    "\\end{array}\\right.\n",
    "\\right]\n",
    "$$\n",
    "\n",
    "Here, $\\boldsymbol \\mu$ is the expected return, $\\boldsymbol \\sigma$ is the mean absolute deviation of the return, and $\\underline{\\boldsymbol r }, \\bar{\\boldsymbol r}$ are the minimum and maximum return respectively. "
   ]
  },
  {
   "cell_type": "code",
   "execution_count": 5,
   "metadata": {},
   "outputs": [],
   "source": [
    "import pandas as pd\n",
    "# Creating a list of Stock Tickers\n",
    "from pandas_datareader import data as wb\n",
    "stocks = ['HSBC','JPM','AAPL','WMT','AMZN','MSFT']\n",
    "price_data = pd.DataFrame()\n",
    "# Pulling closing price   \n",
    "for stock in stocks:\n",
    "    price_data[stock] = wb.DataReader(stock, data_source = 'yahoo', start = '2010-1-1', end = '2019-12-31')['Adj Close']\n",
    "num_stocks = len(stocks)"
   ]
  },
  {
   "cell_type": "code",
   "execution_count": 6,
   "metadata": {},
   "outputs": [
    {
     "name": "stdout",
     "output_type": "stream",
     "text": [
      "                HSBC       JPM      AAPL       WMT      AMZN      MSFT\n",
      "Date                                                                  \n",
      "2009-12-31       NaN       NaN       NaN       NaN       NaN       NaN\n",
      "2010-01-04  0.021545  0.029554  0.015565  0.014593 -0.004609  0.015420\n",
      "2010-01-05  0.015947  0.019370  0.001729 -0.009958  0.005900  0.000323\n",
      "2010-01-06  0.001181  0.005495 -0.015907 -0.002235 -0.018116 -0.006137\n",
      "2010-01-07 -0.003203  0.019809 -0.001848  0.000560 -0.017013 -0.010400\n"
     ]
    }
   ],
   "source": [
    "# pf_data pct change\n",
    "day_returns = price_data.pct_change()\n",
    "print(day_returns.head(5))"
   ]
  },
  {
   "cell_type": "code",
   "execution_count": 7,
   "metadata": {},
   "outputs": [
    {
     "data": {
      "text/plain": [
       "array([0.00014628, 0.00070092, 0.00109278, 0.00047737, 0.00123128,\n",
       "       0.00085102])"
      ]
     },
     "execution_count": 7,
     "metadata": {},
     "output_type": "execute_result"
    }
   ],
   "source": [
    "return_mu = day_returns.mean().values\n",
    "return_mu"
   ]
  },
  {
   "cell_type": "code",
   "execution_count": 8,
   "metadata": {},
   "outputs": [
    {
     "data": {
      "text/plain": [
       "(array([0.06413007, 0.08438344, 0.08874132, 0.10898378, 0.15745701,\n",
       "        0.10452254]),\n",
       " array([-0.09042417, -0.09414857, -0.12355786, -0.10183239, -0.12656835,\n",
       "        -0.11399539]))"
      ]
     },
     "execution_count": 8,
     "metadata": {},
     "output_type": "execute_result"
    }
   ],
   "source": [
    "return_max = day_returns.max().values\n",
    "return_min = day_returns.min().values\n",
    "\n",
    "return_max, return_min"
   ]
  },
  {
   "cell_type": "code",
   "execution_count": 9,
   "metadata": {},
   "outputs": [
    {
     "data": {
      "text/plain": [
       "array([[1.79541333e-04, 1.37131464e-04, 7.89104880e-05, 3.84581740e-05,\n",
       "        9.13261522e-05, 8.71992729e-05],\n",
       "       [1.37131464e-04, 2.49489807e-04, 9.49789499e-05, 5.11253546e-05,\n",
       "        1.06920018e-04, 1.06977260e-04],\n",
       "       [7.89104880e-05, 9.49789499e-05, 2.63065146e-04, 3.97796095e-05,\n",
       "        1.25714876e-04, 1.06190702e-04],\n",
       "       [3.84581740e-05, 5.11253546e-05, 3.97796095e-05, 1.18093895e-04,\n",
       "        4.32417455e-05, 4.77860218e-05],\n",
       "       [9.13261522e-05, 1.06920018e-04, 1.25714876e-04, 4.32417455e-05,\n",
       "        3.80680279e-04, 1.36375164e-04],\n",
       "       [8.71992729e-05, 1.06977260e-04, 1.06190702e-04, 4.77860218e-05,\n",
       "        1.36375164e-04, 2.04850040e-04]])"
      ]
     },
     "execution_count": 9,
     "metadata": {},
     "output_type": "execute_result"
    }
   ],
   "source": [
    "return_cov = day_returns.cov().values\n",
    "return_cov"
   ]
  },
  {
   "cell_type": "code",
   "execution_count": 10,
   "metadata": {},
   "outputs": [
    {
     "data": {
      "text/plain": [
       "array([0.0094731 , 0.01118226, 0.01158512, 0.00739665, 0.01341392,\n",
       "       0.01008124])"
      ]
     },
     "execution_count": 10,
     "metadata": {},
     "output_type": "execute_result"
    }
   ],
   "source": [
    "return_mad = day_returns.mad().values\n",
    "return_mad"
   ]
  },
  {
   "cell_type": "code",
   "execution_count": 11,
   "metadata": {},
   "outputs": [],
   "source": [
    "N = len(return_mu)"
   ]
  },
  {
   "cell_type": "code",
   "execution_count": 12,
   "metadata": {},
   "outputs": [
    {
     "name": "stdout",
     "output_type": "stream",
     "text": [
      "Being solved by Gurobi...\n",
      "Solution status: 2\n",
      "Running time: 0.0118s\n"
     ]
    },
    {
     "data": {
      "text/plain": [
       "array([3.74369264e-06, 5.83241404e-02, 2.52571458e-01, 3.88211098e-01,\n",
       "       1.54102693e-01, 1.46786869e-01])"
      ]
     },
     "execution_count": 12,
     "metadata": {},
     "output_type": "execute_result"
    }
   ],
   "source": [
    "import rsome\n",
    "from rsome import dro\n",
    "from rsome import norm\n",
    "from rsome import E\n",
    "from rsome import grb_solver as solver\n",
    "\n",
    "N = len(return_mu)\n",
    "\n",
    "model = dro.Model()             # create a dro model \n",
    "r = model.rvar(N)               # define random return\n",
    "u = model.rvar(N)               # define a auxiliary random variable u\n",
    "x = model.dvar(N)\n",
    "\n",
    "fset = model.ambiguity()        # create an ambiguity set\n",
    "\n",
    "fset.suppset(r >= return_min, \n",
    "             r <= return_max,\n",
    "             u >= r - return_mu,\n",
    "             u >= return_mu - r)\n",
    "\n",
    "fset.exptset(E(r) == return_mu, \n",
    "             E(u) <= return_mad )\n",
    "\n",
    "model.maxinf(E(r @ x), fset)    # maximize the worst-case expectation over fset\n",
    "\n",
    "model.st(x.sum() == 1,\n",
    "         rsome.quad(x, return_cov) <= 0.0001,\n",
    "         x >= 0)       \n",
    "\n",
    "model.solve(solver)\n",
    "\n",
    "x.get()"
   ]
  },
  {
   "cell_type": "markdown",
   "metadata": {},
   "source": [
    "### Distributionally robust multi-item newsvendor problem (Optional)"
   ]
  },
  {
   "cell_type": "markdown",
   "metadata": {},
   "source": [
    "Now suppose there are $N$ products and $K$ historical samples. Specifically, \n",
    "* $N$ items to sell. \n",
    "* For each item $i$, unit cost is $𝑐_𝑖$, selling price $𝑝_𝑖$. \n",
    "* Order quantity $𝑥_𝑖, i = 1, … , N$. \n",
    "* Assume salvage price is zero.\n",
    "* Each item $i$ incurs storage space $𝑠_𝑖$. Total space available is $C$. \n",
    "* $K$ instances of demands available. \n",
    "* Let $𝑑_𝑘𝑖$ denotes the demand of item $i$ in instance $k, k = 1, …, K$. \n",
    "\n",
    "For this problem, it's difficult to obtain the demand distribution. We can use historical data to estimate the distribution, but most likely, we won't have enough data! For example, suppose we have 10 products and each product has 3 possible values. We then will need at least \n",
    "$$\n",
    "3^{10} = 59049 \n",
    "$$\n",
    "samples!\n",
    "\n",
    "If we collect one sample each day, it will take us at least 161.77 years to obtain all the possible demands!!\n",
    "\n",
    "However, we can derive some statistics such as support, mean, and mean standard deviation of the demand from historical data so that we can formulate the multi-item newsvendor problem under ambiguity as follows: \n",
    "\n",
    "$$\n",
    "\\begin{align*}\n",
    "\\max_{\\boldsymbol{x}\\geq 0} \\ &\\min_{\\mathbb{P} \\in \\mathcal{F}(\\mathbb{P})}\\mathbb{E}_{\\mathbb{P}} \\sum_{i = 1}^N\\left( p_i \\min\\{ x_i, \\tilde{d_i} \\}  \\right) - \\boldsymbol{c}^\\top\\boldsymbol{x} \\\\\n",
    "\\end{align*}\n",
    "$$\n",
    "where \n",
    "$$\n",
    "\\mathcal{F}(\\mathbb{P}) = \\left[\n",
    "\\mathbb{P}~\\left|~\\begin{array}{l} \n",
    "\\tilde{\\boldsymbol d} \\sim \\mathbb{P} \\\\\n",
    "\\mathbb{E}_{\\mathbb{P}} [\\tilde{\\boldsymbol d}] = \\boldsymbol \\mu \\\\\n",
    "\\mathbb{E}_{\\mathbb{P}} [|\\tilde{\\boldsymbol d} - \\boldsymbol \\mu |] \\leq \\boldsymbol \\sigma \\\\\n",
    "\\mathbb{P}[\\underline{\\boldsymbol d } \\leq \\tilde{\\boldsymbol d} \\leq \\bar{\\boldsymbol d}] = 1\n",
    "\\end{array}\\right.\n",
    "\\right]\n",
    "$$\n",
    "\n",
    "This model can be reformulated as\n",
    "$$\n",
    "\\begin{align*}\n",
    "\\max_{\\boldsymbol{x}\\geq 0} \\ &\\min_{\\mathbb{P} \\in \\mathcal{F}(\\mathbb{P})}\\mathbb{E}_{\\mathbb{P}} [\\boldsymbol p^\\top \\boldsymbol y(\\tilde{\\boldsymbol d})] - \\boldsymbol{c}^\\top\\boldsymbol{x} \\\\\n",
    "{\\rm s.t.}\\  & \\boldsymbol y(\\boldsymbol d) \\leq \\boldsymbol x && \\forall \\boldsymbol d \\in [\\underline{\\boldsymbol d }, \\bar{\\boldsymbol d}]\\\\\n",
    "&\\boldsymbol y(\\boldsymbol d) \\leq \\boldsymbol d && \\forall \\boldsymbol d \\in [\\underline{\\boldsymbol d }, \\bar{\\boldsymbol d}]\\\\  \n",
    "&\\boldsymbol s^\\top \\boldsymbol x \\leq C \\\\\n",
    "&\\boldsymbol x \\geq \\boldsymbol 0  \n",
    "\\end{align*}\n",
    "$$\n",
    "\n",
    "We can solve this model as follows (A more sophisticated model with Wasserstein ambiguity set can be found here: https://xiongpengnus.github.io/rsome/example_dro_nv):"
   ]
  },
  {
   "cell_type": "code",
   "execution_count": 13,
   "metadata": {},
   "outputs": [],
   "source": [
    "def Multi_Newsvendor_DRO(p,c,D,s,C):\n",
    "    K,N = D.shape\n",
    "    D_mu = D.mean().values\n",
    "    D_mad = D.mad().values\n",
    "    D_min = D.min().values\n",
    "    D_max = D.max().values\n",
    "    \n",
    "    mnv = dro.Model('Multi_Newsvendor')\n",
    "    \n",
    "    x = mnv.dvar(N)\n",
    "    y = mnv.dvar(N)\n",
    "\n",
    "    d = mnv.rvar(N)\n",
    "    u = mnv.rvar(N)       \n",
    "    \n",
    "    y.adapt(d)\n",
    "    y.adapt(u)\n",
    "    \n",
    "    fset = mnv.ambiguity()        # create an ambiguity set\n",
    "    fset.suppset(d >= D_min, \n",
    "                 d <= D_max,\n",
    "                 u >= d - D_mu,\n",
    "                 u >= D_mu - d)\n",
    "\n",
    "    fset.exptset(E(d) == D_mu, \n",
    "                 E(u) <= D_mad )\n",
    "    \n",
    "    mnv.maxinf( E(p @ y) - c @ x, fset )\n",
    "    \n",
    "    mnv.st( y <= x )\n",
    "    mnv.st( y <= d )\n",
    "    mnv.st( s @ x <= C )\n",
    "    mnv.st( x >= 0)\n",
    "    \n",
    "    mnv.solve(solver, display = False)\n",
    "    return x.get(), mnv.get()"
   ]
  },
  {
   "cell_type": "code",
   "execution_count": 14,
   "metadata": {},
   "outputs": [
    {
     "data": {
      "text/html": [
       "<div>\n",
       "<style scoped>\n",
       "    .dataframe tbody tr th:only-of-type {\n",
       "        vertical-align: middle;\n",
       "    }\n",
       "\n",
       "    .dataframe tbody tr th {\n",
       "        vertical-align: top;\n",
       "    }\n",
       "\n",
       "    .dataframe thead th {\n",
       "        text-align: right;\n",
       "    }\n",
       "</style>\n",
       "<table border=\"1\" class=\"dataframe\">\n",
       "  <thead>\n",
       "    <tr style=\"text-align: right;\">\n",
       "      <th></th>\n",
       "      <th>real_date</th>\n",
       "      <th>prod_1</th>\n",
       "      <th>prod_2</th>\n",
       "      <th>prod_3</th>\n",
       "      <th>prod_4</th>\n",
       "      <th>prod_5</th>\n",
       "      <th>prod_6</th>\n",
       "      <th>prod_7</th>\n",
       "      <th>prod_8</th>\n",
       "      <th>prod_9</th>\n",
       "      <th>prod_10</th>\n",
       "      <th>prod_11</th>\n",
       "      <th>prod_12</th>\n",
       "      <th>prod_13</th>\n",
       "      <th>prod_14</th>\n",
       "      <th>prod_15</th>\n",
       "    </tr>\n",
       "  </thead>\n",
       "  <tbody>\n",
       "    <tr>\n",
       "      <th>0</th>\n",
       "      <td>1/2/2013</td>\n",
       "      <td>99</td>\n",
       "      <td>59</td>\n",
       "      <td>348</td>\n",
       "      <td>47</td>\n",
       "      <td>37</td>\n",
       "      <td>422</td>\n",
       "      <td>67</td>\n",
       "      <td>132</td>\n",
       "      <td>209</td>\n",
       "      <td>28</td>\n",
       "      <td>99</td>\n",
       "      <td>113</td>\n",
       "      <td>70</td>\n",
       "      <td>80</td>\n",
       "      <td>404</td>\n",
       "    </tr>\n",
       "    <tr>\n",
       "      <th>1</th>\n",
       "      <td>1/3/2013</td>\n",
       "      <td>80</td>\n",
       "      <td>41</td>\n",
       "      <td>180</td>\n",
       "      <td>34</td>\n",
       "      <td>24</td>\n",
       "      <td>329</td>\n",
       "      <td>47</td>\n",
       "      <td>106</td>\n",
       "      <td>162</td>\n",
       "      <td>27</td>\n",
       "      <td>80</td>\n",
       "      <td>65</td>\n",
       "      <td>49</td>\n",
       "      <td>54</td>\n",
       "      <td>323</td>\n",
       "    </tr>\n",
       "    <tr>\n",
       "      <th>2</th>\n",
       "      <td>1/4/2013</td>\n",
       "      <td>73</td>\n",
       "      <td>41</td>\n",
       "      <td>141</td>\n",
       "      <td>33</td>\n",
       "      <td>19</td>\n",
       "      <td>257</td>\n",
       "      <td>55</td>\n",
       "      <td>94</td>\n",
       "      <td>124</td>\n",
       "      <td>26</td>\n",
       "      <td>61</td>\n",
       "      <td>59</td>\n",
       "      <td>36</td>\n",
       "      <td>57</td>\n",
       "      <td>310</td>\n",
       "    </tr>\n",
       "    <tr>\n",
       "      <th>3</th>\n",
       "      <td>1/5/2013</td>\n",
       "      <td>103</td>\n",
       "      <td>60</td>\n",
       "      <td>259</td>\n",
       "      <td>38</td>\n",
       "      <td>28</td>\n",
       "      <td>359</td>\n",
       "      <td>66</td>\n",
       "      <td>148</td>\n",
       "      <td>194</td>\n",
       "      <td>28</td>\n",
       "      <td>86</td>\n",
       "      <td>83</td>\n",
       "      <td>66</td>\n",
       "      <td>68</td>\n",
       "      <td>467</td>\n",
       "    </tr>\n",
       "    <tr>\n",
       "      <th>4</th>\n",
       "      <td>1/6/2013</td>\n",
       "      <td>109</td>\n",
       "      <td>70</td>\n",
       "      <td>439</td>\n",
       "      <td>46</td>\n",
       "      <td>37</td>\n",
       "      <td>376</td>\n",
       "      <td>63</td>\n",
       "      <td>150</td>\n",
       "      <td>252</td>\n",
       "      <td>33</td>\n",
       "      <td>124</td>\n",
       "      <td>114</td>\n",
       "      <td>77</td>\n",
       "      <td>84</td>\n",
       "      <td>579</td>\n",
       "    </tr>\n",
       "  </tbody>\n",
       "</table>\n",
       "</div>"
      ],
      "text/plain": [
       "  real_date  prod_1  prod_2  prod_3  prod_4  prod_5  prod_6  prod_7  prod_8  \\\n",
       "0  1/2/2013      99      59     348      47      37     422      67     132   \n",
       "1  1/3/2013      80      41     180      34      24     329      47     106   \n",
       "2  1/4/2013      73      41     141      33      19     257      55      94   \n",
       "3  1/5/2013     103      60     259      38      28     359      66     148   \n",
       "4  1/6/2013     109      70     439      46      37     376      63     150   \n",
       "\n",
       "   prod_9  prod_10  prod_11  prod_12  prod_13  prod_14  prod_15  \n",
       "0     209       28       99      113       70       80      404  \n",
       "1     162       27       80       65       49       54      323  \n",
       "2     124       26       61       59       36       57      310  \n",
       "3     194       28       86       83       66       68      467  \n",
       "4     252       33      124      114       77       84      579  "
      ]
     },
     "execution_count": 14,
     "metadata": {},
     "output_type": "execute_result"
    }
   ],
   "source": [
    "Demand_data = pd.read_csv(\"Demand_data.csv\")\n",
    "Demand_data.head()"
   ]
  },
  {
   "cell_type": "code",
   "execution_count": 15,
   "metadata": {},
   "outputs": [],
   "source": [
    "from sklearn.model_selection import train_test_split\n",
    "\n",
    "demand_train, demand_test = train_test_split(Demand_data, test_size=0.3)\n",
    "Demand = demand_train.drop('real_date', axis=1, inplace=False)"
   ]
  },
  {
   "cell_type": "code",
   "execution_count": 16,
   "metadata": {},
   "outputs": [
    {
     "data": {
      "text/html": [
       "<div>\n",
       "<style scoped>\n",
       "    .dataframe tbody tr th:only-of-type {\n",
       "        vertical-align: middle;\n",
       "    }\n",
       "\n",
       "    .dataframe tbody tr th {\n",
       "        vertical-align: top;\n",
       "    }\n",
       "\n",
       "    .dataframe thead th {\n",
       "        text-align: right;\n",
       "    }\n",
       "</style>\n",
       "<table border=\"1\" class=\"dataframe\">\n",
       "  <thead>\n",
       "    <tr style=\"text-align: right;\">\n",
       "      <th></th>\n",
       "      <th>Unnamed: 0</th>\n",
       "      <th>prod_1</th>\n",
       "      <th>prod_2</th>\n",
       "      <th>prod_3</th>\n",
       "      <th>prod_4</th>\n",
       "      <th>prod_5</th>\n",
       "      <th>prod_6</th>\n",
       "      <th>prod_7</th>\n",
       "      <th>prod_8</th>\n",
       "      <th>prod_9</th>\n",
       "      <th>prod_10</th>\n",
       "      <th>prod_11</th>\n",
       "      <th>prod_12</th>\n",
       "      <th>prod_13</th>\n",
       "      <th>prod_14</th>\n",
       "      <th>prod_15</th>\n",
       "    </tr>\n",
       "  </thead>\n",
       "  <tbody>\n",
       "    <tr>\n",
       "      <th>0</th>\n",
       "      <td>Price</td>\n",
       "      <td>10.6</td>\n",
       "      <td>7.3</td>\n",
       "      <td>10.7</td>\n",
       "      <td>9.5</td>\n",
       "      <td>7.6</td>\n",
       "      <td>14.8</td>\n",
       "      <td>10.4</td>\n",
       "      <td>4.7</td>\n",
       "      <td>14.0</td>\n",
       "      <td>6.0</td>\n",
       "      <td>6.1</td>\n",
       "      <td>14.8</td>\n",
       "      <td>11.9</td>\n",
       "      <td>6.9</td>\n",
       "      <td>8.6</td>\n",
       "    </tr>\n",
       "    <tr>\n",
       "      <th>1</th>\n",
       "      <td>Cost</td>\n",
       "      <td>3.2</td>\n",
       "      <td>3.9</td>\n",
       "      <td>5.3</td>\n",
       "      <td>3.8</td>\n",
       "      <td>2.1</td>\n",
       "      <td>6.9</td>\n",
       "      <td>5.2</td>\n",
       "      <td>2.9</td>\n",
       "      <td>4.6</td>\n",
       "      <td>2.4</td>\n",
       "      <td>2.4</td>\n",
       "      <td>5.9</td>\n",
       "      <td>3.8</td>\n",
       "      <td>1.7</td>\n",
       "      <td>2.5</td>\n",
       "    </tr>\n",
       "    <tr>\n",
       "      <th>2</th>\n",
       "      <td>Space</td>\n",
       "      <td>0.4</td>\n",
       "      <td>0.1</td>\n",
       "      <td>0.4</td>\n",
       "      <td>0.4</td>\n",
       "      <td>0.3</td>\n",
       "      <td>0.3</td>\n",
       "      <td>0.3</td>\n",
       "      <td>0.4</td>\n",
       "      <td>0.4</td>\n",
       "      <td>0.3</td>\n",
       "      <td>0.4</td>\n",
       "      <td>0.1</td>\n",
       "      <td>0.1</td>\n",
       "      <td>0.5</td>\n",
       "      <td>0.2</td>\n",
       "    </tr>\n",
       "  </tbody>\n",
       "</table>\n",
       "</div>"
      ],
      "text/plain": [
       "  Unnamed: 0  prod_1  prod_2  prod_3  prod_4  prod_5  prod_6  prod_7  prod_8  \\\n",
       "0      Price    10.6     7.3    10.7     9.5     7.6    14.8    10.4     4.7   \n",
       "1       Cost     3.2     3.9     5.3     3.8     2.1     6.9     5.2     2.9   \n",
       "2      Space     0.4     0.1     0.4     0.4     0.3     0.3     0.3     0.4   \n",
       "\n",
       "   prod_9  prod_10  prod_11  prod_12  prod_13  prod_14  prod_15  \n",
       "0    14.0      6.0      6.1     14.8     11.9      6.9      8.6  \n",
       "1     4.6      2.4      2.4      5.9      3.8      1.7      2.5  \n",
       "2     0.4      0.3      0.4      0.1      0.1      0.5      0.2  "
      ]
     },
     "execution_count": 16,
     "metadata": {},
     "output_type": "execute_result"
    }
   ],
   "source": [
    "Param_data = pd.read_csv(\"Param_data.csv\")\n",
    "Param_data"
   ]
  },
  {
   "cell_type": "code",
   "execution_count": 17,
   "metadata": {},
   "outputs": [],
   "source": [
    "price = np.array( Param_data.values[0,1:16].astype(np.float64) )\n",
    "cost = np.array( Param_data.values[1,1:16].astype(np.float64) )\n",
    "space = np.array( Param_data.values[2,1:16].astype(np.float64) )\n",
    "total_space = 300"
   ]
  },
  {
   "cell_type": "code",
   "execution_count": 18,
   "metadata": {},
   "outputs": [
    {
     "name": "stdout",
     "output_type": "stream",
     "text": [
      "The optimal order quantity is: [ 61.00340426  53.18553191  65.57978723  43.31404255  33.38468085\n",
      " 239.72170213  67.77021277   0.         110.72255319  32.18382979\n",
      "  11.          55.45106383  70.03574468  13.         235.33361702]\n",
      "-------------------------------------\n",
      "And the corresponding worst-case expected profit is: 5626.084876892422\n"
     ]
    }
   ],
   "source": [
    "order_dro, profit_dro = Multi_Newsvendor_DRO(price,cost,Demand,space,total_space)\n",
    "print('The optimal order quantity is:', order_dro )\n",
    "print('-------------------------------------')\n",
    "print('And the corresponding worst-case expected profit is:', profit_dro )"
   ]
  },
  {
   "cell_type": "markdown",
   "metadata": {},
   "source": [
    "#### Solve the problem empirically\n",
    "\n",
    "Alternatively, as we have covered last week, we can solve the problem empirically:"
   ]
  },
  {
   "cell_type": "code",
   "execution_count": 19,
   "metadata": {},
   "outputs": [],
   "source": [
    "def Multi_Newsvendor_Emp(p,c,D,s,C):\n",
    "    K,N = D.shape\n",
    "    \n",
    "    mnv = ro.Model('Multi_Newsvendor')\n",
    "    x = mnv.dvar(N)\n",
    "    t = mnv.dvar( (K,N) )\n",
    "    \n",
    "    mnv.max( 1/K*( (t @ p).sum() ) - c @ x )\n",
    "    \n",
    "    mnv.st( t[:,i] <= x[i] for i in range(N) )\n",
    "    mnv.st( t <= D )\n",
    "    mnv.st( s @ x <= C )\n",
    "    mnv.st( x >= 0)\n",
    "    \n",
    "    mnv.solve(solver, display = False)\n",
    "    return x.get(), mnv.get()"
   ]
  },
  {
   "cell_type": "code",
   "execution_count": 20,
   "metadata": {},
   "outputs": [],
   "source": [
    "price = np.array( Param_data.values[0,1:16].astype(np.float64) )\n",
    "cost = np.array( Param_data.values[1,1:16].astype(np.float64) )\n",
    "space = np.array( Param_data.values[2,1:16].astype(np.float64) )\n",
    "total_space = 300"
   ]
  },
  {
   "cell_type": "code",
   "execution_count": 21,
   "metadata": {},
   "outputs": [
    {
     "name": "stdout",
     "output_type": "stream",
     "text": [
      "The optimal order quantity is: [ 54.    41.    72.    34.    29.   207.    48.     0.    92.    25.\n",
      "  74.25  55.    73.    27.   232.  ]\n",
      "-------------------------------------\n",
      "And the corresponding expected profit is: 5944.017085105508\n"
     ]
    }
   ],
   "source": [
    "order_emp, profit_emp = Multi_Newsvendor_Emp(price,cost,Demand.values,space,total_space)\n",
    "print('The optimal order quantity is:', order_emp )\n",
    "print('-------------------------------------')\n",
    "print('And the corresponding expected profit is:', profit_emp )"
   ]
  },
  {
   "cell_type": "markdown",
   "metadata": {},
   "source": [
    "#### Evaluate the two solutions"
   ]
  },
  {
   "cell_type": "code",
   "execution_count": 25,
   "metadata": {},
   "outputs": [
    {
     "name": "stdout",
     "output_type": "stream",
     "text": [
      "6854.927599164134 983.490771727705\n",
      "6693.11820436508 723.1880735513305\n",
      "2.4175487397417648 35.9937764042646\n"
     ]
    }
   ],
   "source": [
    "## Optimal order quantity (theoretical)\n",
    "Demand_test = np.array( demand_test.values[:,1:16].astype(int) )\n",
    "\n",
    "profit_dro = np.mean( np.minimum(order_dro @ price, Demand_test @ price) - cost @ order_dro )\n",
    "std_dro = np.std( np.minimum(order_dro @ price, Demand_test @ price) - cost @ order_dro )\n",
    "\n",
    "print( profit_dro,std_dro )\n",
    "\n",
    "profit_emp = np.mean( np.minimum(price @ order_emp, Demand_test @ price) - cost @ order_emp )\n",
    "std_emp = np.std( np.minimum(price @ order_emp, Demand_test @ price) - cost @ order_emp )\n",
    "\n",
    "print( profit_emp, std_emp )\n",
    "\n",
    "Profit_imp = (profit_dro - profit_emp)/profit_emp*100\n",
    "Std_imp = (std_dro - std_emp)/std_emp*100\n",
    "\n",
    "print( Profit_imp, Std_imp )"
   ]
  },
  {
   "cell_type": "markdown",
   "metadata": {},
   "source": [
    "We can see that DRO improves the profit by 2.68 percent while the standard deviation is 36 percent higher!"
   ]
  },
  {
   "cell_type": "code",
   "execution_count": null,
   "metadata": {},
   "outputs": [],
   "source": []
  }
 ],
 "metadata": {
  "kernelspec": {
   "display_name": "Python 3",
   "language": "python",
   "name": "python3"
  },
  "language_info": {
   "codemirror_mode": {
    "name": "ipython",
    "version": 3
   },
   "file_extension": ".py",
   "mimetype": "text/x-python",
   "name": "python",
   "nbconvert_exporter": "python",
   "pygments_lexer": "ipython3",
   "version": "3.8.5"
  },
  "toc": {
   "base_numbering": 1,
   "nav_menu": {},
   "number_sections": true,
   "sideBar": true,
   "skip_h1_title": false,
   "title_cell": "Table of Contents",
   "title_sidebar": "Contents",
   "toc_cell": false,
   "toc_position": {},
   "toc_section_display": true,
   "toc_window_display": false
  }
 },
 "nbformat": 4,
 "nbformat_minor": 4
}
