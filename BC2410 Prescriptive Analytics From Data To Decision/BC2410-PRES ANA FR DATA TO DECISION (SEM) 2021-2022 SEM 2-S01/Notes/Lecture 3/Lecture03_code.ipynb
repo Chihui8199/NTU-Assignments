{
 "cells": [
  {
   "cell_type": "markdown",
   "metadata": {},
   "source": [
    "# Code for Lecture 3 Hands on Session"
   ]
  },
  {
   "cell_type": "code",
   "execution_count": 1,
   "metadata": {},
   "outputs": [],
   "source": [
    "import pandas as pd\n",
    "import numpy as np\n",
    "from rsome import ro\n",
    "from rsome import grb_solver as grb"
   ]
  },
  {
   "cell_type": "markdown",
   "metadata": {},
   "source": [
    "## Transportation problem\n",
    "\n",
    "A company has three PC assembly plants at locations 1, 2, and 3, with monthly production capacity of 1700 units, 2000 units, and 1700 units, respectively. Their PC's are sold through four retail outlets in locations A, B, C, and D, with monthly orders of 1700 units, 1000 units, 1500 units, and 1200 units respectively. The shipping costs from each plant to each outlet are presented in the following table. Use a linear programming model to find out the optimal shipping decision.  \n",
    "\n",
    "| Shipping cost | A | B | C | D  |\n",
    "|---------------|---|---|---|----|\n",
    "| 1             | 5 | 3 | 2 | 6  |\n",
    "| 2             | 7 | 7 | 8 | 10 |\n",
    "| 3             | 6 | 5 | 3 | 8  |\n",
    "\n",
    "In general, this model can be formulated as:\n",
    "\n",
    "$$\n",
    "\\begin{array}{rll}\n",
    "\\min\\ & \\displaystyle \\sum_{i \\in P} \\sum_{j \\in R} c_{ij}x_{ij} &\\\\\n",
    "\\mbox{s.t.}\\ & \\displaystyle \\sum_{i \\in P} x_{ij} \\geq d_j & \\forall j \\in R\\\\\n",
    "&\\displaystyle \\sum_{j \\in R} x_{ij} \\leq s_i & \\forall i \\in P \\\\\n",
    "&x_{ij} \\geq 0 &\\forall i \\in P, j \\in R\n",
    "\\end{array}\n",
    "$$\n",
    "where $P$ and $R$ denotes the sets of all plants and retail outlets, respectively, $c_{ij}$ the transporation cost between plant $i$ and retail outlet $j$, $d_j$ the demand in retail outlet $j$, $s_i$ production capacity of plant $i$, for all $i \\in P, j \\in R$. \n",
    "\n",
    "The data is in the file \"Transportation.csv\"\n"
   ]
  },
  {
   "cell_type": "code",
   "execution_count": 2,
   "metadata": {},
   "outputs": [
    {
     "name": "stdout",
     "output_type": "stream",
     "text": [
      "   Plants  Capacity Outlets  Demand  Unnamed: 4  Shipping cost    A    B    C  \\\n",
      "0     1.0    1700.0       A    1700         NaN            1.0  5.0  3.0  2.0   \n",
      "1     2.0    2000.0       B    1000         NaN            2.0  7.0  7.0  8.0   \n",
      "2     3.0    1700.0       C    1500         NaN            3.0  6.0  5.0  3.0   \n",
      "3     NaN       NaN       D    1200         NaN            NaN  NaN  NaN  NaN   \n",
      "\n",
      "      D  \n",
      "0   6.0  \n",
      "1  10.0  \n",
      "2   8.0  \n",
      "3   NaN  \n"
     ]
    },
    {
     "data": {
      "text/plain": [
       "(array([1.0, 2.0, 3.0], dtype=object),\n",
       " array([1700., 2000., 1700.]),\n",
       " array(['A', 'B', 'C', 'D'], dtype=object),\n",
       " array([1700., 1000., 1500., 1200.]),\n",
       " array([[ 5.,  3.,  2.,  6.],\n",
       "        [ 7.,  7.,  8., 10.],\n",
       "        [ 6.,  5.,  3.,  8.]]))"
      ]
     },
     "execution_count": 2,
     "metadata": {},
     "output_type": "execute_result"
    }
   ],
   "source": [
    "data1 = pd.read_csv(\"Transportation.csv\") # the datafile and the code should be in the same folder\n",
    "print( data1 )\n",
    "\n",
    "data = data1.values\n",
    "\n",
    "plants, capacity, outlet, demand, cost = \\\n",
    "data[0:3,0], data[0:3,1].astype(np.float64), data[:,2],data[:,3].astype(np.float64), data[0:3,6:10].astype(np.float64)  \n",
    "plants, capacity, outlet, demand, cost"
   ]
  },
  {
   "cell_type": "code",
   "execution_count": 3,
   "metadata": {},
   "outputs": [
    {
     "name": "stdout",
     "output_type": "stream",
     "text": [
      "Set parameter Username\n",
      "Academic license - for non-commercial use only - expires 2023-01-14\n",
      "Being solved by Gurobi...\n",
      "Solution status: 2\n",
      "Running time: 0.0085s\n",
      "Shipping amount is: \n",
      " [[  -0.  700.    0. 1000.]\n",
      " [1700.  300.   -0.   -0.]\n",
      " [   0.   -0. 1500.  200.]]\n",
      "The total cost is:  28200.0\n"
     ]
    }
   ],
   "source": [
    "p,r = cost.shape\n",
    "## claim a model\n",
    "m1 = ro.Model(\"whatever\")\n",
    "\n",
    "## define dv\n",
    "x = m1.dvar( (p,r), \"I\" )\n",
    "\n",
    "## Obj\n",
    "m1.min( sum( cost[i,j]* x[i,j] for i in range(p) for j in range(r) ) )\n",
    "\n",
    "## constraints\n",
    "m1.st( sum( x[i,j] for i in range(p) ) >= demand[j] for j in range(r) )\n",
    "m1.st( sum( x[i,j] for j in range(r) ) <= capacity[i] for i in range(p) )\n",
    "m1.st( x[i,j] >= 0 for i in range(p) for j in range(r) )\n",
    "\n",
    "## solve the model\n",
    "m1.solve(grb)\n",
    "\n",
    "## obtain the solutions\n",
    "print( \"Shipping amount is: \\n\", x.get() )\n",
    "print( \"The total cost is: \", m1.get() )\n"
   ]
  },
  {
   "cell_type": "markdown",
   "metadata": {},
   "source": [
    "### Matrix form"
   ]
  },
  {
   "cell_type": "code",
   "execution_count": 4,
   "metadata": {},
   "outputs": [
    {
     "name": "stdout",
     "output_type": "stream",
     "text": [
      "Being solved by Gurobi...\n",
      "Solution status: 2\n",
      "Running time: 0.0038s\n",
      "Shipping amount is: \n",
      " [[  -0.  700.    0. 1000.]\n",
      " [1700.  300.   -0.   -0.]\n",
      " [   0.   -0. 1500.  200.]]\n",
      "The total cost is:  28200.0\n"
     ]
    }
   ],
   "source": [
    "p,r = cost.shape\n",
    "## claim a model\n",
    "S01 = ro.Model(\"whatever\")\n",
    "\n",
    "## define dv\n",
    "x = S01.dvar( (p,r), \"I\" )\n",
    "\n",
    "## Obj\n",
    "S01.min( (cost * x).sum() )\n",
    "\n",
    "## constraints\n",
    "S01.st( x.sum(axis = 0) >= demand, \n",
    "       x.sum(axis = 1) <= capacity,\n",
    "       x >= 0 )\n",
    "\n",
    "## solve the model\n",
    "S01.solve(grb)\n",
    "\n",
    "## obtain the solutions\n",
    "print( \"Shipping amount is: \\n\", x.get() )\n",
    "print( \"The total cost is: \", S01.get() )\n"
   ]
  },
  {
   "cell_type": "markdown",
   "metadata": {},
   "source": [
    "# LP： Investment Stock\n",
    "\n",
    "* You purchased $s_i$ shares of stock $i$ at price $p_i, i = 1,…,n$\n",
    "* Current price of stock $i$ is $q_i$\n",
    "* You expect that the price of stock $i$ one year later will be $r_i$\n",
    "* You pay a capital gain tax at the rate of 30\\% on any capital gains at the time of sale\n",
    "* You want to raise $K$ amount of cash after taxes\n",
    "* You pay 1% in transaction costs\n",
    "* Example: You sell 1,000 shares at SGD 50 per share; you have bought them at SGD 30; Net Cash is,\n",
    "$$\n",
    "50 \\times 1000 - 0.3 \\times (50-30)\\times 1000 - 0.01\\times 50 \\times 1000 = 43,500 \n",
    "$$\n",
    "\n",
    "\n",
    "* Decision variables: $x_i$ the amount of share $i$ to sell\n",
    "\n",
    "* Objective: Maximize the expected return (next year)\n",
    "$$\n",
    "\\sum_{i=1}^{N}r_i(s_i-x_i)\n",
    "$$\n",
    "\n",
    "* Constraints: Able to raise the fund $K$.\n",
    "$$\n",
    "\\sum_{i=1}^{N}(q_i x_i - 0.3\\max(q_i-p_i,0)x_i-0.01x_iq_i) \\ge K\n",
    "$$\n",
    "\n",
    "\n",
    "The model is LP:\n",
    "\\begin{equation}\n",
    "\\begin{array}{ll}\n",
    "\\text{maximize} &  \\sum_{i=1}^{N}r_i(s_i-x_i)\\\\\n",
    "\\text{subject to} &  \\sum_{i=1}^{N}(q_i x_i - 0.3\\max(q_i-p_i,0)x_i-0.01x_iq_i) \\ge K\\\\\n",
    " & 0\\le x_i\\le s_i, \\forall i = 1,...,N\n",
    "\\end{array}\n",
    "\\end{equation}\n",
    "Default: K=9000\n",
    "\n",
    "The data is in the file \"data1.csv\""
   ]
  },
  {
   "cell_type": "code",
   "execution_count": 5,
   "metadata": {},
   "outputs": [
    {
     "name": "stdout",
     "output_type": "stream",
     "text": [
      "  Stock  Buying Price  Current Share  Current Price  Expected Future Price\n",
      "0    S1           1.2           1000            2.1                    2.0\n",
      "1    S2           2.1           1000            3.2                    3.7\n",
      "2    S3           3.2           1000            4.1                    5.2\n",
      "3    S4           4.1           1000            5.1                    7.1\n",
      "4    S5           4.5           1000            6.7                    9.1\n"
     ]
    }
   ],
   "source": [
    "data1 = pd.read_csv('data1.csv')\n",
    "print( data1 )"
   ]
  },
  {
   "cell_type": "code",
   "execution_count": 8,
   "metadata": {},
   "outputs": [],
   "source": [
    "# build model \n",
    "data1 = pd.read_csv('data1.csv')\n",
    "header = data1.columns\n",
    "data = data1.values\n",
    "stock_name, buy_price,cur_share, cur_price, exp_price  = data[:,0], data[:,1],data[:,2],data[:,3], data[:,4] \n",
    "\n",
    "# Amount to raise\n",
    "K = 9000\n",
    "\n",
    "# Transaction cost (in fraction)\n",
    "tCost = 0.01\n",
    "\n",
    "# Capital gain Tax (in fraction)\n",
    "capitalGainTax = 0.3\n",
    "\n",
    "# Number of different stocks\n",
    "n = len(data)"
   ]
  },
  {
   "cell_type": "code",
   "execution_count": 10,
   "metadata": {},
   "outputs": [
    {
     "name": "stdout",
     "output_type": "stream",
     "text": [
      "Being solved by Gurobi...\n",
      "Solution status: 2\n",
      "Running time: 0.0014s\n",
      "[1000.        1000.        1000.         118.7618446    0.       ]\n",
      "15356.790903348072\n"
     ]
    }
   ],
   "source": [
    "# Preparing an optimization model\n",
    "model = ro.Model('Stocks')\n",
    "\n",
    "# x[i]: Amount of stock i to sell\n",
    "x = model.dvar( n ) \n",
    "\n",
    "# Objective function\n",
    "model.max( sum((cur_share[i]-x[i])*exp_price[i] for i in range(n)) )\n",
    "#model.max((cur_share-x)@exp_price)\n",
    "\n",
    "\n",
    "# Setting Constraints\n",
    "model.st( x[i] <= cur_share[i] for i in range(n) ) #Ensures that short-selling does not occur\n",
    "model.st( sum(x[i]*cur_price[i]-x[i]*cur_price[i]*tCost-capitalGainTax*x[i]*max(cur_price[i]-buy_price[i],0) for i in range(n)) >= K )\n",
    "model.st( x >= 0 ) #Non-negative\n",
    "\n",
    "# Solve model\n",
    "model.solve( grb )\n",
    "\n",
    "print( x.get() )\n",
    "\n",
    "print( model.get() )"
   ]
  },
  {
   "cell_type": "code",
   "execution_count": 11,
   "metadata": {},
   "outputs": [],
   "source": [
    "# build model \n",
    "data1 = pd.read_csv('data1.csv')\n",
    "data = data1.values\n",
    "stock = data[:,0]\n",
    "# pay attention to the differences\n",
    "stock_name, buy_price,cur_share, cur_price, exp_price  = \\\n",
    "data[:,0], data[:,1].astype(np.float64),data[:,2].astype(np.float64),data[:,3].astype(np.float64), data[:,4].astype(np.float64) "
   ]
  },
  {
   "cell_type": "code",
   "execution_count": 12,
   "metadata": {},
   "outputs": [
    {
     "name": "stdout",
     "output_type": "stream",
     "text": [
      "Being solved by Gurobi...\n",
      "Solution status: 2\n",
      "Running time: 0.0010s\n",
      "[1000.        1000.        1000.         118.7618446    0.       ]\n",
      "15356.790903348072\n"
     ]
    }
   ],
   "source": [
    "K = 9000 # set target\n",
    "\n",
    "m1 = ro.Model(\"investlp\")\n",
    "sell = m1.dvar(len(stock))\n",
    "\n",
    "m1.max( exp_price @ (cur_share - sell) )\n",
    "\n",
    "m1.st( (sell @ cur_price - 0.3* sell @ np.maximum(cur_price - buy_price,0) - 0.01*sell @ cur_price).sum() >= K )\n",
    "m1.st( sell >= 0, sell <= cur_share )\n",
    "\n",
    "m1.solve( grb )\n",
    "\n",
    "print( sell.get() )\n",
    "\n",
    "print( m1.get() )"
   ]
  },
  {
   "cell_type": "markdown",
   "metadata": {},
   "source": [
    "## LP： InvestmentBonds\n",
    "* Invest amount \\$K on N bonds over T periods.\n",
    "* Cash earns a fixed return per year\n",
    "* Each bond pays an interest rate that compounds each year, and pays the principal plus compounded interest at the end of a maturity period. \n",
    "* Each bond has a maximum invest limit.\n",
    "* Goal is to maximize the final wealth. \n",
    "\n",
    "Examples: $K = \\$ 1$ M, N=4, T=5, Cash interest rate = 2%\n",
    "\n",
    "| Bond | Available Year | Maturity Period | Annual Interest Rate  | Limit   |\n",
    "|------|----------------|-----------------|-----------------------|---------|\n",
    "| B1   | 1              | 4               | 0.03                  | 1,000,000 |\n",
    "| B2   | 5              | 1               | 0.04                  | 200,000  |\n",
    "| B3   | 2              | 4               | 0.05                  | 500,000  |\n",
    "| B4   | 2              | 3               | 0.06                  | 200,000  |\n",
    "\n",
    "\n",
    "Let $y_t$ be cash investment at the beginning of the $t$th year and $x_i$ be the investment in the $i$th bound, we then have \n",
    "\n",
    "\\begin{align*}\n",
    "\\max \\ & 1.05 y_5 + 1.04 x_2 + 1.06^4 x_3 \\\\\n",
    "\\mbox{s.t.}\\ & y_1 + x_1 = 1,000,000 \\\\\n",
    "&y_2 + x_3 + x_4 = 1.02 y_1 \\\\\n",
    "&y_3 = 1.02 y_2 \\\\\n",
    "&y_4 = 1.02 y_3 \\\\\n",
    "&y_5 + x_2 = 1.02 y_4 + 1.03^4x_1 + 1.06^3 x_4\\\\\n",
    "&0 \\leq x_1 \\leq 1,000,000\\\\\n",
    "&0 \\leq x_2 \\leq 200,000\\\\\n",
    "0 \\leq x_3 \\leq 500,000\\\\\n",
    "0 \\leq x_4 \\leq 500,000\\\\\n",
    "\\end{align*}\n",
    "\n",
    "\n",
    "The data is in the file \"data2.csv\""
   ]
  },
  {
   "cell_type": "code",
   "execution_count": 11,
   "metadata": {},
   "outputs": [
    {
     "name": "stdout",
     "output_type": "stream",
     "text": [
      "  Bond  Available Year  Maturity Period  Annual Interest Rate     Limit\n",
      "0   B1               1                4                   0.03  1000000\n",
      "1   B2               5                1                   0.04   200000\n",
      "2   B3               2                4                   0.05   500000\n",
      "3   B4               2                3                   0.06   200000\n",
      "6\n"
     ]
    }
   ],
   "source": [
    "# Investment in bonds \n",
    "\n",
    "# Declaring Parameters\n",
    "capital = 1000000    # Investment capital\n",
    "cashRate = 0.02     # Cash Intereset rate\n",
    "cashRet = (1.0 + cashRate)  # Cash return\n",
    "\n",
    "# Read from data file \n",
    "data2 = pd.read_csv(\"data2.csv\")\n",
    "header = data2.columns\n",
    "data = data2.values\n",
    "print(data2)\n",
    "\n",
    "#  Extract data to variables and Calculate bond return\n",
    "bondName, bondStYear, bondDuration, bondRate, bondLimit = \\\n",
    "data[:,0], data[:,1],data[:,2],data[:,3], data[:,4]\n",
    "\n",
    "# Number of different bonds available\n",
    "n = len(bondName)\n",
    "\n",
    "# Number of years \n",
    "years = max(bondStYear + bondDuration)\n",
    "\n",
    "print(years)"
   ]
  },
  {
   "cell_type": "code",
   "execution_count": 12,
   "metadata": {},
   "outputs": [
    {
     "name": "stdout",
     "output_type": "stream",
     "text": [
      "Being solved by Gurobi...\n",
      "Solution status: 2\n",
      "Running time: 0.0030s\n",
      "[313725.49019608 200000.         500000.         200000.        ]\n",
      "[ 686274.50980392       0.               0.               0.\n",
      "  391304.00313725 1214883.2082    ]\n",
      "1214883.2082000002\n"
     ]
    }
   ],
   "source": [
    "# Preparing an optimization model\n",
    "model = ro.Model('Investment')\n",
    "\n",
    "# x[i]: Amount of bond i to buy\n",
    "x = model.dvar(n)\n",
    "\n",
    "# x[t]: Amount go to bank in year t\n",
    "y = model.dvar(years)\n",
    "\n",
    "# Setting objective\n",
    "model.max( 1*y[years-1] )\n",
    "\n",
    "# Setting constraints\n",
    "model.st( y[0] + sum( x[i] for i in range(n) if bondStYear[i] == 1 ) == capital )\n",
    "for t in range(1,years):\n",
    "    model.st( y[t] + sum(x[i] for i in range(n) if bondStYear[i] == t+1) == \\\n",
    "             cashRet*y[t-1] + sum(x[i]*((bondRate[i] + 1)**bondDuration[i]) \\\n",
    "                                for i in range(n) if (bondStYear[i] + bondDuration[i] == t+1)))\n",
    "model.st( x[i] <= bondLimit[i] for i in range(n) )\n",
    "model.st( x >= 0, y >= 0)\n",
    "\n",
    "# Solve model\n",
    "model.solve(grb)\n",
    "\n",
    "print(x.get())\n",
    "print(y.get())\n",
    "print(model.get())"
   ]
  }
 ],
 "metadata": {
  "kernelspec": {
   "display_name": "Python 3 (ipykernel)",
   "language": "python",
   "name": "python3"
  },
  "language_info": {
   "codemirror_mode": {
    "name": "ipython",
    "version": 3
   },
   "file_extension": ".py",
   "mimetype": "text/x-python",
   "name": "python",
   "nbconvert_exporter": "python",
   "pygments_lexer": "ipython3",
   "version": "3.7.11"
  }
 },
 "nbformat": 4,
 "nbformat_minor": 4
}
