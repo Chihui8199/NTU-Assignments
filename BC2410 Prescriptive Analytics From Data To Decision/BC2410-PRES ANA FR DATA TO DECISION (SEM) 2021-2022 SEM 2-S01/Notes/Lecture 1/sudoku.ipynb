{
 "cells": [
  {
   "cell_type": "markdown",
   "metadata": {},
   "source": [
    "## Sudoku Solver using RSOME"
   ]
  },
  {
   "cell_type": "code",
   "execution_count": 3,
   "metadata": {},
   "outputs": [],
   "source": [
    "import rsome as rso\n",
    "import numpy as np\n",
    "from rsome import ro\n",
    "from rsome import ort_solver as ort\n",
    "from rsome import grb_solver as grb\n",
    "from rsome import cvx_solver as cvx"
   ]
  },
  {
   "cell_type": "code",
   "execution_count": 31,
   "metadata": {},
   "outputs": [
    {
     "name": "stdout",
     "output_type": "stream",
     "text": [
      "Being solved by Gurobi...\n",
      "Solution status: 2\n",
      "Running time: 0.0010s\n"
     ]
    }
   ],
   "source": [
    "# Sudoku puzzle\n",
    "# zeros represent unknown numbers\n",
    "puzzle = np.array([[5, 3, 0, 0, 7, 0, 0, 0, 2],\n",
    "                   [6, 0, 0, 1, 9, 5, 0, 0, 0],\n",
    "                   [0, 9, 8, 0, 0, 0, 0, 6, 0],\n",
    "                   [8, 0, 0, 0, 6, 0, 0, 0, 3],\n",
    "                   [4, 0, 0, 8, 0, 3, 0, 0, 1],\n",
    "                   [7, 0, 0, 0, 2, 0, 0, 0, 6],\n",
    "                   [0, 6, 0, 0, 0, 0, 2, 8, 0],\n",
    "                   [0, 0, 0, 4, 1, 9, 0, 0, 5],\n",
    "                   [0, 0, 0, 0, 8, 0, 0, 7, 9]])\n",
    "\n",
    "# create model and binary decision variables\n",
    "model = ro.Model()\n",
    "x = model.dvar((9, 9, 9), vtype='B')\n",
    "\n",
    "# objective is set to be zero\n",
    "model.min(0 * x.sum())\n",
    "\n",
    "# constraints 1 to 3\n",
    "model.st(x.sum(axis=0) == 1,\n",
    "         x.sum(axis=1) == 1,\n",
    "         x.sum(axis=2) == 1)\n",
    "\n",
    "# constraints 4\n",
    "i, j = np.where(puzzle)\n",
    "model.st(x[i, j, puzzle[i, j]-1] == 1)\n",
    "\n",
    "# constraints 5\n",
    "for i in range(0, 9, 3):\n",
    "    for j in range(0, 9, 3):\n",
    "        model.st(x[i: i+3, j: j+3, :].sum(axis=(0, 1)) == 1)\n",
    "\n",
    "# solve the integer programming problem\n",
    "model.solve(grb)"
   ]
  },
  {
   "cell_type": "code",
   "execution_count": 32,
   "metadata": {},
   "outputs": [
    {
     "name": "stdout",
     "output_type": "stream",
     "text": [
      "[[5 3 4 6 7 8 9 1 2]\n",
      " [6 7 2 1 9 5 3 4 8]\n",
      " [1 9 8 3 4 2 5 6 7]\n",
      " [8 5 9 7 6 1 4 2 3]\n",
      " [4 2 6 8 5 3 7 9 1]\n",
      " [7 1 3 9 2 4 8 5 6]\n",
      " [9 6 1 5 3 7 2 8 4]\n",
      " [2 8 7 4 1 9 6 3 5]\n",
      " [3 4 5 2 8 6 1 7 9]]\n"
     ]
    }
   ],
   "source": [
    "x_sol = x.get().astype('int')   # retrieve the solution as an array of integers\n",
    "\n",
    "print((x_sol * np.arange(1, 10).reshape((1, 1, 9))).sum(axis=2))"
   ]
  },
  {
   "cell_type": "code",
   "execution_count": null,
   "metadata": {},
   "outputs": [],
   "source": []
  }
 ],
 "metadata": {
  "kernelspec": {
   "display_name": "Python 3",
   "language": "python",
   "name": "python3"
  },
  "language_info": {
   "codemirror_mode": {
    "name": "ipython",
    "version": 3
   },
   "file_extension": ".py",
   "mimetype": "text/x-python",
   "name": "python",
   "nbconvert_exporter": "python",
   "pygments_lexer": "ipython3",
   "version": "3.8.5"
  }
 },
 "nbformat": 4,
 "nbformat_minor": 5
}
