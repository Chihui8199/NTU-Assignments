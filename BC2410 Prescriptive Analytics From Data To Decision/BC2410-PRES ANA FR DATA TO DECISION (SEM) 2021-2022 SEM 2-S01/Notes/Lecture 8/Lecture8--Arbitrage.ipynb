{
 "cells": [
  {
   "cell_type": "markdown",
   "metadata": {},
   "source": [
    "# Arbitrage Detection in the Foreign Exchange Market"
   ]
  },
  {
   "cell_type": "markdown",
   "metadata": {},
   "source": [
    "The foreign exchange market includes the trading of currencies. It is one of the markets with largest trading volume. Given two currencies at any particular time, say the US dollar and the euro, there are two exchange rates between them: one dollar will buy $r_1$ euros, and one euro will buy $r_2$ dollars. It is evident that an arbitrage opportunity would arise if $r_1 r_2 > 1$ since one could simultaneously convert 1 dollar into $r_1$ euros and the $r_1$ euros into $r_1 r_2 > 1$ dollars. These two transactions would net $r_1 r_2 − 1$ dollars without any risk.\n",
    "\n",
    "An interesting related question is: Can one detect a similar type of arbitrage opportunity involving more than two currencies? In particular, consider the following hypothetical exchange rates among the currencies USD (US Dollars), EUR (Euros), GBP (British Pounds), AUD (Australian Dollars), and JPY (Japanese Yen).\n",
    "\n",
    "|     | USD     | EUR     | GBP     | AUD     | JPY     |\n",
    "| --- | ------- | ------- | ------- | ------- | ------- |\n",
    "| USD | 1       | 0.639   | 0.537   | 1.0835  | 98.89   |\n",
    "| EUR | 1.564   | 1       | 0.843   | 1.6958  | 154.773 |\n",
    "| GBP | 1.856   | 1.186   | 1       | 2.014   | 184.122 |\n",
    "| AUD | 0.9223  | 0.589   | 0.496   | 1       | 91.263  |\n",
    "| JPY | 0.01011 | 0.00645 | 0.00543 | 0.01095 | 1       |\n",
    "\n",
    "A simple veriﬁcation shows that there are no arbitrage opportunities involving only two currencies. However, could there be one involving more than two currencies? Could you simply eyeball such an opportunity? If you cannot, can you prove that such an opportunity does not exist?"
   ]
  },
  {
   "cell_type": "code",
   "execution_count": null,
   "metadata": {},
   "outputs": [],
   "source": []
  },
  {
   "cell_type": "code",
   "execution_count": null,
   "metadata": {},
   "outputs": [],
   "source": []
  },
  {
   "cell_type": "markdown",
   "metadata": {},
   "source": [
    "## Real-time currency rate"
   ]
  },
  {
   "cell_type": "code",
   "execution_count": null,
   "metadata": {},
   "outputs": [],
   "source": [
    "from forex_python.converter import CurrencyRates                    \n",
    "\n",
    "Currency = ['USD', 'EUR', 'SGD','CNY','JPY','AUD','INR','GBP','NZD','HKD', 'MYR']\n",
    "CR_fun = CurrencyRates()   \n",
    "N = len(Currency)\n",
    "CR = np.zeros( (N,N) )\n",
    "\n",
    "for n in range(N):\n",
    "    for m in range(N):\n",
    "        CR[n,m] = CR_fun.get_rate(Currency[n], Currency[m])\n",
    "        \n",
    "print( CR )"
   ]
  },
  {
   "cell_type": "markdown",
   "metadata": {},
   "source": [
    "Can you use the model you developped to detect whether there exists arbitrage opportunity for the real-time exchange rate? "
   ]
  },
  {
   "cell_type": "code",
   "execution_count": null,
   "metadata": {},
   "outputs": [],
   "source": []
  },
  {
   "cell_type": "code",
   "execution_count": null,
   "metadata": {},
   "outputs": [],
   "source": []
  },
  {
   "cell_type": "markdown",
   "metadata": {},
   "source": [
    "## Currency exchange\n",
    "\n",
    "Suppose that there are $ N $ available currencies, and assume that one unit of currency $ i $ can be exchanged for $ r_{ij} $ units of currency $ j $. (Naturally, we assume that $ r_{ij} > 0 $.) There are also certain regulations that impose a limit $ u_i $ on the total amount of currency $ i $ that can be exchanged on any given day. Suppose that we start with $ B $ units of currency $ 1 $ and that we would like to maximize the number of units of currency $ N $ that we end up with at the end of the day, through a sequence of currency transactions. Provide a linear programming formulation of this problem. Assume that for any sequence $ i_1,\\cdots,i_k $ of currencies, we have $ r_{i_1i_2}r_{i_2i_3}\\dots r_{i_{k-1}i_k}r_{i_ki_1} \\leq 1 $, which means that wealth cannot be multiplied by going through a cycle of currencies.\n",
    "\n",
    "We introduce decision variables $ x_{ij} $ for each combination of $ i = 1,2,\\cdots,N $ and $ j = 1,2,\\cdots,N $ to denote the amount of currency $i$ exchanged for currency $j$.\n",
    "\t\t\n",
    "The first class of constraints follows from the fact that there are no profitable cycles of currencies. Therefore, there is no reason to exchange currency from $N$ to any other currency, or exchange from other currency to $1$. Therefore, we can set $ x_{Ni} = 0, i = 1,2,\\cdots,N $ and $ x_{i1} = 0, i = 1,2,\\cdots,N $.\n",
    "\t\t\n",
    "The second class of constraints models that for each currency $i$, the amount that can be exchanged is limited by $u_i$, hence\n",
    "\t\t$$\n",
    "\t\t\\sum_{j=1}^N x_{ij} \\leq u_i, \\quad i = 1,2,\\cdots,N.\n",
    "\t\t$$\n",
    "\t\t\n",
    "The third class of constraints models that we cannot exchange more currency from $i$ to other currencies than we exchanged to $i$ before. We have\n",
    "\t\t$$\n",
    "\t\t\\sum_{j=1}^N r_{ji}x_{ji} \\geq \\sum_{k=1}^N x_{ik}, \\quad i = 2,\\cdots,N.\n",
    "\t\t$$\n",
    "\t\t\n",
    "The forth constraint models that the amount of currency we can exchange from $1$ to other currencies is naturally upper bounded by $B$\n",
    "\t\t$$\n",
    "\t\t\\sum_{j=1}^N x_{1j} \\leq B\n",
    "\t\t$$\n",
    "\t\t\n",
    "Finally, the amount of currency $N$ is given by\n",
    "\t\t$$\n",
    "\t\t\\sum_{j=1}^N r_{jN}x_{jN},\n",
    "\t\t$$\n",
    "which is the objective we wish to maximize.\n",
    "\t\t\n",
    "In summary, we get the following linear programming for this problem\n",
    "\\begin{align}\n",
    "\t\\max \\quad & \\sum_{j=1}^N r_{jN}x_{jN} \\\\\n",
    "\t\\text{s.t.} \\quad\n",
    "\t& \\sum_{j=1}^N x_{ij} \\leq u_i, \\quad & i = 1,2,\\cdots,N \\\\\n",
    "\t& \\sum_{j=1}^N r_{ji}x_{ji} \\geq \\sum_{k=1}^N x_{ik}, \\quad & i = 2,\\cdots,N \\\\\n",
    "\t& \\sum_{j=1}^N x_{1j} \\leq B \\\\\n",
    "\t& x_{Ni} = 0,  x_{i1} = 0, \\quad & i = 1,2,\\cdots,N  \\\\\n",
    "\t& x_{ij} \\geq 0, \\quad & i = 1,2,\\cdots,N, j = 1,2,\\cdots,N \\\\\n",
    "\\end{align}\n",
    "\n",
    "Now suppose you have 100,000 USD, and the exchange limit is given as"
   ]
  },
  {
   "cell_type": "code",
   "execution_count": null,
   "metadata": {},
   "outputs": [],
   "source": [
    "import numpy as np\n",
    "N = len( CR )\n",
    "u = np.random.uniform( 5000, 15000, N)"
   ]
  },
  {
   "cell_type": "markdown",
   "metadata": {},
   "source": [
    "can you obtain the maximum MYR that you can exchange? "
   ]
  },
  {
   "cell_type": "code",
   "execution_count": null,
   "metadata": {},
   "outputs": [],
   "source": []
  },
  {
   "cell_type": "code",
   "execution_count": null,
   "metadata": {},
   "outputs": [],
   "source": []
  }
 ],
 "metadata": {
  "kernelspec": {
   "display_name": "Python 3",
   "language": "python",
   "name": "python3"
  },
  "language_info": {
   "codemirror_mode": {
    "name": "ipython",
    "version": 3
   },
   "file_extension": ".py",
   "mimetype": "text/x-python",
   "name": "python",
   "nbconvert_exporter": "python",
   "pygments_lexer": "ipython3",
   "version": "3.8.5"
  }
 },
 "nbformat": 4,
 "nbformat_minor": 4
}
