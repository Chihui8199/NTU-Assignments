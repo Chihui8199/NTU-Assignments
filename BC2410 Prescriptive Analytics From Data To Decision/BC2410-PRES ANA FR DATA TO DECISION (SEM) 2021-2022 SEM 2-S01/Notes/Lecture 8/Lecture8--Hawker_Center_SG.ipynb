{
 "cells": [
  {
   "cell_type": "markdown",
   "metadata": {},
   "source": [
    "# Milk Delivery for Hawker Centers in Singapore\n",
    "\n",
    "Jack is a driver of ABC Milk Company. He is assigned to deliver fresh milk for 20 hawker centers each morning.  Suppose he can visit each center only once, could you help Jack to design a rounte with least amount of time (distance)?\n",
    "\n",
    "The geolocation data of the hawker centers are imported as follows:"
   ]
  },
  {
   "cell_type": "code",
   "execution_count": 1,
   "metadata": {},
   "outputs": [],
   "source": [
    "import pandas as pd\n",
    "import numpy as np\n",
    "import mpu\n",
    "import pickle\n",
    "import folium\n",
    "import random\n",
    "from folium.plugins import BeautifyIcon\n",
    "\n",
    "import openrouteservice as ors\n",
    "from rsome import ro\n",
    "from rsome import grb_solver as grb"
   ]
  },
  {
   "cell_type": "code",
   "execution_count": 2,
   "metadata": {
    "scrolled": true
   },
   "outputs": [],
   "source": [
    "## Import the geolocation data of all the hawker centres\n",
    "data = pd.read_csv('hawker_centres_kml.csv')\n",
    "# print(data.head(5))"
   ]
  },
  {
   "cell_type": "code",
   "execution_count": 3,
   "metadata": {
    "scrolled": false
   },
   "outputs": [
    {
     "data": {
      "text/html": [
       "<div style=\"width:100%;\"><div style=\"position:relative;width:100%;height:0;padding-bottom:60%;\"><span style=\"color:#565656\">Make this Notebook Trusted to load map: File -> Trust Notebook</span><iframe src=\"about:blank\" style=\"position:absolute;width:100%;height:100%;left:0;top:0;border:none !important;\" data-html=%3C%21DOCTYPE%20html%3E%0A%3Chead%3E%20%20%20%20%0A%20%20%20%20%3Cmeta%20http-equiv%3D%22content-type%22%20content%3D%22text/html%3B%20charset%3DUTF-8%22%20/%3E%0A%20%20%20%20%0A%20%20%20%20%20%20%20%20%3Cscript%3E%0A%20%20%20%20%20%20%20%20%20%20%20%20L_NO_TOUCH%20%3D%20false%3B%0A%20%20%20%20%20%20%20%20%20%20%20%20L_DISABLE_3D%20%3D%20false%3B%0A%20%20%20%20%20%20%20%20%3C/script%3E%0A%20%20%20%20%0A%20%20%20%20%3Cstyle%3Ehtml%2C%20body%20%7Bwidth%3A%20100%25%3Bheight%3A%20100%25%3Bmargin%3A%200%3Bpadding%3A%200%3B%7D%3C/style%3E%0A%20%20%20%20%3Cstyle%3E%23map%20%7Bposition%3Aabsolute%3Btop%3A0%3Bbottom%3A0%3Bright%3A0%3Bleft%3A0%3B%7D%3C/style%3E%0A%20%20%20%20%3Cscript%20src%3D%22https%3A//cdn.jsdelivr.net/npm/leaflet%401.6.0/dist/leaflet.js%22%3E%3C/script%3E%0A%20%20%20%20%3Cscript%20src%3D%22https%3A//code.jquery.com/jquery-1.12.4.min.js%22%3E%3C/script%3E%0A%20%20%20%20%3Cscript%20src%3D%22https%3A//maxcdn.bootstrapcdn.com/bootstrap/3.2.0/js/bootstrap.min.js%22%3E%3C/script%3E%0A%20%20%20%20%3Cscript%20src%3D%22https%3A//cdnjs.cloudflare.com/ajax/libs/Leaflet.awesome-markers/2.0.2/leaflet.awesome-markers.js%22%3E%3C/script%3E%0A%20%20%20%20%3Clink%20rel%3D%22stylesheet%22%20href%3D%22https%3A//cdn.jsdelivr.net/npm/leaflet%401.6.0/dist/leaflet.css%22/%3E%0A%20%20%20%20%3Clink%20rel%3D%22stylesheet%22%20href%3D%22https%3A//maxcdn.bootstrapcdn.com/bootstrap/3.2.0/css/bootstrap.min.css%22/%3E%0A%20%20%20%20%3Clink%20rel%3D%22stylesheet%22%20href%3D%22https%3A//maxcdn.bootstrapcdn.com/bootstrap/3.2.0/css/bootstrap-theme.min.css%22/%3E%0A%20%20%20%20%3Clink%20rel%3D%22stylesheet%22%20href%3D%22https%3A//maxcdn.bootstrapcdn.com/font-awesome/4.6.3/css/font-awesome.min.css%22/%3E%0A%20%20%20%20%3Clink%20rel%3D%22stylesheet%22%20href%3D%22https%3A//cdnjs.cloudflare.com/ajax/libs/Leaflet.awesome-markers/2.0.2/leaflet.awesome-markers.css%22/%3E%0A%20%20%20%20%3Clink%20rel%3D%22stylesheet%22%20href%3D%22https%3A//cdn.jsdelivr.net/gh/python-visualization/folium/folium/templates/leaflet.awesome.rotate.min.css%22/%3E%0A%20%20%20%20%0A%20%20%20%20%20%20%20%20%20%20%20%20%3Cmeta%20name%3D%22viewport%22%20content%3D%22width%3Ddevice-width%2C%0A%20%20%20%20%20%20%20%20%20%20%20%20%20%20%20%20initial-scale%3D1.0%2C%20maximum-scale%3D1.0%2C%20user-scalable%3Dno%22%20/%3E%0A%20%20%20%20%20%20%20%20%20%20%20%20%3Cstyle%3E%0A%20%20%20%20%20%20%20%20%20%20%20%20%20%20%20%20%23map_fca0791013434432947e10f8d405c2dc%20%7B%0A%20%20%20%20%20%20%20%20%20%20%20%20%20%20%20%20%20%20%20%20position%3A%20relative%3B%0A%20%20%20%20%20%20%20%20%20%20%20%20%20%20%20%20%20%20%20%20width%3A%20100.0%25%3B%0A%20%20%20%20%20%20%20%20%20%20%20%20%20%20%20%20%20%20%20%20height%3A%20100.0%25%3B%0A%20%20%20%20%20%20%20%20%20%20%20%20%20%20%20%20%20%20%20%20left%3A%200.0%25%3B%0A%20%20%20%20%20%20%20%20%20%20%20%20%20%20%20%20%20%20%20%20top%3A%200.0%25%3B%0A%20%20%20%20%20%20%20%20%20%20%20%20%20%20%20%20%7D%0A%20%20%20%20%20%20%20%20%20%20%20%20%3C/style%3E%0A%20%20%20%20%20%20%20%20%0A%20%20%20%20%3Cscript%20src%3D%22https%3A//cdn.jsdelivr.net/gh/marslan390/BeautifyMarker/leaflet-beautify-marker-icon.min.js%22%3E%3C/script%3E%0A%20%20%20%20%3Clink%20rel%3D%22stylesheet%22%20href%3D%22https%3A//cdn.jsdelivr.net/gh/marslan390/BeautifyMarker/leaflet-beautify-marker-icon.min.css%22/%3E%0A%3C/head%3E%0A%3Cbody%3E%20%20%20%20%0A%20%20%20%20%0A%20%20%20%20%20%20%20%20%20%20%20%20%3Cdiv%20class%3D%22folium-map%22%20id%3D%22map_fca0791013434432947e10f8d405c2dc%22%20%3E%3C/div%3E%0A%20%20%20%20%20%20%20%20%0A%3C/body%3E%0A%3Cscript%3E%20%20%20%20%0A%20%20%20%20%0A%20%20%20%20%20%20%20%20%20%20%20%20var%20map_fca0791013434432947e10f8d405c2dc%20%3D%20L.map%28%0A%20%20%20%20%20%20%20%20%20%20%20%20%20%20%20%20%22map_fca0791013434432947e10f8d405c2dc%22%2C%0A%20%20%20%20%20%20%20%20%20%20%20%20%20%20%20%20%7B%0A%20%20%20%20%20%20%20%20%20%20%20%20%20%20%20%20%20%20%20%20center%3A%20%5B1.37238494%2C%20103.8289942%5D%2C%0A%20%20%20%20%20%20%20%20%20%20%20%20%20%20%20%20%20%20%20%20crs%3A%20L.CRS.EPSG3857%2C%0A%20%20%20%20%20%20%20%20%20%20%20%20%20%20%20%20%20%20%20%20zoom%3A%2011%2C%0A%20%20%20%20%20%20%20%20%20%20%20%20%20%20%20%20%20%20%20%20zoomControl%3A%20true%2C%0A%20%20%20%20%20%20%20%20%20%20%20%20%20%20%20%20%20%20%20%20preferCanvas%3A%20false%2C%0A%20%20%20%20%20%20%20%20%20%20%20%20%20%20%20%20%7D%0A%20%20%20%20%20%20%20%20%20%20%20%20%29%3B%0A%0A%20%20%20%20%20%20%20%20%20%20%20%20%0A%0A%20%20%20%20%20%20%20%20%0A%20%20%20%20%0A%20%20%20%20%20%20%20%20%20%20%20%20var%20tile_layer_b4601d2d3cb040adaa610a26922f6811%20%3D%20L.tileLayer%28%0A%20%20%20%20%20%20%20%20%20%20%20%20%20%20%20%20%22https%3A//stamen-tiles-%7Bs%7D.a.ssl.fastly.net/terrain/%7Bz%7D/%7Bx%7D/%7By%7D.jpg%22%2C%0A%20%20%20%20%20%20%20%20%20%20%20%20%20%20%20%20%7B%22attribution%22%3A%20%22Map%20tiles%20by%20%5Cu003ca%20href%3D%5C%22http%3A//stamen.com%5C%22%5Cu003eStamen%20Design%5Cu003c/a%5Cu003e%2C%20under%20%5Cu003ca%20href%3D%5C%22http%3A//creativecommons.org/licenses/by/3.0%5C%22%5Cu003eCC%20BY%203.0%5Cu003c/a%5Cu003e.%20Data%20by%20%5Cu0026copy%3B%20%5Cu003ca%20href%3D%5C%22http%3A//openstreetmap.org%5C%22%5Cu003eOpenStreetMap%5Cu003c/a%5Cu003e%2C%20under%20%5Cu003ca%20href%3D%5C%22http%3A//creativecommons.org/licenses/by-sa/3.0%5C%22%5Cu003eCC%20BY%20SA%5Cu003c/a%5Cu003e.%22%2C%20%22detectRetina%22%3A%20false%2C%20%22maxNativeZoom%22%3A%2018%2C%20%22maxZoom%22%3A%2018%2C%20%22minZoom%22%3A%200%2C%20%22noWrap%22%3A%20false%2C%20%22opacity%22%3A%201%2C%20%22subdomains%22%3A%20%22abc%22%2C%20%22tms%22%3A%20false%7D%0A%20%20%20%20%20%20%20%20%20%20%20%20%29.addTo%28map_fca0791013434432947e10f8d405c2dc%29%3B%0A%20%20%20%20%20%20%20%20%0A%20%20%20%20%0A%20%20%20%20%20%20%20%20%20%20%20%20var%20marker_abc42507ce0f4d619c7b3d9faccfc8dd%20%3D%20L.marker%28%0A%20%20%20%20%20%20%20%20%20%20%20%20%20%20%20%20%5B1.331987069%2C%20103.9387326%5D%2C%0A%20%20%20%20%20%20%20%20%20%20%20%20%20%20%20%20%7B%7D%0A%20%20%20%20%20%20%20%20%20%20%20%20%29.addTo%28map_fca0791013434432947e10f8d405c2dc%29%3B%0A%20%20%20%20%20%20%20%20%0A%20%20%20%20%0A%20%20%20%20%20%20%20%20%20%20%20%20var%20beautify_icon_5d42f718de524c648bd25b78e9b4fdac%20%3D%20new%20L.BeautifyIcon.icon%28%0A%20%20%20%20%20%20%20%20%20%20%20%20%20%20%20%20%7B%22backgroundColor%22%3A%20%22%23FFF%22%2C%20%22borderColor%22%3A%20%22%23000%22%2C%20%22borderWidth%22%3A%203%2C%20%22iconShape%22%3A%20%22marker%22%2C%20%22innerIconStyle%22%3A%20%22font-size%3A12px%3Bpadding-top%3A-5px%3B%22%2C%20%22isAlphaNumericIcon%22%3A%20true%2C%20%22spin%22%3A%20true%2C%20%22text%22%3A%201%2C%20%22textColor%22%3A%20%22red%22%7D%0A%20%20%20%20%20%20%20%20%20%20%20%20%29%0A%20%20%20%20%20%20%20%20%20%20%20%20marker_abc42507ce0f4d619c7b3d9faccfc8dd.setIcon%28beautify_icon_5d42f718de524c648bd25b78e9b4fdac%29%3B%0A%20%20%20%20%20%20%20%20%0A%20%20%20%20%0A%20%20%20%20%20%20%20%20%20%20%20%20var%20marker_0ea626cb17744c89a5f275fe9e882825%20%3D%20L.marker%28%0A%20%20%20%20%20%20%20%20%20%20%20%20%20%20%20%20%5B1.287330767%2C%20103.8183389%5D%2C%0A%20%20%20%20%20%20%20%20%20%20%20%20%20%20%20%20%7B%7D%0A%20%20%20%20%20%20%20%20%20%20%20%20%29.addTo%28map_fca0791013434432947e10f8d405c2dc%29%3B%0A%20%20%20%20%20%20%20%20%0A%20%20%20%20%0A%20%20%20%20%20%20%20%20%20%20%20%20var%20beautify_icon_bca917e0cce44b489460803d0450150e%20%3D%20new%20L.BeautifyIcon.icon%28%0A%20%20%20%20%20%20%20%20%20%20%20%20%20%20%20%20%7B%22backgroundColor%22%3A%20%22%23FFF%22%2C%20%22borderColor%22%3A%20%22%23000%22%2C%20%22borderWidth%22%3A%203%2C%20%22iconShape%22%3A%20%22marker%22%2C%20%22innerIconStyle%22%3A%20%22font-size%3A12px%3Bpadding-top%3A-5px%3B%22%2C%20%22isAlphaNumericIcon%22%3A%20true%2C%20%22spin%22%3A%20true%2C%20%22text%22%3A%202%2C%20%22textColor%22%3A%20%22red%22%7D%0A%20%20%20%20%20%20%20%20%20%20%20%20%29%0A%20%20%20%20%20%20%20%20%20%20%20%20marker_0ea626cb17744c89a5f275fe9e882825.setIcon%28beautify_icon_bca917e0cce44b489460803d0450150e%29%3B%0A%20%20%20%20%20%20%20%20%0A%20%20%20%20%0A%20%20%20%20%20%20%20%20%20%20%20%20var%20marker_c77e5768762140adafb917ba838f75ac%20%3D%20L.marker%28%0A%20%20%20%20%20%20%20%20%20%20%20%20%20%20%20%20%5B1.37238494%2C%20103.8289942%5D%2C%0A%20%20%20%20%20%20%20%20%20%20%20%20%20%20%20%20%7B%7D%0A%20%20%20%20%20%20%20%20%20%20%20%20%29.addTo%28map_fca0791013434432947e10f8d405c2dc%29%3B%0A%20%20%20%20%20%20%20%20%0A%20%20%20%20%0A%20%20%20%20%20%20%20%20%20%20%20%20var%20beautify_icon_6be544f95bda4a528c2e81d6162f4842%20%3D%20new%20L.BeautifyIcon.icon%28%0A%20%20%20%20%20%20%20%20%20%20%20%20%20%20%20%20%7B%22backgroundColor%22%3A%20%22%23FFF%22%2C%20%22borderColor%22%3A%20%22%23000%22%2C%20%22borderWidth%22%3A%203%2C%20%22iconShape%22%3A%20%22marker%22%2C%20%22innerIconStyle%22%3A%20%22font-size%3A12px%3Bpadding-top%3A-5px%3B%22%2C%20%22isAlphaNumericIcon%22%3A%20true%2C%20%22spin%22%3A%20true%2C%20%22text%22%3A%203%2C%20%22textColor%22%3A%20%22red%22%7D%0A%20%20%20%20%20%20%20%20%20%20%20%20%29%0A%20%20%20%20%20%20%20%20%20%20%20%20marker_c77e5768762140adafb917ba838f75ac.setIcon%28beautify_icon_6be544f95bda4a528c2e81d6162f4842%29%3B%0A%20%20%20%20%20%20%20%20%0A%20%20%20%20%0A%20%20%20%20%20%20%20%20%20%20%20%20var%20marker_dfdfe8f5a4994d129d5f84c8bace063a%20%3D%20L.marker%28%0A%20%20%20%20%20%20%20%20%20%20%20%20%20%20%20%20%5B1.36315712%2C%20103.8667375%5D%2C%0A%20%20%20%20%20%20%20%20%20%20%20%20%20%20%20%20%7B%7D%0A%20%20%20%20%20%20%20%20%20%20%20%20%29.addTo%28map_fca0791013434432947e10f8d405c2dc%29%3B%0A%20%20%20%20%20%20%20%20%0A%20%20%20%20%0A%20%20%20%20%20%20%20%20%20%20%20%20var%20beautify_icon_b4e640f48f164a63a9813b83634837a6%20%3D%20new%20L.BeautifyIcon.icon%28%0A%20%20%20%20%20%20%20%20%20%20%20%20%20%20%20%20%7B%22backgroundColor%22%3A%20%22%23FFF%22%2C%20%22borderColor%22%3A%20%22%23000%22%2C%20%22borderWidth%22%3A%203%2C%20%22iconShape%22%3A%20%22marker%22%2C%20%22innerIconStyle%22%3A%20%22font-size%3A12px%3Bpadding-top%3A-5px%3B%22%2C%20%22isAlphaNumericIcon%22%3A%20true%2C%20%22spin%22%3A%20true%2C%20%22text%22%3A%204%2C%20%22textColor%22%3A%20%22red%22%7D%0A%20%20%20%20%20%20%20%20%20%20%20%20%29%0A%20%20%20%20%20%20%20%20%20%20%20%20marker_dfdfe8f5a4994d129d5f84c8bace063a.setIcon%28beautify_icon_b4e640f48f164a63a9813b83634837a6%29%3B%0A%20%20%20%20%20%20%20%20%0A%20%20%20%20%0A%20%20%20%20%20%20%20%20%20%20%20%20var%20marker_2a7afc9be06b4f23bba2bee6327cc3c5%20%3D%20L.marker%28%0A%20%20%20%20%20%20%20%20%20%20%20%20%20%20%20%20%5B1.352007442%2C%20103.8370318%5D%2C%0A%20%20%20%20%20%20%20%20%20%20%20%20%20%20%20%20%7B%7D%0A%20%20%20%20%20%20%20%20%20%20%20%20%29.addTo%28map_fca0791013434432947e10f8d405c2dc%29%3B%0A%20%20%20%20%20%20%20%20%0A%20%20%20%20%0A%20%20%20%20%20%20%20%20%20%20%20%20var%20beautify_icon_93ca69262e144372b3c13437f654d8f5%20%3D%20new%20L.BeautifyIcon.icon%28%0A%20%20%20%20%20%20%20%20%20%20%20%20%20%20%20%20%7B%22backgroundColor%22%3A%20%22%23FFF%22%2C%20%22borderColor%22%3A%20%22%23000%22%2C%20%22borderWidth%22%3A%203%2C%20%22iconShape%22%3A%20%22marker%22%2C%20%22innerIconStyle%22%3A%20%22font-size%3A12px%3Bpadding-top%3A-5px%3B%22%2C%20%22isAlphaNumericIcon%22%3A%20true%2C%20%22spin%22%3A%20true%2C%20%22text%22%3A%205%2C%20%22textColor%22%3A%20%22red%22%7D%0A%20%20%20%20%20%20%20%20%20%20%20%20%29%0A%20%20%20%20%20%20%20%20%20%20%20%20marker_2a7afc9be06b4f23bba2bee6327cc3c5.setIcon%28beautify_icon_93ca69262e144372b3c13437f654d8f5%29%3B%0A%20%20%20%20%20%20%20%20%0A%20%20%20%20%0A%20%20%20%20%20%20%20%20%20%20%20%20var%20marker_f2e89c172d874df7acc8d5d658ed8681%20%3D%20L.marker%28%0A%20%20%20%20%20%20%20%20%20%20%20%20%20%20%20%20%5B1.317083351%2C%20103.879417%5D%2C%0A%20%20%20%20%20%20%20%20%20%20%20%20%20%20%20%20%7B%7D%0A%20%20%20%20%20%20%20%20%20%20%20%20%29.addTo%28map_fca0791013434432947e10f8d405c2dc%29%3B%0A%20%20%20%20%20%20%20%20%0A%20%20%20%20%0A%20%20%20%20%20%20%20%20%20%20%20%20var%20beautify_icon_f21334ef9f594bda87c05d80382786d0%20%3D%20new%20L.BeautifyIcon.icon%28%0A%20%20%20%20%20%20%20%20%20%20%20%20%20%20%20%20%7B%22backgroundColor%22%3A%20%22%23FFF%22%2C%20%22borderColor%22%3A%20%22%23000%22%2C%20%22borderWidth%22%3A%203%2C%20%22iconShape%22%3A%20%22marker%22%2C%20%22innerIconStyle%22%3A%20%22font-size%3A12px%3Bpadding-top%3A-5px%3B%22%2C%20%22isAlphaNumericIcon%22%3A%20true%2C%20%22spin%22%3A%20true%2C%20%22text%22%3A%206%2C%20%22textColor%22%3A%20%22red%22%7D%0A%20%20%20%20%20%20%20%20%20%20%20%20%29%0A%20%20%20%20%20%20%20%20%20%20%20%20marker_f2e89c172d874df7acc8d5d658ed8681.setIcon%28beautify_icon_f21334ef9f594bda87c05d80382786d0%29%3B%0A%20%20%20%20%20%20%20%20%0A%20%20%20%20%0A%20%20%20%20%20%20%20%20%20%20%20%20var%20marker_3d9a18a086234a3989305273b660ed33%20%3D%20L.marker%28%0A%20%20%20%20%20%20%20%20%20%20%20%20%20%20%20%20%5B1.282235148%2C%20103.8431776%5D%2C%0A%20%20%20%20%20%20%20%20%20%20%20%20%20%20%20%20%7B%7D%0A%20%20%20%20%20%20%20%20%20%20%20%20%29.addTo%28map_fca0791013434432947e10f8d405c2dc%29%3B%0A%20%20%20%20%20%20%20%20%0A%20%20%20%20%0A%20%20%20%20%20%20%20%20%20%20%20%20var%20beautify_icon_9da3fd4b53cc4937a5fcdafa54218124%20%3D%20new%20L.BeautifyIcon.icon%28%0A%20%20%20%20%20%20%20%20%20%20%20%20%20%20%20%20%7B%22backgroundColor%22%3A%20%22%23FFF%22%2C%20%22borderColor%22%3A%20%22%23000%22%2C%20%22borderWidth%22%3A%203%2C%20%22iconShape%22%3A%20%22marker%22%2C%20%22innerIconStyle%22%3A%20%22font-size%3A12px%3Bpadding-top%3A-5px%3B%22%2C%20%22isAlphaNumericIcon%22%3A%20true%2C%20%22spin%22%3A%20true%2C%20%22text%22%3A%207%2C%20%22textColor%22%3A%20%22red%22%7D%0A%20%20%20%20%20%20%20%20%20%20%20%20%29%0A%20%20%20%20%20%20%20%20%20%20%20%20marker_3d9a18a086234a3989305273b660ed33.setIcon%28beautify_icon_9da3fd4b53cc4937a5fcdafa54218124%29%3B%0A%20%20%20%20%20%20%20%20%0A%20%20%20%20%0A%20%20%20%20%20%20%20%20%20%20%20%20var%20marker_4ac5e991d75c446799ab818e51cc9fc4%20%3D%20L.marker%28%0A%20%20%20%20%20%20%20%20%20%20%20%20%20%20%20%20%5B1.33458936%2C%20103.7215199%5D%2C%0A%20%20%20%20%20%20%20%20%20%20%20%20%20%20%20%20%7B%7D%0A%20%20%20%20%20%20%20%20%20%20%20%20%29.addTo%28map_fca0791013434432947e10f8d405c2dc%29%3B%0A%20%20%20%20%20%20%20%20%0A%20%20%20%20%0A%20%20%20%20%20%20%20%20%20%20%20%20var%20beautify_icon_e1e5e6d9ae994a3299a76fe1b062f7c0%20%3D%20new%20L.BeautifyIcon.icon%28%0A%20%20%20%20%20%20%20%20%20%20%20%20%20%20%20%20%7B%22backgroundColor%22%3A%20%22%23FFF%22%2C%20%22borderColor%22%3A%20%22%23000%22%2C%20%22borderWidth%22%3A%203%2C%20%22iconShape%22%3A%20%22marker%22%2C%20%22innerIconStyle%22%3A%20%22font-size%3A12px%3Bpadding-top%3A-5px%3B%22%2C%20%22isAlphaNumericIcon%22%3A%20true%2C%20%22spin%22%3A%20true%2C%20%22text%22%3A%208%2C%20%22textColor%22%3A%20%22red%22%7D%0A%20%20%20%20%20%20%20%20%20%20%20%20%29%0A%20%20%20%20%20%20%20%20%20%20%20%20marker_4ac5e991d75c446799ab818e51cc9fc4.setIcon%28beautify_icon_e1e5e6d9ae994a3299a76fe1b062f7c0%29%3B%0A%20%20%20%20%20%20%20%20%0A%20%20%20%20%0A%20%20%20%20%20%20%20%20%20%20%20%20var%20marker_4d36b83ecc614d5ea5927b1c15419d51%20%3D%20L.marker%28%0A%20%20%20%20%20%20%20%20%20%20%20%20%20%20%20%20%5B1.345639521%2C%20103.9446245%5D%2C%0A%20%20%20%20%20%20%20%20%20%20%20%20%20%20%20%20%7B%7D%0A%20%20%20%20%20%20%20%20%20%20%20%20%29.addTo%28map_fca0791013434432947e10f8d405c2dc%29%3B%0A%20%20%20%20%20%20%20%20%0A%20%20%20%20%0A%20%20%20%20%20%20%20%20%20%20%20%20var%20beautify_icon_d061516f75d04d1681753bb2987c1718%20%3D%20new%20L.BeautifyIcon.icon%28%0A%20%20%20%20%20%20%20%20%20%20%20%20%20%20%20%20%7B%22backgroundColor%22%3A%20%22%23FFF%22%2C%20%22borderColor%22%3A%20%22%23000%22%2C%20%22borderWidth%22%3A%203%2C%20%22iconShape%22%3A%20%22marker%22%2C%20%22innerIconStyle%22%3A%20%22font-size%3A12px%3Bpadding-top%3A-5px%3B%22%2C%20%22isAlphaNumericIcon%22%3A%20true%2C%20%22spin%22%3A%20true%2C%20%22text%22%3A%209%2C%20%22textColor%22%3A%20%22red%22%7D%0A%20%20%20%20%20%20%20%20%20%20%20%20%29%0A%20%20%20%20%20%20%20%20%20%20%20%20marker_4d36b83ecc614d5ea5927b1c15419d51.setIcon%28beautify_icon_d061516f75d04d1681753bb2987c1718%29%3B%0A%20%20%20%20%20%20%20%20%0A%20%20%20%20%0A%20%20%20%20%20%20%20%20%20%20%20%20var%20marker_c96f73ebf2134d2ca4f589b1955a90e6%20%3D%20L.marker%28%0A%20%20%20%20%20%20%20%20%20%20%20%20%20%20%20%20%5B1.300789315%2C%20103.7976258%5D%2C%0A%20%20%20%20%20%20%20%20%20%20%20%20%20%20%20%20%7B%7D%0A%20%20%20%20%20%20%20%20%20%20%20%20%29.addTo%28map_fca0791013434432947e10f8d405c2dc%29%3B%0A%20%20%20%20%20%20%20%20%0A%20%20%20%20%0A%20%20%20%20%20%20%20%20%20%20%20%20var%20beautify_icon_186cb46f5b6a496b9a7ac683871258a9%20%3D%20new%20L.BeautifyIcon.icon%28%0A%20%20%20%20%20%20%20%20%20%20%20%20%20%20%20%20%7B%22backgroundColor%22%3A%20%22%23FFF%22%2C%20%22borderColor%22%3A%20%22%23000%22%2C%20%22borderWidth%22%3A%203%2C%20%22iconShape%22%3A%20%22marker%22%2C%20%22innerIconStyle%22%3A%20%22font-size%3A12px%3Bpadding-top%3A-5px%3B%22%2C%20%22isAlphaNumericIcon%22%3A%20true%2C%20%22spin%22%3A%20true%2C%20%22text%22%3A%2010%2C%20%22textColor%22%3A%20%22red%22%7D%0A%20%20%20%20%20%20%20%20%20%20%20%20%29%0A%20%20%20%20%20%20%20%20%20%20%20%20marker_c96f73ebf2134d2ca4f589b1955a90e6.setIcon%28beautify_icon_186cb46f5b6a496b9a7ac683871258a9%29%3B%0A%20%20%20%20%20%20%20%20%0A%20%20%20%20%0A%20%20%20%20%20%20%20%20%20%20%20%20var%20marker_11528771a1c34f89b2a25788217e8070%20%3D%20L.marker%28%0A%20%20%20%20%20%20%20%20%20%20%20%20%20%20%20%20%5B1.276614611%2C%20103.843167%5D%2C%0A%20%20%20%20%20%20%20%20%20%20%20%20%20%20%20%20%7B%7D%0A%20%20%20%20%20%20%20%20%20%20%20%20%29.addTo%28map_fca0791013434432947e10f8d405c2dc%29%3B%0A%20%20%20%20%20%20%20%20%0A%20%20%20%20%0A%20%20%20%20%20%20%20%20%20%20%20%20var%20beautify_icon_3bde8dd32fb047b695297559cdf1ecef%20%3D%20new%20L.BeautifyIcon.icon%28%0A%20%20%20%20%20%20%20%20%20%20%20%20%20%20%20%20%7B%22backgroundColor%22%3A%20%22%23FFF%22%2C%20%22borderColor%22%3A%20%22%23000%22%2C%20%22borderWidth%22%3A%203%2C%20%22iconShape%22%3A%20%22marker%22%2C%20%22innerIconStyle%22%3A%20%22font-size%3A12px%3Bpadding-top%3A-5px%3B%22%2C%20%22isAlphaNumericIcon%22%3A%20true%2C%20%22spin%22%3A%20true%2C%20%22text%22%3A%2011%2C%20%22textColor%22%3A%20%22red%22%7D%0A%20%20%20%20%20%20%20%20%20%20%20%20%29%0A%20%20%20%20%20%20%20%20%20%20%20%20marker_11528771a1c34f89b2a25788217e8070.setIcon%28beautify_icon_3bde8dd32fb047b695297559cdf1ecef%29%3B%0A%20%20%20%20%20%20%20%20%0A%20%20%20%20%0A%20%20%20%20%20%20%20%20%20%20%20%20var%20marker_ae57b762ff0f4eba9de7ad6ed8d01121%20%3D%20L.marker%28%0A%20%20%20%20%20%20%20%20%20%20%20%20%20%20%20%20%5B1.32084835%2C%20103.7428916%5D%2C%0A%20%20%20%20%20%20%20%20%20%20%20%20%20%20%20%20%7B%7D%0A%20%20%20%20%20%20%20%20%20%20%20%20%29.addTo%28map_fca0791013434432947e10f8d405c2dc%29%3B%0A%20%20%20%20%20%20%20%20%0A%20%20%20%20%0A%20%20%20%20%20%20%20%20%20%20%20%20var%20beautify_icon_dbb436cf74b8412398e3e35f481b28e9%20%3D%20new%20L.BeautifyIcon.icon%28%0A%20%20%20%20%20%20%20%20%20%20%20%20%20%20%20%20%7B%22backgroundColor%22%3A%20%22%23FFF%22%2C%20%22borderColor%22%3A%20%22%23000%22%2C%20%22borderWidth%22%3A%203%2C%20%22iconShape%22%3A%20%22marker%22%2C%20%22innerIconStyle%22%3A%20%22font-size%3A12px%3Bpadding-top%3A-5px%3B%22%2C%20%22isAlphaNumericIcon%22%3A%20true%2C%20%22spin%22%3A%20true%2C%20%22text%22%3A%2012%2C%20%22textColor%22%3A%20%22red%22%7D%0A%20%20%20%20%20%20%20%20%20%20%20%20%29%0A%20%20%20%20%20%20%20%20%20%20%20%20marker_ae57b762ff0f4eba9de7ad6ed8d01121.setIcon%28beautify_icon_dbb436cf74b8412398e3e35f481b28e9%29%3B%0A%20%20%20%20%20%20%20%20%0A%20%20%20%20%0A%20%20%20%20%20%20%20%20%20%20%20%20var%20marker_49209b6542f84966b0d0266cf6d90e0e%20%3D%20L.marker%28%0A%20%20%20%20%20%20%20%20%20%20%20%20%20%20%20%20%5B1.277366838%2C%20103.8186417%5D%2C%0A%20%20%20%20%20%20%20%20%20%20%20%20%20%20%20%20%7B%7D%0A%20%20%20%20%20%20%20%20%20%20%20%20%29.addTo%28map_fca0791013434432947e10f8d405c2dc%29%3B%0A%20%20%20%20%20%20%20%20%0A%20%20%20%20%0A%20%20%20%20%20%20%20%20%20%20%20%20var%20beautify_icon_d6f30d2790ee4731be37d3204439b7d5%20%3D%20new%20L.BeautifyIcon.icon%28%0A%20%20%20%20%20%20%20%20%20%20%20%20%20%20%20%20%7B%22backgroundColor%22%3A%20%22%23FFF%22%2C%20%22borderColor%22%3A%20%22%23000%22%2C%20%22borderWidth%22%3A%203%2C%20%22iconShape%22%3A%20%22marker%22%2C%20%22innerIconStyle%22%3A%20%22font-size%3A12px%3Bpadding-top%3A-5px%3B%22%2C%20%22isAlphaNumericIcon%22%3A%20true%2C%20%22spin%22%3A%20true%2C%20%22text%22%3A%2013%2C%20%22textColor%22%3A%20%22red%22%7D%0A%20%20%20%20%20%20%20%20%20%20%20%20%29%0A%20%20%20%20%20%20%20%20%20%20%20%20marker_49209b6542f84966b0d0266cf6d90e0e.setIcon%28beautify_icon_d6f30d2790ee4731be37d3204439b7d5%29%3B%0A%20%20%20%20%20%20%20%20%0A%20%20%20%20%0A%20%20%20%20%20%20%20%20%20%20%20%20var%20marker_2d04f90aa05144feb3cb7fcad3b5c883%20%3D%20L.marker%28%0A%20%20%20%20%20%20%20%20%20%20%20%20%20%20%20%20%5B1.273368283%2C%20103.8076268%5D%2C%0A%20%20%20%20%20%20%20%20%20%20%20%20%20%20%20%20%7B%7D%0A%20%20%20%20%20%20%20%20%20%20%20%20%29.addTo%28map_fca0791013434432947e10f8d405c2dc%29%3B%0A%20%20%20%20%20%20%20%20%0A%20%20%20%20%0A%20%20%20%20%20%20%20%20%20%20%20%20var%20beautify_icon_51b687ad295c49bb998270d314751d3a%20%3D%20new%20L.BeautifyIcon.icon%28%0A%20%20%20%20%20%20%20%20%20%20%20%20%20%20%20%20%7B%22backgroundColor%22%3A%20%22%23FFF%22%2C%20%22borderColor%22%3A%20%22%23000%22%2C%20%22borderWidth%22%3A%203%2C%20%22iconShape%22%3A%20%22marker%22%2C%20%22innerIconStyle%22%3A%20%22font-size%3A12px%3Bpadding-top%3A-5px%3B%22%2C%20%22isAlphaNumericIcon%22%3A%20true%2C%20%22spin%22%3A%20true%2C%20%22text%22%3A%2014%2C%20%22textColor%22%3A%20%22red%22%7D%0A%20%20%20%20%20%20%20%20%20%20%20%20%29%0A%20%20%20%20%20%20%20%20%20%20%20%20marker_2d04f90aa05144feb3cb7fcad3b5c883.setIcon%28beautify_icon_51b687ad295c49bb998270d314751d3a%29%3B%0A%20%20%20%20%20%20%20%20%0A%20%20%20%20%0A%20%20%20%20%20%20%20%20%20%20%20%20var%20marker_961a837e7ccb4faaba3cd345d9705d66%20%3D%20L.marker%28%0A%20%20%20%20%20%20%20%20%20%20%20%20%20%20%20%20%5B1.273913799%2C%20103.8079436%5D%2C%0A%20%20%20%20%20%20%20%20%20%20%20%20%20%20%20%20%7B%7D%0A%20%20%20%20%20%20%20%20%20%20%20%20%29.addTo%28map_fca0791013434432947e10f8d405c2dc%29%3B%0A%20%20%20%20%20%20%20%20%0A%20%20%20%20%0A%20%20%20%20%20%20%20%20%20%20%20%20var%20beautify_icon_cb39e470f769440089ee7ed6eceaab51%20%3D%20new%20L.BeautifyIcon.icon%28%0A%20%20%20%20%20%20%20%20%20%20%20%20%20%20%20%20%7B%22backgroundColor%22%3A%20%22%23FFF%22%2C%20%22borderColor%22%3A%20%22%23000%22%2C%20%22borderWidth%22%3A%203%2C%20%22iconShape%22%3A%20%22marker%22%2C%20%22innerIconStyle%22%3A%20%22font-size%3A12px%3Bpadding-top%3A-5px%3B%22%2C%20%22isAlphaNumericIcon%22%3A%20true%2C%20%22spin%22%3A%20true%2C%20%22text%22%3A%2015%2C%20%22textColor%22%3A%20%22red%22%7D%0A%20%20%20%20%20%20%20%20%20%20%20%20%29%0A%20%20%20%20%20%20%20%20%20%20%20%20marker_961a837e7ccb4faaba3cd345d9705d66.setIcon%28beautify_icon_cb39e470f769440089ee7ed6eceaab51%29%3B%0A%20%20%20%20%20%20%20%20%0A%20%20%20%20%0A%20%20%20%20%20%20%20%20%20%20%20%20var%20marker_eff718fb614a48b499e31e304b86c405%20%3D%20L.marker%28%0A%20%20%20%20%20%20%20%20%20%20%20%20%20%20%20%20%5B1.272715797%2C%20103.8221173%5D%2C%0A%20%20%20%20%20%20%20%20%20%20%20%20%20%20%20%20%7B%7D%0A%20%20%20%20%20%20%20%20%20%20%20%20%29.addTo%28map_fca0791013434432947e10f8d405c2dc%29%3B%0A%20%20%20%20%20%20%20%20%0A%20%20%20%20%0A%20%20%20%20%20%20%20%20%20%20%20%20var%20beautify_icon_298deb03ad3f4cb0b5c796e57eaa11f2%20%3D%20new%20L.BeautifyIcon.icon%28%0A%20%20%20%20%20%20%20%20%20%20%20%20%20%20%20%20%7B%22backgroundColor%22%3A%20%22%23FFF%22%2C%20%22borderColor%22%3A%20%22%23000%22%2C%20%22borderWidth%22%3A%203%2C%20%22iconShape%22%3A%20%22marker%22%2C%20%22innerIconStyle%22%3A%20%22font-size%3A12px%3Bpadding-top%3A-5px%3B%22%2C%20%22isAlphaNumericIcon%22%3A%20true%2C%20%22spin%22%3A%20true%2C%20%22text%22%3A%2016%2C%20%22textColor%22%3A%20%22red%22%7D%0A%20%20%20%20%20%20%20%20%20%20%20%20%29%0A%20%20%20%20%20%20%20%20%20%20%20%20marker_eff718fb614a48b499e31e304b86c405.setIcon%28beautify_icon_298deb03ad3f4cb0b5c796e57eaa11f2%29%3B%0A%20%20%20%20%20%20%20%20%0A%20%20%20%20%0A%20%20%20%20%20%20%20%20%20%20%20%20var%20marker_aefeda1999eb4527a2cbbef14ccac4b3%20%3D%20L.marker%28%0A%20%20%20%20%20%20%20%20%20%20%20%20%20%20%20%20%5B1.285088258%2C%20103.8323488%5D%2C%0A%20%20%20%20%20%20%20%20%20%20%20%20%20%20%20%20%7B%7D%0A%20%20%20%20%20%20%20%20%20%20%20%20%29.addTo%28map_fca0791013434432947e10f8d405c2dc%29%3B%0A%20%20%20%20%20%20%20%20%0A%20%20%20%20%0A%20%20%20%20%20%20%20%20%20%20%20%20var%20beautify_icon_ea341abd655546aeb2389db27e6b1bfc%20%3D%20new%20L.BeautifyIcon.icon%28%0A%20%20%20%20%20%20%20%20%20%20%20%20%20%20%20%20%7B%22backgroundColor%22%3A%20%22%23FFF%22%2C%20%22borderColor%22%3A%20%22%23000%22%2C%20%22borderWidth%22%3A%203%2C%20%22iconShape%22%3A%20%22marker%22%2C%20%22innerIconStyle%22%3A%20%22font-size%3A12px%3Bpadding-top%3A-5px%3B%22%2C%20%22isAlphaNumericIcon%22%3A%20true%2C%20%22spin%22%3A%20true%2C%20%22text%22%3A%2017%2C%20%22textColor%22%3A%20%22red%22%7D%0A%20%20%20%20%20%20%20%20%20%20%20%20%29%0A%20%20%20%20%20%20%20%20%20%20%20%20marker_aefeda1999eb4527a2cbbef14ccac4b3.setIcon%28beautify_icon_ea341abd655546aeb2389db27e6b1bfc%29%3B%0A%20%20%20%20%20%20%20%20%0A%20%20%20%20%0A%20%20%20%20%20%20%20%20%20%20%20%20var%20marker_47ed480745a749b2951c8e15d1a6904f%20%3D%20L.marker%28%0A%20%20%20%20%20%20%20%20%20%20%20%20%20%20%20%20%5B1.338092686%2C%20103.8447316%5D%2C%0A%20%20%20%20%20%20%20%20%20%20%20%20%20%20%20%20%7B%7D%0A%20%20%20%20%20%20%20%20%20%20%20%20%29.addTo%28map_fca0791013434432947e10f8d405c2dc%29%3B%0A%20%20%20%20%20%20%20%20%0A%20%20%20%20%0A%20%20%20%20%20%20%20%20%20%20%20%20var%20beautify_icon_e8acb678097445c0b65085cc923fa93c%20%3D%20new%20L.BeautifyIcon.icon%28%0A%20%20%20%20%20%20%20%20%20%20%20%20%20%20%20%20%7B%22backgroundColor%22%3A%20%22%23FFF%22%2C%20%22borderColor%22%3A%20%22%23000%22%2C%20%22borderWidth%22%3A%203%2C%20%22iconShape%22%3A%20%22marker%22%2C%20%22innerIconStyle%22%3A%20%22font-size%3A12px%3Bpadding-top%3A-5px%3B%22%2C%20%22isAlphaNumericIcon%22%3A%20true%2C%20%22spin%22%3A%20true%2C%20%22text%22%3A%2018%2C%20%22textColor%22%3A%20%22red%22%7D%0A%20%20%20%20%20%20%20%20%20%20%20%20%29%0A%20%20%20%20%20%20%20%20%20%20%20%20marker_47ed480745a749b2951c8e15d1a6904f.setIcon%28beautify_icon_e8acb678097445c0b65085cc923fa93c%29%3B%0A%20%20%20%20%20%20%20%20%0A%20%20%20%20%0A%20%20%20%20%20%20%20%20%20%20%20%20var%20marker_cd75a00f10494e56951aeae740b59a13%20%3D%20L.marker%28%0A%20%20%20%20%20%20%20%20%20%20%20%20%20%20%20%20%5B1.334548165%2C%20103.8519991%5D%2C%0A%20%20%20%20%20%20%20%20%20%20%20%20%20%20%20%20%7B%7D%0A%20%20%20%20%20%20%20%20%20%20%20%20%29.addTo%28map_fca0791013434432947e10f8d405c2dc%29%3B%0A%20%20%20%20%20%20%20%20%0A%20%20%20%20%0A%20%20%20%20%20%20%20%20%20%20%20%20var%20beautify_icon_a442992ed08a413287915c4332fe929b%20%3D%20new%20L.BeautifyIcon.icon%28%0A%20%20%20%20%20%20%20%20%20%20%20%20%20%20%20%20%7B%22backgroundColor%22%3A%20%22%23FFF%22%2C%20%22borderColor%22%3A%20%22%23000%22%2C%20%22borderWidth%22%3A%203%2C%20%22iconShape%22%3A%20%22marker%22%2C%20%22innerIconStyle%22%3A%20%22font-size%3A12px%3Bpadding-top%3A-5px%3B%22%2C%20%22isAlphaNumericIcon%22%3A%20true%2C%20%22spin%22%3A%20true%2C%20%22text%22%3A%2019%2C%20%22textColor%22%3A%20%22red%22%7D%0A%20%20%20%20%20%20%20%20%20%20%20%20%29%0A%20%20%20%20%20%20%20%20%20%20%20%20marker_cd75a00f10494e56951aeae740b59a13.setIcon%28beautify_icon_a442992ed08a413287915c4332fe929b%29%3B%0A%20%20%20%20%20%20%20%20%0A%20%20%20%20%0A%20%20%20%20%20%20%20%20%20%20%20%20var%20marker_4dce29494850438b97febfc013e3d780%20%3D%20L.marker%28%0A%20%20%20%20%20%20%20%20%20%20%20%20%20%20%20%20%5B1.338474752%2C%20103.8495135%5D%2C%0A%20%20%20%20%20%20%20%20%20%20%20%20%20%20%20%20%7B%7D%0A%20%20%20%20%20%20%20%20%20%20%20%20%29.addTo%28map_fca0791013434432947e10f8d405c2dc%29%3B%0A%20%20%20%20%20%20%20%20%0A%20%20%20%20%0A%20%20%20%20%20%20%20%20%20%20%20%20var%20beautify_icon_5b4b0dc5b85b49e7a241c5398dee21f7%20%3D%20new%20L.BeautifyIcon.icon%28%0A%20%20%20%20%20%20%20%20%20%20%20%20%20%20%20%20%7B%22backgroundColor%22%3A%20%22%23FFF%22%2C%20%22borderColor%22%3A%20%22%23000%22%2C%20%22borderWidth%22%3A%203%2C%20%22iconShape%22%3A%20%22marker%22%2C%20%22innerIconStyle%22%3A%20%22font-size%3A12px%3Bpadding-top%3A-5px%3B%22%2C%20%22isAlphaNumericIcon%22%3A%20true%2C%20%22spin%22%3A%20true%2C%20%22text%22%3A%2020%2C%20%22textColor%22%3A%20%22red%22%7D%0A%20%20%20%20%20%20%20%20%20%20%20%20%29%0A%20%20%20%20%20%20%20%20%20%20%20%20marker_4dce29494850438b97febfc013e3d780.setIcon%28beautify_icon_5b4b0dc5b85b49e7a241c5398dee21f7%29%3B%0A%20%20%20%20%20%20%20%20%0A%3C/script%3E onload=\"this.contentDocument.open();this.contentDocument.write(    decodeURIComponent(this.getAttribute('data-html')));this.contentDocument.close();\" allowfullscreen webkitallowfullscreen mozallowfullscreen></iframe></div></div>"
      ],
      "text/plain": [
       "<folium.folium.Map at 0x14cf0f636a0>"
      ]
     },
     "execution_count": 3,
     "metadata": {},
     "output_type": "execute_result"
    }
   ],
   "source": [
    "lon = data['X']\n",
    "lat = data['Y']\n",
    "\n",
    "N = 20\n",
    "lon = [lon[i] for i in range(N)]\n",
    "lat = [lat[i] for i in range(N)]\n",
    "\n",
    "\n",
    "## plot the locations in singapore map\n",
    "# https://livecodestream.dev/post/how-to-plot-your-data-on-maps-using-python-and-folium/\n",
    "SGmap = folium.Map(location=[lat[2], lon[2]], tiles=\"Stamen Terrain\", zoom_start=11) #Stamen Terrain, OpenStreetMap\n",
    "for i in range(N):\n",
    "    folium.Marker(\n",
    "        location=[lat[i], lon[i]],\n",
    "        icon=BeautifyIcon(\n",
    "            icon_shape='marker',\n",
    "            number=int(i + 1),\n",
    "            spin=True,\n",
    "            text_color='red',\n",
    "            background_color=\"#FFF\",\n",
    "            inner_icon_style=\"font-size:12px;padding-top:-5px;\"\n",
    "        )\n",
    "    ).add_to(SGmap)\n",
    "SGmap"
   ]
  },
  {
   "cell_type": "markdown",
   "metadata": {},
   "source": [
    "You searched online and realized that this exactly the traveling salesman problem, which can be solved by using the MTZ formulation. \n",
    "\n",
    "**(Miller–Tucker–Zemlin formulation)** Label the centres with the numbers $1,\\ldots,N$ and define:\n",
    "$$\n",
    "x_{ij} = \\begin{cases} \n",
    "1 & \\text{the path goes from centre } i \\text{ to centre } j \\\\ \n",
    "0 & \\text{otherwise} \n",
    "\\end{cases}\n",
    "$$\n",
    "\n",
    "For $i=1,\\ldots,N$, let $u_i$ be a dummy variable, and finally take $d_{ij} > 0$ to be the distance from centre $i$ to centre $j$. Then TSP can be written as the following integer linear programming problem:\n",
    "$$\n",
    "\\begin{align}\n",
    "\\min &\\sum_{i=1}^n \\sum_{j=1}^n d_{ij}x_{ij}\\colon &&  \\\\\n",
    "     & \\sum_{i=1}^N x_{ij} = 1 && j=1, \\ldots, N; \\\\\n",
    "     & \\sum_{j=1}^N x_{ij} = 1 && i=1, \\ldots, N; \\\\\n",
    "     & u_i-u_j +Nx_{ij} \\le N-1 && 2 \\le i \\ne j \\le N;  \\\\\n",
    "     & 1 \\le u_i \\le N-1 && 2 \\le i \\le N; \\\\\n",
    "     & u_{i} \\in \\mathbf{Z} && i=2, \\ldots, N; \\\\\n",
    "     & x_{ij} \\in \\{0,1\\}  && i,j=1, \\ldots, N; \\\\\n",
    "     & x_{ii} = 0  && i= 1, \\ldots, N; \\\\\n",
    "\\end{align}\n",
    "$$\n",
    "\n",
    "With the coding experience from Prescriptive Analytics, you believe that you can solve this problem using RSOME.\n",
    "\n",
    "Tips: \n",
    "1. Distance matrix can be approximately obtained via the `haversine_distance` method of `mpu` package\n",
    "2. You can save your results directly to \"pickle\" files using `pickle` package\n",
    "3. After obtaining the optimal solution \"x_star\", you can use `argwhere` function to find the route\n",
    "4. You can plot the route on the map by using `folium.PolyLine` method"
   ]
  },
  {
   "cell_type": "code",
   "execution_count": null,
   "metadata": {},
   "outputs": [],
   "source": []
  },
  {
   "cell_type": "code",
   "execution_count": null,
   "metadata": {},
   "outputs": [],
   "source": []
  },
  {
   "cell_type": "code",
   "execution_count": null,
   "metadata": {},
   "outputs": [],
   "source": []
  },
  {
   "cell_type": "markdown",
   "metadata": {},
   "source": [
    "### Some issues with the solution:\n",
    "\n",
    "1. Distance is an approximation;\n",
    "\n",
    "2. Routes are not on the real roads.\n",
    "\n",
    "You can use `openrouteservice` to estimate the distance matrix and also use this package to draw the real routes for the example.\n",
    "\n",
    "To use `openrouteservice`, you need to sign up in https://openrouteservice.org/dev/#/signup and request an API Key. "
   ]
  },
  {
   "cell_type": "code",
   "execution_count": null,
   "metadata": {},
   "outputs": [],
   "source": []
  },
  {
   "cell_type": "code",
   "execution_count": null,
   "metadata": {},
   "outputs": [],
   "source": []
  },
  {
   "cell_type": "markdown",
   "metadata": {},
   "source": [
    "With the real distance and solution, you can show the route on the map by using the `client.directions` method"
   ]
  },
  {
   "cell_type": "code",
   "execution_count": null,
   "metadata": {
    "scrolled": false
   },
   "outputs": [],
   "source": []
  },
  {
   "cell_type": "markdown",
   "metadata": {},
   "source": [
    "### Extend it to a vehicle routing problem (optional)\n",
    "\n",
    "**Due to vehicle capacity constraints, Jack can only deliver milk to some of the centers each time. To put it another way, Jack must deliver at least two times. Could you assist Jack in planning the two routes for each day? Assume that Jack can only visit each center once.**\n",
    "\n",
    "Let $\\mathcal{V} = \\{0, 1,2,\\ldots, N\\}$. The formulation of the TSP can be extended to create the two index vehicle flow formulations for the VRP\n",
    "\n",
    "$$ \n",
    "\\begin{align}\n",
    "\\min & \\sum_{i\\in \\mathcal{V}}\\sum_{j \\in \\mathcal{V}}c_{ij}x_{ij}\\\\\n",
    "\\mbox{s.t.} & \\sum_{i \\in \\mathcal{V}}x_{ij}=1 \\quad && \\forall j \\in \\mathcal{V}\\backslash \\left \\{ 0 \\right \\} \\\\\n",
    "&\\sum_{j \\in \\mathcal{V}}x_{ij}=1 \\quad && \\forall i \\in \\mathcal{V}\\backslash \\left \\{ 0 \\right \\}\\\\\n",
    "&\\sum_{i \\in \\mathcal{V}}x_{i0}=K&& \\\\\n",
    "&\\sum_{j \\in \\mathcal{V}}x_{0j}=K&& \\\\\n",
    "&u_j-u_i\\geq d_j-C(1-x_{ij}) && \\forall i,j \\in V\\backslash\\{0\\}, i\\neq j~~~~\\text{s.t. } d_i +d_j \\leq C\\\\\n",
    "&0 \\leq u_i \\leq C-d_i && \\forall i \\in V\\backslash \\{0\\}\\\\\n",
    "&x_{ij}\\in \\{0,1\\} \\quad && \\forall i,j \\in \\mathcal{V}\\\\\n",
    "&x_{ii} = 0 && \\forall i \\in \\mathcal{V}\n",
    "\\end{align}\n",
    "$$\n",
    "\n",
    "In this formulation $c_{ij}$ represents the cost of going from node $i$ to node $j$, $x_{ij}$ is a binary variable that has value $1$ if the arc going from $i$ to $j$ is considered as part of the solution and $0$ otherwise, $K$ is the number of available vehicles. We are also assuming that $0$ is the depot node.\n",
    "\n",
    "The first and second constraints state that exactly one arc enters and exactly one leaves each vertex associated with a customer, respectively. The third and fourth  say that the number of vehicles leaving the depot is the same as the number entering. The fifth and sixth constraints are the capacity cut constraints, which impose that the routes must be connected and that the demand on each route must not exceed the vehicle capacity. Finally, the sixth constraints are the integrality constraints and the last constraints ensure that no arc for each node.\n",
    "\n",
    "The fifth and sixth constraints are known as the MTZ constraints, they were first proposed for the TSP and subsequently extended by Christofides, Mingozzi and Toth\n",
    "$$\n",
    "u_j-u_i\\geq d_j-C(1-x_{ij}) ~~~~~~\\forall i,j \\in V\\backslash\\{0\\}, i\\neq j~~~~\\text{s.t. } d_i +d_j \\leq C\n",
    "$$\n",
    "and\n",
    "$$\n",
    "0 \\leq u_i \\leq C-d_i ~~~~~~\\forall i \\in V\\backslash \\{0\\}\n",
    "$$\n",
    "where $ u_i,~i \\in V \\backslash \\{0\\} $ is an additional continuous variable which represents the load left in the vehicle '''after''' visiting customer $i$ and $d_i$ is the demand of customer $i$. These impose both the connectivity and the capacity requirements. When $x_{ij}=0$ constraint then $i$ is not binding' since $u_i\\leq C$ and $u_j\\geq d_j$ whereas $x_{ij} = 1$ they impose that $u_j \\geq u_i +d_j$.\n"
   ]
  },
  {
   "cell_type": "code",
   "execution_count": null,
   "metadata": {},
   "outputs": [],
   "source": []
  },
  {
   "cell_type": "code",
   "execution_count": null,
   "metadata": {},
   "outputs": [],
   "source": []
  },
  {
   "cell_type": "code",
   "execution_count": null,
   "metadata": {},
   "outputs": [],
   "source": []
  }
 ],
 "metadata": {
  "kernelspec": {
   "display_name": "Python 3",
   "language": "python",
   "name": "python3"
  },
  "language_info": {
   "codemirror_mode": {
    "name": "ipython",
    "version": 3
   },
   "file_extension": ".py",
   "mimetype": "text/x-python",
   "name": "python",
   "nbconvert_exporter": "python",
   "pygments_lexer": "ipython3",
   "version": "3.8.5"
  }
 },
 "nbformat": 4,
 "nbformat_minor": 4
}
