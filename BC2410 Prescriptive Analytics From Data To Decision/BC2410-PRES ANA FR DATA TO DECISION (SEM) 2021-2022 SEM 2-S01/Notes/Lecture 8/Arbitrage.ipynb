{
 "cells": [
  {
   "cell_type": "markdown",
   "metadata": {},
   "source": [
    "# Arbitrage Detection in the Foreign Exchange Market"
   ]
  },
  {
   "cell_type": "code",
   "execution_count": 1,
   "metadata": {},
   "outputs": [],
   "source": [
    "import pandas as pd\n",
    "import numpy as np\n",
    "from rsome import ro\n",
    "from rsome import grb_solver as grb"
   ]
  },
  {
   "cell_type": "markdown",
   "metadata": {},
   "source": [
    "The foreign exchange market includes the trading of currencies. It is one of the markets with largest trading volume. Given two currencies at any particular time, say the US dollar and the euro, there are two exchange rates between them: one dollar will buy $r_1$ euros, and one euro will buy $r_2$ dollars. It is evident that an arbitrage opportunity would arise if $r_1 r_2 > 1$ since one could simultaneously convert 1 dollar into $r_1$ euros and the $r_1$ euros into $r_1 r_2 > 1$ dollars. These two transactions would net $r_1 r_2 − 1$ dollars without any risk.\n",
    "\n",
    "An interesting related question is: Can one detect a similar type of arbitrage opportunity involving more than two currencies? In particular, consider the following hypothetical exchange rates among the currencies USD (US Dollars), EUR (Euros), GBP (British Pounds), AUD (Australian Dollars), and JPY (Japanese Yen).\n",
    "\n",
    "|     | USD     | EUR     | GBP     | AUD     | JPY     |\n",
    "| --- | ------- | ------- | ------- | ------- | ------- |\n",
    "| USD | 1       | 0.639   | 0.537   | 1.0835  | 98.89   |\n",
    "| EUR | 1.564   | 1       | 0.843   | 1.6958  | 154.773 |\n",
    "| GBP | 1.856   | 1.186   | 1       | 2.014   | 184.122 |\n",
    "| AUD | 0.9223  | 0.589   | 0.496   | 1       | 91.263  |\n",
    "| JPY | 0.01011 | 0.00645 | 0.00543 | 0.01095 | 1       |\n",
    "\n",
    "A simple veriﬁcation shows that there are no arbitrage opportunities involving only two currencies. However, could there be one involving more than two currencies? Could you simply eyeball such an opportunity? If you cannot, can you prove that such an opportunity does not exist?\n",
    "\n",
    "**Solution**\n",
    "For convenience, use $i = 1,..., 5$ to index the above ﬁve currencies USD, EUR, GBP, AUD, and JPY in that order. We let $a_{ij}$ denote the exchange rate from currency $i$ to currency $j$. For instance $a_{34} = 2.014$ and $a_{25} = 154.773$. To model a set of transactions with potential for arbitrage, consider the following decision variables:\n",
    "\n",
    "**Decision variables**\n",
    "* $x_{ij}$: amount of currency $i$ converted to currency $j$.\n",
    "* $y_k$: net amount of currency $k$ after all transactions.\n",
    "\n",
    "**Objective**\n",
    "$$\n",
    "\\max \\sum_{i = 1}^5 y_i\n",
    "$$\n",
    "\n",
    "**Constraints**\n",
    "$$\n",
    "y_k = \\sum_{i = 1}^5 a_{ik}x_{ik} - \\sum_{j = 1}^5 x_{kj}\n",
    "$$\n",
    "\n",
    "$$\n",
    "y_k \\geq 0, x_{ij} \\geq 0\n",
    "$$\n",
    "\n",
    "If there exists arbitrage opportunities, this problem will be unbounded. We can add the constraint\n",
    "$$\n",
    "y \\leq 1\n",
    "$$"
   ]
  },
  {
   "cell_type": "code",
   "execution_count": 2,
   "metadata": {},
   "outputs": [
    {
     "data": {
      "text/html": [
       "<div>\n",
       "<style scoped>\n",
       "    .dataframe tbody tr th:only-of-type {\n",
       "        vertical-align: middle;\n",
       "    }\n",
       "\n",
       "    .dataframe tbody tr th {\n",
       "        vertical-align: top;\n",
       "    }\n",
       "\n",
       "    .dataframe thead th {\n",
       "        text-align: right;\n",
       "    }\n",
       "</style>\n",
       "<table border=\"1\" class=\"dataframe\">\n",
       "  <thead>\n",
       "    <tr style=\"text-align: right;\">\n",
       "      <th></th>\n",
       "      <th>Unnamed: 0</th>\n",
       "      <th>USD</th>\n",
       "      <th>EUR</th>\n",
       "      <th>GBP</th>\n",
       "      <th>AUD</th>\n",
       "      <th>JPY</th>\n",
       "    </tr>\n",
       "  </thead>\n",
       "  <tbody>\n",
       "    <tr>\n",
       "      <td>0</td>\n",
       "      <td>USD</td>\n",
       "      <td>1.00000</td>\n",
       "      <td>0.63900</td>\n",
       "      <td>0.53700</td>\n",
       "      <td>1.08350</td>\n",
       "      <td>98.890</td>\n",
       "    </tr>\n",
       "    <tr>\n",
       "      <td>1</td>\n",
       "      <td>EUR</td>\n",
       "      <td>1.56400</td>\n",
       "      <td>1.00000</td>\n",
       "      <td>0.84300</td>\n",
       "      <td>1.69580</td>\n",
       "      <td>154.773</td>\n",
       "    </tr>\n",
       "    <tr>\n",
       "      <td>2</td>\n",
       "      <td>GBP</td>\n",
       "      <td>1.85600</td>\n",
       "      <td>1.18600</td>\n",
       "      <td>1.00000</td>\n",
       "      <td>2.01400</td>\n",
       "      <td>184.122</td>\n",
       "    </tr>\n",
       "    <tr>\n",
       "      <td>3</td>\n",
       "      <td>AUD</td>\n",
       "      <td>0.92230</td>\n",
       "      <td>0.58900</td>\n",
       "      <td>0.49600</td>\n",
       "      <td>1.00000</td>\n",
       "      <td>91.263</td>\n",
       "    </tr>\n",
       "    <tr>\n",
       "      <td>4</td>\n",
       "      <td>JPY</td>\n",
       "      <td>0.01011</td>\n",
       "      <td>0.00645</td>\n",
       "      <td>0.00543</td>\n",
       "      <td>0.01095</td>\n",
       "      <td>1.000</td>\n",
       "    </tr>\n",
       "  </tbody>\n",
       "</table>\n",
       "</div>"
      ],
      "text/plain": [
       "  Unnamed: 0      USD      EUR      GBP      AUD      JPY\n",
       "0        USD  1.00000  0.63900  0.53700  1.08350   98.890\n",
       "1        EUR  1.56400  1.00000  0.84300  1.69580  154.773\n",
       "2        GBP  1.85600  1.18600  1.00000  2.01400  184.122\n",
       "3        AUD  0.92230  0.58900  0.49600  1.00000   91.263\n",
       "4        JPY  0.01011  0.00645  0.00543  0.01095    1.000"
      ]
     },
     "execution_count": 2,
     "metadata": {},
     "output_type": "execute_result"
    }
   ],
   "source": [
    "data = pd.read_csv('Arbitrage.csv')\n",
    "data"
   ]
  },
  {
   "cell_type": "code",
   "execution_count": 3,
   "metadata": {},
   "outputs": [],
   "source": [
    "Currency_rate = data.iloc[0:5,1:6].to_numpy()"
   ]
  },
  {
   "cell_type": "code",
   "execution_count": 4,
   "metadata": {},
   "outputs": [],
   "source": [
    "def arbitrage(C_rate):\n",
    "    m = ro.Model(\"Arbitrage\")\n",
    "\n",
    "    N = len(C_rate)\n",
    "\n",
    "    x = m.dvar( (N,N) ) \n",
    "    y = m.dvar( N )\n",
    "\n",
    "    m.max( y.sum() )\n",
    "\n",
    "    for k in range(N):\n",
    "        m.st( y[k] == sum(C_rate[i,k]*x[i,k] for i in range(N)) - sum(x[k,j] for j in range(N)) )\n",
    "    m.st( x >= 0, \n",
    "         y >= 0, \n",
    "         y <= 1 )\n",
    "\n",
    "    m.solve(grb)\n",
    "\n",
    "#     print( y.get() )\n",
    "\n",
    "    if any( (True for i in y.get() if i == 1) ):\n",
    "        print( \"-------------------------------\")\n",
    "        print( \"There are arbitrage opportunities!\" )\n",
    "    else:\n",
    "        print( \"-------------------------------\")\n",
    "        print( \"NO arbitrage opportunity!\" )"
   ]
  },
  {
   "cell_type": "code",
   "execution_count": 5,
   "metadata": {},
   "outputs": [
    {
     "name": "stdout",
     "output_type": "stream",
     "text": [
      "Using license file C:\\Users\\qinshen.tang\\gurobi.lic\n",
      "Academic license - for non-commercial use only\n",
      "Being solved by Gurobi...\n",
      "Solution status: 2\n",
      "Running time: 0.0000s\n",
      "-------------------------------\n",
      "There are arbitrage opportunities!\n"
     ]
    }
   ],
   "source": [
    "arbitrage( Currency_rate )"
   ]
  },
  {
   "cell_type": "code",
   "execution_count": 6,
   "metadata": {},
   "outputs": [
    {
     "name": "stdout",
     "output_type": "stream",
     "text": [
      "[[1.00000000e+00 9.17852226e-01 1.36126664e+00 6.31904543e+00\n",
      "  1.15236347e+02 1.35392382e+00 7.69274897e+01 7.58375402e-01\n",
      "  1.45580542e+00 7.81587884e+00 4.16943552e+00]\n",
      " [1.08950000e+00 1.00000000e+00 1.48310000e+00 6.88460000e+00\n",
      "  1.25550000e+02 1.47510000e+00 8.38125000e+01 8.26250000e-01\n",
      "  1.58610000e+00 8.51540000e+00 4.54260000e+00]\n",
      " [7.34609939e-01 6.74263367e-01 1.00000000e+00 4.64203358e+00\n",
      "  8.46537658e+01 9.94605893e-01 5.65116985e+01 5.57110107e-01\n",
      "  1.06944913e+00 5.74162228e+00 3.06290877e+00]\n",
      " [1.58251750e-01 1.45251721e-01 2.15422828e-01 1.00000000e+00\n",
      "  1.82363536e+01 2.14260814e-01 1.21739099e+01 1.20014235e-01\n",
      "  2.30383755e-01 1.23687651e+00 6.59820469e-01]\n",
      " [8.67781760e-03 7.96495420e-03 1.18128236e-02 5.48355237e-02\n",
      "  1.00000000e+00 1.17491039e-02 6.67562724e-01 6.58104341e-03\n",
      "  1.26332139e-02 6.78247710e-02 3.61816010e-02]\n",
      " [7.38593994e-01 6.77920141e-01 1.00542336e+00 4.66720900e+00\n",
      "  8.51128737e+01 1.00000000e+00 5.68181818e+01 5.60131517e-01\n",
      "  1.07524914e+00 5.77276117e+00 3.07952003e+00]\n",
      " [1.29992543e-02 1.19313945e-02 1.76954512e-02 8.21428784e-02\n",
      "  1.49798658e+00 1.76000000e-02 1.00000000e+00 9.85831469e-03\n",
      "  1.89243848e-02 1.01600597e-01 5.41995526e-02]\n",
      " [1.31860817e+00 1.21028744e+00 1.79497731e+00 8.33234493e+00\n",
      "  1.51951589e+02 1.78529501e+00 1.01437216e+02 1.00000000e+00\n",
      "  1.91963691e+00 1.03060817e+01 5.49785174e+00]\n",
      " [6.86904987e-01 6.30477271e-01 9.35060841e-01 4.34058382e+00\n",
      "  7.91564214e+01 9.30017023e-01 5.28418763e+01 5.20931845e-01\n",
      "  1.00000000e+00 5.36876616e+00 2.86400605e+00]\n",
      " [1.27944665e-01 1.17434296e-01 1.74166804e-01 8.08488151e-01\n",
      "  1.47438758e+01 1.73227329e-01 9.84246189e+00 9.70300867e-02\n",
      "  1.86262536e-01 1.00000000e+00 5.33457031e-01]\n",
      " [2.39840620e-01 2.20138247e-01 3.26487034e-01 1.51556377e+00\n",
      "  2.76383569e+01 3.24725928e-01 1.84503368e+01 1.81889226e-01\n",
      "  3.49161273e-01 1.87456523e+00 1.00000000e+00]]\n"
     ]
    }
   ],
   "source": [
    "from forex_python.converter import CurrencyRates                    \n",
    "\n",
    "Currency = ['USD', 'EUR', 'SGD','CNY','JPY','AUD','INR','GBP','NZD','HKD', 'MYR']\n",
    "CR_fun = CurrencyRates()   \n",
    "N = len(Currency)\n",
    "CR = np.zeros( (N,N) )\n",
    "\n",
    "for n in range(N):\n",
    "    for m in range(N):\n",
    "        CR[n,m] = CR_fun.get_rate(Currency[n], Currency[m])\n",
    "        \n",
    "print( CR )"
   ]
  },
  {
   "cell_type": "code",
   "execution_count": 7,
   "metadata": {},
   "outputs": [
    {
     "name": "stdout",
     "output_type": "stream",
     "text": [
      "Being solved by Gurobi...\n",
      "Solution status: 2\n",
      "Running time: 0.0000s\n",
      "-------------------------------\n",
      "NO arbitrage opportunity!\n"
     ]
    }
   ],
   "source": [
    "arbitrage(CR)"
   ]
  },
  {
   "cell_type": "markdown",
   "metadata": {},
   "source": [
    "## Currency exchange\n",
    "\n",
    "Suppose that there are $ N $ available currencies, and assume that one unit of currency $ i $ can be exchanged for $ r_{ij} $ units of currency $ j $. (Naturally, we assume that $ r_{ij} > 0 $.) There are also certain regulations that impose a limit $ u_i $ on the total amount of currency $ i $ that can be exchanged on any given day. Suppose that we start with $ B $ units of currency $ 1 $ and that we would like to maximize the number of units of currency $ N $ that we end up with at the end of the day, through a sequence of currency transactions. Provide a linear programming formulation of this problem. Assume that for any sequence $ i_1,\\cdots,i_k $ of currencies, we have $ r_{i_1i_2}r_{i_2i_3}\\dots r_{i_{k-1}i_k}r_{i_ki_1} \\leq 1 $, which means that wealth cannot be multiplied by going through a cycle of currencies.\n",
    "\n",
    "We introduce decision variables $ x_{ij} $ for each combination of $ i = 1,2,\\cdots,N $ and $ j = 1,2,\\cdots,N $ to denote the amount of currency $i$ exchanged for currency $j$.\n",
    "\t\t\n",
    "The first class of constraints follows from the fact that there are no profitable cycles of currencies. Therefore, there is no reason to exchange currency from $N$ to any other currency, or exchange from other currency to $1$. Therefore, we can set $ x_{Ni} = 0, i = 1,2,\\cdots,N $ and $ x_{i1} = 0, i = 1,2,\\cdots,N $.\n",
    "\t\t\n",
    "The second class of constraints models that for each currency $i$, the amount that can be exchanged is limited by $u_i$, hence\n",
    "\t\t$$\n",
    "\t\t\\sum_{j=1}^N x_{ij} \\leq u_i, \\quad i = 1,2,\\cdots,N.\n",
    "\t\t$$\n",
    "\t\t\n",
    "The third class of constraints models that we cannot exchange more currency from $i$ to other currencies than we exchanged to $i$ before. We have\n",
    "\t\t$$\n",
    "\t\t\\sum_{j=1}^N r_{ji}x_{ji} \\geq \\sum_{k=1}^N x_{ik}, \\quad i = 2,\\cdots,N.\n",
    "\t\t$$\n",
    "\t\t\n",
    "The forth constraint models that the amount of currency we can exchange from $1$ to other currencies is naturally upper bounded by $B$\n",
    "\t\t$$\n",
    "\t\t\\sum_{j=1}^N x_{1j} \\leq B\n",
    "\t\t$$\n",
    "\t\t\n",
    "Finally, the amount of currency $N$ is given by\n",
    "\t\t$$\n",
    "\t\t\\sum_{j=1}^N r_{jN}x_{jN},\n",
    "\t\t$$\n",
    "which is the objective we wish to maximize.\n",
    "\t\t\n",
    "In summary, we get the following linear programming for this problem\n",
    "\\begin{align}\n",
    "\t\\max \\quad & \\sum_{j=1}^N r_{jN}x_{jN} \\\\\n",
    "\t\\text{s.t.} \\quad\n",
    "\t& \\sum_{j=1}^N x_{ij} \\leq u_i, \\quad & i = 1,2,\\cdots,N \\\\\n",
    "\t& \\sum_{j=1}^N r_{ji}x_{ji} \\geq \\sum_{k=1}^N x_{ik}, \\quad & i = 2,\\cdots,N \\\\\n",
    "\t& \\sum_{j=1}^N x_{1j} \\leq B \\\\\n",
    "\t& x_{Ni} = 0,  x_{i1} = 0, \\quad & i = 1,2,\\cdots,N  \\\\\n",
    "\t& x_{ij} \\geq 0, \\quad & i = 1,2,\\cdots,N, j = 1,2,\\cdots,N \\\\\n",
    "\\end{align}"
   ]
  },
  {
   "cell_type": "code",
   "execution_count": 8,
   "metadata": {},
   "outputs": [],
   "source": [
    "def Currency_exchange( C_rate, B, u ):\n",
    "    m = ro.Model(\"Currency Exchange\")\n",
    "\n",
    "    N = len( C_rate )\n",
    "    x = m.dvar( (N,N) ) \n",
    "\n",
    "    m.max( C_rate[:,N - 1] @ x[:, N - 1] )\n",
    "    \n",
    "    m.st( x.sum(axis = 1) <= u )\n",
    "    \n",
    "    m.st( sum(C_rate[j,i]*x[j,i] for j in range(N)) >= sum(x[i,k] for k in range(N)) for i in range(1,N) )\n",
    "    \n",
    "    m.st( x[0,:].sum() <= B )\n",
    "    \n",
    "    m.st( x[N-1,:] == 0,\n",
    "        x[:,0] == 0,\n",
    "        x >= 0)\n",
    "\n",
    "    m.solve(grb)\n",
    "\n",
    "#     print( x.get() )\n",
    "    \n",
    "    print( \"-------------------------------\")\n",
    "    print( \"You will have\", m.get(), \"currency N!\" )"
   ]
  },
  {
   "cell_type": "code",
   "execution_count": 10,
   "metadata": {},
   "outputs": [
    {
     "name": "stdout",
     "output_type": "stream",
     "text": [
      "Being solved by Gurobi...\n",
      "Solution status: 2\n",
      "Running time: 0.0000s\n",
      "-------------------------------\n",
      "You will have 43812.341002618334 currency N!\n"
     ]
    }
   ],
   "source": [
    "B = 100000\n",
    "N = len( CR )\n",
    "np.random.seed(3)\n",
    "u = np.random.uniform( 5000, 15000, N)\n",
    "Currency_exchange( CR, B, u )"
   ]
  },
  {
   "cell_type": "code",
   "execution_count": 56,
   "metadata": {},
   "outputs": [
    {
     "data": {
      "text/plain": [
       "418547.24964739074"
      ]
     },
     "execution_count": 56,
     "metadata": {},
     "output_type": "execute_result"
    }
   ],
   "source": [
    "B*CR[0,N-1]"
   ]
  },
  {
   "cell_type": "code",
   "execution_count": null,
   "metadata": {},
   "outputs": [],
   "source": []
  },
  {
   "cell_type": "code",
   "execution_count": null,
   "metadata": {},
   "outputs": [],
   "source": []
  }
 ],
 "metadata": {
  "kernelspec": {
   "display_name": "Python 3",
   "language": "python",
   "name": "python3"
  },
  "language_info": {
   "codemirror_mode": {
    "name": "ipython",
    "version": 3
   },
   "file_extension": ".py",
   "mimetype": "text/x-python",
   "name": "python",
   "nbconvert_exporter": "python",
   "pygments_lexer": "ipython3",
   "version": "3.7.4"
  }
 },
 "nbformat": 4,
 "nbformat_minor": 4
}
