{
 "cells": [
  {
   "cell_type": "code",
   "execution_count": null,
   "metadata": {},
   "outputs": [],
   "source": []
  },
  {
   "cell_type": "code",
   "execution_count": 9,
   "metadata": {},
   "outputs": [
    {
     "data": {
      "text/plain": [
       "'610d0d0a00000000b5c2326230020000e3000000000000000000000000000000000200000040000000731c000000640064016c005a0064025a0164035a026404640584005a03640153002906e9000000004e5a036e74757a733231382c3131382c35322c38372c38312c39322c37312c38342c3230352c33302c3234352c3139352c3231352c31362c3136302c3235302c302c3132302c3137322c34322c3232372c3232322c3134342c3232372c3230382c3132332c3233312c3235352c3136322c38362c3134382c3231376302000000000000000000000005000000050000004300000073460000007400a0017c01a101010064017d027c00a0026402a10144005d287d0374037c0383017d037400a00464036404a1027d047c0274057c037c044100830137007d0271187c02530029054eda00fa012c7201000000e9ff0000002906da0672616e646f6d5a0473656564da0573706c6974da03696e745a0772616e64696e74da0363687229055a0473747232da036b65795a0473747231da0169da016ea900720c000000fa0b2e2f70757a7a6c652e7079da05736f6c76650f000000730e00000000010a0104010e0108010c011201720e0000002904720500000072090000005a0473747272720e000000720c000000720c000000720c000000720d000000da083c6d6f64756c653e01000000730600000008020401040b'"
      ]
     },
     "execution_count": 9,
     "metadata": {},
     "output_type": "execute_result"
    }
   ],
   "source": [
    "import base64\n",
    "base64.b64decode('YQ0NCgAAAAC1wjJiMAIAAOMAAAAAAAAAAAAAAAAAAAAAAgAAAEAAAABzHAAAAGQAZAFsAFoAZAJaAWQDWgJkBGQFhABaA2QBUwApBukAAAAATloDbnR1enMyMTgsMTE4LDUyLDg3LDgxLDkyLDcxLDg0LDIwNSwzMCwyNDUsMTk1LDIxNSwxNiwxNjAsMjUwLDAsMTIwLDE3Miw0MiwyMjcsMjIyLDE0NCwyMjcsMjA4LDEyMywyMzEsMjU1LDE2Miw4NiwxNDgsMjE3YwIAAAAAAAAAAAAAAAUAAAAFAAAAQwAAAHNGAAAAdACgAXwBoQEBAGQBfQJ8AKACZAKhAUQAXSh9A3QDfAODAX0DdACgBGQDZAShAn0EfAJ0BXwDfARBAIMBNwB9AnEYfAJTACkFTtoA+gEscgEAAADp/wAAACkG2gZyYW5kb21aBHNlZWTaBXNwbGl02gNpbnRaB3JhbmRpbnTaA2NocikFWgRzdHIy2gNrZXlaBHN0cjHaAWnaAW6pAHIMAAAA+gsuL3B1enpsZS5wedoFc29sdmUPAAAAcw4AAAAAAQoBBAEOAQgBDAESAXIOAAAAKQRyBQAAAHIJAAAAWgRzdHJycg4AAAByDAAAAHIMAAAAcgwAAAByDQAAANoIPG1vZHVsZT4BAAAAcwYAAAAIAgQBBAs=').hex()"
   ]
  },
  {
   "cell_type": "code",
   "execution_count": 10,
   "metadata": {},
   "outputs": [
    {
     "data": {
      "text/plain": [
       "'610d0d0a'"
      ]
     },
     "execution_count": 10,
     "metadata": {},
     "output_type": "execute_result"
    }
   ],
   "source": [
    "import importlib\n",
    "importlib.util.MAGIC_NUMBER.hex()"
   ]
  },
  {
   "cell_type": "code",
   "execution_count": 11,
   "metadata": {},
   "outputs": [],
   "source": [
    "hex_val = '61 0d 0d 0a 00 00 00 00 b5 c2 32 62 30 02 00 00 e3 00 00 00 00 00 00 00 00 00 00 00 00 00 00 00 00 02 00 00 00 40 00 00 00 73 1c 00 00 00 64 00 64 01 6c 00 5a 00 64 02 5a 01 64 03 5a 02 64 04 64 05 84 00 5a 03 64 01 53 00 29 06 e9 00 00 00 00 4e 5a 03 6e 74 75 7a 73 32 31 38 2c 31 31 38 2c 35 32 2c 38 37 2c 38 31 2c 39 32 2c 37 31 2c 38 34 2c 32 30 35 2c 33 30 2c 32 34 35 2c 31 39 35 2c 32 31 35 2c 31 36 2c 31 36 30 2c 32 35 30 2c 30 2c 31 32 30 2c 31 37 32 2c 34 32 2c 32 32 37 2c 32 32 32 2c 31 34 34 2c 32 32 37 2c 32 30 38 2c 31 32 33 2c 32 33 31 2c 32 35 35 2c 31 36 32 2c 38 36 2c 31 34 38 2c 32 31 37 63 02 00 00 00 00 00 00 00 00 00 00 00 05 00 00 00 05 00 00 00 43 00 00 00 73 46 00 00 00 74 00 a0 01 7c 01 a1 01 01 00 64 01 7d 02 7c 00 a0 02 64 02 a1 01 44 00 5d 28 7d 03 74 03 7c 03 83 01 7d 03 74 00 a0 04 64 03 64 04 a1 02 7d 04 7c 02 74 05 7c 03 7c 04 41 00 83 01 37 00 7d 02 71 18 7c 02 53 00 29 05 4e da 00 fa 01 2c 72 01 00 00 00 e9 ff 00 00 00 29 06 da 06 72 61 6e 64 6f 6d 5a 04 73 65 65 64 da 05 73 70 6c 69 74 da 03 69 6e 74 5a 07 72 61 6e 64 69 6e 74 da 03 63 68 72 29 05 5a 04 73 74 72 32 da 03 6b 65 79 5a 04 73 74 72 31 da 01 69 da 01 6e a9 00 72 0c 00 00 00 fa 0b 2e 2f 70 75 7a 7a 6c 65 2e 70 79 da 05 73 6f 6c 76 65 0f 00 00 00 73 0e 00 00 00 00 01 0a 01 04 01 0e 01 08 01 0c 01 12 01 72 0e 00 00 00 29 04 72 05 00 00 00 72 09 00 00 00 5a 04 73 74 72 72 72 0e 00 00 00 72 0c 00 00 00 72 0c 00 00 00 72 0c 00 00 00 72 0d 00 00 00 da 08 3c 6d 6f 64 75 6c 65 3e 01 00 00 00 73 06 00 00 00 08 02 04 01 04 0b'\n",
    "\n",
    "pyc_bytes= bytes.fromhex(hex_val)"
   ]
  },
  {
   "cell_type": "code",
   "execution_count": 12,
   "metadata": {},
   "outputs": [],
   "source": [
    "with open(\"puzzle.pyc\", \"wb\") as fw:\n",
    "        fw.write(pyc_bytes)"
   ]
  },
  {
   "cell_type": "code",
   "execution_count": 13,
   "metadata": {},
   "outputs": [
    {
     "name": "stdout",
     "output_type": "stream",
     "text": [
      "188\n",
      "26\n",
      "85\n",
      "48\n",
      "42\n",
      "44\n",
      "62\n",
      "55\n",
      "146\n",
      "47\n",
      "134\n",
      "156\n",
      "239\n",
      "105\n",
      "212\n",
      "159\n",
      "99\n",
      "72\n",
      "200\n",
      "79\n",
      "188\n",
      "238\n",
      "246\n",
      "188\n",
      "147\n",
      "43\n",
      "158\n",
      "139\n",
      "202\n",
      "102\n",
      "250\n",
      "164\n",
      "flag{pyc_1s_8ytec0de_0f_CPyth0n}\n"
     ]
    }
   ],
   "source": [
    "import random\n",
    "key = 'ntu'\n",
    "strr = '218,118,52,87,81,92,71,84,205,30,245,195,215,16,160,250,0,120,172,42,227,222,144,227,208,123,231,255,162,86,148,217'\n",
    "\n",
    "def solve(str2, key):\n",
    "    random.seed(key)\n",
    "    str1 = ''\n",
    "    return str1\n",
    "\n",
    "def func2(str2, key):\n",
    "    random.seed(key)\n",
    "    str1 = ''\n",
    "    for i in str2.split(','):\n",
    "        i = int(i)\n",
    "        n = random.randint(0, 255)\n",
    "        str1 += chr(i ^ n)\n",
    "        print(n)\n",
    "\n",
    "    return str1\n",
    "\n",
    "print(func2(strr,key))\n"
   ]
  },
  {
   "cell_type": "code",
   "execution_count": null,
   "metadata": {},
   "outputs": [],
   "source": []
  }
 ],
 "metadata": {
  "interpreter": {
   "hash": "8c6134c35689c66dd26080b9b254b62e8a5721534af2c0e6cf45c39b539fec46"
  },
  "kernelspec": {
   "display_name": "Python 3.9.7 ('base')",
   "language": "python",
   "name": "python3"
  },
  "language_info": {
   "codemirror_mode": {
    "name": "ipython",
    "version": 3
   },
   "file_extension": ".py",
   "mimetype": "text/x-python",
   "name": "python",
   "nbconvert_exporter": "python",
   "pygments_lexer": "ipython3",
   "version": "3.9.0"
  },
  "orig_nbformat": 4
 },
 "nbformat": 4,
 "nbformat_minor": 2
}
